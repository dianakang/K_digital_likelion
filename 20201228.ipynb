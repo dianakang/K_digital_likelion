{
  "nbformat": 4,
  "nbformat_minor": 0,
  "metadata": {
    "colab": {
      "name": "20201228.ipynb",
      "provenance": [],
      "mount_file_id": "1sC5iIJ3TtE99pmrrKPKTUQ7Xt5FjOJrh",
      "authorship_tag": "ABX9TyPGsffc0+mjCX5ByBdwm45Y",
      "include_colab_link": true
    },
    "kernelspec": {
      "name": "python3",
      "display_name": "Python 3"
    }
  },
  "cells": [
    {
      "cell_type": "markdown",
      "metadata": {
        "id": "view-in-github",
        "colab_type": "text"
      },
      "source": [
        "<a href=\"https://colab.research.google.com/github/dianakang/K_digital_likelion/blob/master/20201228.ipynb\" target=\"_parent\"><img src=\"https://colab.research.google.com/assets/colab-badge.svg\" alt=\"Open In Colab\"/></a>"
      ]
    },
    {
      "cell_type": "markdown",
      "metadata": {
        "id": "ipKCGcgE3dVq"
      },
      "source": [
        "# 9.1 클래스"
      ]
    },
    {
      "cell_type": "code",
      "metadata": {
        "id": "azlJ4ooX3pM5"
      },
      "source": [
        "# 클래스 정의\r\n",
        "## 함수와 변수가 똑같은 구조를 계속 여러번 써야하니깐 불편함 -> 이걸 하나로 묶어서 설계도를 만들자!"
      ],
      "execution_count": null,
      "outputs": []
    },
    {
      "cell_type": "code",
      "metadata": {
        "id": "YyDlnoHX33BI"
      },
      "source": [
        "# 클래스 쓰는 방법\r\n",
        "## 1. class를 입력하고\r\n",
        "## 2. 대문자로 시작하는 클래스의 이름을 작성\r\n",
        "\r\n",
        "## 3. 안에 들어갈 함수와 변수 설정 / def __init__ -> 처음 클래스가 만들어질 때 값을 설정\r\n",
        "## 4. 그 밑에는 함수가 있고, 그 함수에 self가 들어가 있음 -> 초기화 함수"
      ],
      "execution_count": null,
      "outputs": []
    },
    {
      "cell_type": "code",
      "metadata": {
        "id": "SNmBkZgc5DsQ"
      },
      "source": [
        "# class 클래스명:         --> ※ 주의: 첫 글자는 대문자\r\n",
        "#     변수명 = 값\r\n",
        "#     변수명 = 값\r\n",
        "#     def 함수명(self, 전달값_변수명, ...):\r\n",
        "#         코드 1\r\n",
        "#         코드 2"
      ],
      "execution_count": null,
      "outputs": []
    },
    {
      "cell_type": "code",
      "metadata": {
        "colab": {
          "base_uri": "https://localhost:8080/",
          "height": 35
        },
        "id": "Fq33RlpP0EqV",
        "outputId": "c77cad06-a3b9-4a4c-be18-e2148826dd3e"
      },
      "source": [
        "import os\r\n",
        "os.chdir(\"/content/drive/MyDrive/4주차/dataset\")   # chdir = change(변경해라) + dir(파일경로)\r\n",
        "os.getcwd()        # getcwd() = 파일 경로 확인 메서드"
      ],
      "execution_count": 17,
      "outputs": [
        {
          "output_type": "execute_result",
          "data": {
            "application/vnd.google.colaboratory.intrinsic+json": {
              "type": "string"
            },
            "text/plain": [
              "'/content/drive/MyDrive/4주차/dataset'"
            ]
          },
          "metadata": {
            "tags": []
          },
          "execution_count": 17
        }
      ]
    },
    {
      "cell_type": "code",
      "metadata": {
        "colab": {
          "base_uri": "https://localhost:8080/",
          "height": 35
        },
        "id": "_BBJZDR61Jf6",
        "outputId": "de3bc798-cb35-4f09-de7d-cb8d88b4d625"
      },
      "source": [
        "os.getcwd() # getcwd() = 파일 경로 확인 메서드"
      ],
      "execution_count": 18,
      "outputs": [
        {
          "output_type": "execute_result",
          "data": {
            "application/vnd.google.colaboratory.intrinsic+json": {
              "type": "string"
            },
            "text/plain": [
              "'/content/drive/MyDrive/4주차/dataset'"
            ]
          },
          "metadata": {
            "tags": []
          },
          "execution_count": 18
        }
      ]
    },
    {
      "cell_type": "code",
      "metadata": {
        "colab": {
          "base_uri": "https://localhost:8080/"
        },
        "id": "vAmGS8DC0dw9",
        "outputId": "39732043-75f2-410c-c578-bd21f09101ca"
      },
      "source": [
        "from my_email import Email\r\n",
        "\r\n",
        "e = Email()\r\n",
        "e.sender = \"younjung952@likelion.org\"\r\n",
        "recv_list = ['younjung952@gmail.com', 'younjung952@hufs-gsuite.kr','dianakang0106@gmail.com']\r\n",
        "\r\n",
        "for recv in recv_list:\r\n",
        "    e.send_mail(recv, \"Welcome!\",\"This is contents\")"
      ],
      "execution_count": 19,
      "outputs": [
        {
          "output_type": "stream",
          "text": [
            "From:\tyounjung952@likelion.org\n",
            "To:\tyounjung952@gmail.com\n",
            "Subject:Welcome!\n",
            "Contents\n",
            "This is contents\n",
            "--------------------\n",
            "From:\tyounjung952@likelion.org\n",
            "To:\tyounjung952@hufs-gsuite.kr\n",
            "Subject:Welcome!\n",
            "Contents\n",
            "This is contents\n",
            "--------------------\n",
            "From:\tyounjung952@likelion.org\n",
            "To:\tdianakang0106@gmail.com\n",
            "Subject:Welcome!\n",
            "Contents\n",
            "This is contents\n",
            "--------------------\n"
          ],
          "name": "stdout"
        }
      ]
    },
    {
      "cell_type": "code",
      "metadata": {
        "id": "pENgdfKGs3T9",
        "colab": {
          "base_uri": "https://localhost:8080/"
        },
        "outputId": "b420f48d-b26c-4890-e066-728374b83bba"
      },
      "source": [
        "# 케이틀린 / 빠른 평타 기반 / 총을 쏠 수 있음.\r\n",
        "name = \"케이틀린\"\r\n",
        "hp = 400\r\n",
        "damage = 55\r\n",
        "\r\n",
        "print(\"{0} 챔피언이 소환사의 협곡에 참여하였습니다.\".format(name))\r\n",
        "print(\"체력{0}, 공격력{1} \\n\".format(hp, damage))"
      ],
      "execution_count": 20,
      "outputs": [
        {
          "output_type": "stream",
          "text": [
            "케이틀린 챔피언이 소환사의 협곡에 참여하였습니다.\n",
            "체력400, 공격력55 \n",
            "\n"
          ],
          "name": "stdout"
        }
      ]
    },
    {
      "cell_type": "code",
      "metadata": {
        "colab": {
          "base_uri": "https://localhost:8080/"
        },
        "id": "tyupbhbREKNg",
        "outputId": "38cc544e-e5a8-4cf2-9a46-71a12a9289c6"
      },
      "source": [
        "# 진 / 느린 평타 기반 / 강력한 총을 쏠 수 있음\r\n",
        "J_name = \"진\"\r\n",
        "J_hp = 550\r\n",
        "J_damage = 70\r\n",
        "\r\n",
        "print(\"{0} 챔피언이 소환사의 협곡에 참여하였습니다.\".format(J_name))\r\n",
        "print(\"체력{0}, 공격력{1} \\n\".format(J_hp, J_damage))"
      ],
      "execution_count": 32,
      "outputs": [
        {
          "output_type": "stream",
          "text": [
            "진 챔피언이 소환사의 협곡에 참여하였습니다.\n",
            "체력550, 공격력70 \n",
            "\n"
          ],
          "name": "stdout"
        }
      ]
    },
    {
      "cell_type": "code",
      "metadata": {
        "colab": {
          "base_uri": "https://localhost:8080/"
        },
        "id": "nHlGuqfxEkcw",
        "outputId": "dbcc207a-72e6-45a6-d79a-2e180a63ab09"
      },
      "source": [
        "def attack(name, location, damage):\r\n",
        "  print(\"{0} : {1} 방향으로 상대 챔피언을 공격합니다. [공격력 {2}\".format(\\\r\n",
        "                                                        name,location,damage))\r\n",
        "attack(name, \"바텀\", damage)\r\n",
        "attack(J_name, \"바텀\", J_damage)\r\n"
      ],
      "execution_count": 22,
      "outputs": [
        {
          "output_type": "stream",
          "text": [
            "케이틀린 : 바텀 방향으로 상대 챔피언을 공격합니다. [공격력 55\n",
            "진 : 바텀 방향으로 상대 챔피언을 공격합니다. [공격력 70\n"
          ],
          "name": "stdout"
        }
      ]
    },
    {
      "cell_type": "code",
      "metadata": {
        "colab": {
          "base_uri": "https://localhost:8080/"
        },
        "id": "mlR8dIMxFQUk",
        "outputId": "3e293673-5a9c-43fd-a138-136da8d29077"
      },
      "source": [
        "J_name_2 = \"알엠\"\r\n",
        "J_hp_2 = 600\r\n",
        "J_damage_2 = 80\r\n",
        "\r\n",
        "attack(name, \"바텀\", damage)\r\n",
        "attack(J_name, \"바텀\", J_damage)\r\n",
        "attack(J_name_2, \"바텀\", J_damage_2)"
      ],
      "execution_count": 34,
      "outputs": [
        {
          "output_type": "stream",
          "text": [
            "케이틀린 : 바텀 방향으로 상대 챔피언을 공격합니다. [공격력 55\n",
            "진 : 바텀 방향으로 상대 챔피언을 공격합니다. [공격력 70\n",
            "알엠 : 바텀 방향으로 상대 챔피언을 공격합니다. [공격력 80\n"
          ],
          "name": "stdout"
        }
      ]
    },
    {
      "cell_type": "code",
      "metadata": {
        "colab": {
          "base_uri": "https://localhost:8080/"
        },
        "id": "mw3CE-LrFvS2",
        "outputId": "75cf9c38-4a2f-4927-fe5b-0155321158a3"
      },
      "source": [
        "class Unit:\r\n",
        "  def __init__(self, name, hp, damage):\r\n",
        "    self.name = name\r\n",
        "    self.hp = hp\r\n",
        "    self.damage = damage\r\n",
        "    print(\"{0} 챔피언이 소환사의 협곡에 참여하였습니다.\". format(self.name))\r\n",
        "    print(\"체력 {0}, 공격력 {1}\".format(self.hp, self.damage))\r\n",
        "\r\n",
        "Jhin1 = Unit(\"진\", 550, 70)\r\n",
        "Jhin2 = Unit(\"알엠\", 600, 80)\r\n",
        "Caitlyn = Unit(\"케이틀린\", 400, 55)\r\n",
        "\r\n",
        "## 클래스에는 꼭 입력해야할 변수를 모두 입력해야 한다. \r\n",
        "## 예를 들어, \"진\", 550, 70 중 하나라도 빠뜨린다면 에러를 출력한다."
      ],
      "execution_count": 36,
      "outputs": [
        {
          "output_type": "stream",
          "text": [
            "진 챔피언이 소환사의 협곡에 참여하였습니다.\n",
            "체력 550, 공격력 70\n",
            "알엠 챔피언이 소환사의 협곡에 참여하였습니다.\n",
            "체력 600, 공격력 80\n",
            "케이틀린 챔피언이 소환사의 협곡에 참여하였습니다.\n",
            "체력 400, 공격력 55\n"
          ],
          "name": "stdout"
        }
      ]
    },
    {
      "cell_type": "code",
      "metadata": {
        "id": "OLhSRNAoF4PZ",
        "colab": {
          "base_uri": "https://localhost:8080/"
        },
        "outputId": "2a1c5f41-998c-407c-f1f8-81ea7773b0f2"
      },
      "source": [
        "# 유미, 서포터 챔피언, 숨기 기능(상대방이 공격 불가능)\r\n",
        "Yuumi_1 = Unit(\"유미\", 300, 10)\r\n",
        "print(\"챔피언 이름: {0}, 공격력 : {1}\".format(Yuumi_1.name, Yuumi_1.damage))"
      ],
      "execution_count": 26,
      "outputs": [
        {
          "output_type": "stream",
          "text": [
            "유미 챔피언이 소환사의 협곡에 참여하였습니다.\n",
            "체력 300, 공격력 10\n",
            "챔피언 이름: 유미, 공격력 : 10\n"
          ],
          "name": "stdout"
        }
      ]
    },
    {
      "cell_type": "code",
      "metadata": {
        "id": "s4MWL13KF4dC",
        "colab": {
          "base_uri": "https://localhost:8080/"
        },
        "outputId": "353684b5-63d2-415a-c378-40d5f6923e57"
      },
      "source": [
        "# 서포팅 상태 : 아군 챔피언에게 붙어있기에 상대방은 공격 불가능\r\n",
        "Yuumi_2 = Unit(\"유미\", 300, 10)\r\n",
        "Yuumi_2.impossible_to_attack = True  \r\n",
        "## 클래스 변수를 생성하는 과정에서 기존에 없던 매개변수(impossible_to_attack)를 생성할 수도 있다.\r\n",
        "\r\n",
        "if Yuumi_2.impossible_to_attack == True:\r\n",
        "  print(\"{0}은(는) 현재 서포팅 상태입니다.\". format(Yuumi_2.name))  # 서포팅 = 공격X"
      ],
      "execution_count": 28,
      "outputs": [
        {
          "output_type": "stream",
          "text": [
            "유미 챔피언이 소환사의 협곡에 참여하였습니다.\n",
            "체력 300, 공격력 10\n",
            "유미은(는) 현재 서포팅 상태입니다.\n"
          ],
          "name": "stdout"
        }
      ]
    },
    {
      "cell_type": "code",
      "metadata": {
        "id": "IRRiAkvGF4pF",
        "colab": {
          "base_uri": "https://localhost:8080/"
        },
        "outputId": "1eec0d56-34c0-4660-8e16-8d117f722af4"
      },
      "source": [
        "class AttackUnit:\r\n",
        "  def __init__(self, name, hp, damage):\r\n",
        "    self.name = name  # 초기화\r\n",
        "    self.hp = hp   # hp = 체력\r\n",
        "    self.damage = damage\r\n",
        "\r\n",
        "  def attack(self, location):   # 공격기능을 수행하는 메서드(함수)\r\n",
        "    print(\"{0} : {1} 방향으로 상대방 챔피언을 공격합니다. [공격력 {2}] \"\\\r\n",
        "          .format(self.name, location, self.damage))  \r\n",
        "  ## attack(self, location)에서 이미 정의했으므로 self를 써줄 필요가 없다.\r\n",
        "  \r\n",
        "  def damaged(self, damage):   # 공격을 입는 경우에 대한 메서드\r\n",
        "    print(\"{0} : {1} 데미지를 입었습니다. \". format(self.name, damage))\r\n",
        "    self.hp -= damage   # self.hp = self.hp - damage\r\n",
        "    print(\"{0} : 현재 체력은 {1} 입니다.\". format(self.name, self.hp))\r\n",
        "    if self.hp <= 0:     # 게임에서 hp(체력)가 0이면 죽음\r\n",
        "      print(\"{0} : 처치당하였습니다.\".format(self.name))\r\n",
        "\r\n",
        "# 카이사, 빠른 평타 기반, 빠르게 이동가능\r\n",
        "KaiSa = AttackUnit(\"카이사\", 450, 55)\r\n",
        "KaiSa.attack(\"탑\")\r\n",
        "\r\n",
        "# 상대 챔피언에게 공격을 2번 받음\r\n",
        "KaiSa.damaged(250)\r\n",
        "KaiSa.damaged(250)\r\n",
        "\r\n",
        "     "
      ],
      "execution_count": 29,
      "outputs": [
        {
          "output_type": "stream",
          "text": [
            "카이사 : 탑 방향으로 상대방 챔피언을 공격합니다. [공격력 55] \n",
            "카이사 : 250 데미지를 입었습니다. \n",
            "카이사 : 현재 체력은 200 입니다.\n",
            "카이사 : 250 데미지를 입었습니다. \n",
            "카이사 : 현재 체력은 -50 입니다.\n",
            "카이사 : 처치당하였습니다.\n"
          ],
          "name": "stdout"
        }
      ]
    }
  ]
}