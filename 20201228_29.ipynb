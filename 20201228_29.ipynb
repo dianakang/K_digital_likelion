{
  "nbformat": 4,
  "nbformat_minor": 0,
  "metadata": {
    "colab": {
      "name": "20201228-29.ipynb",
      "provenance": [],
      "toc_visible": true,
      "mount_file_id": "1sC5iIJ3TtE99pmrrKPKTUQ7Xt5FjOJrh",
      "authorship_tag": "ABX9TyPUtk9NnkNM655vFFwZwYc0",
      "include_colab_link": true
    },
    "kernelspec": {
      "name": "python3",
      "display_name": "Python 3"
    }
  },
  "cells": [
    {
      "cell_type": "markdown",
      "metadata": {
        "id": "view-in-github",
        "colab_type": "text"
      },
      "source": [
        "<a href=\"https://colab.research.google.com/github/dianakang/K_digital_likelion/blob/master/20201228_29.ipynb\" target=\"_parent\"><img src=\"https://colab.research.google.com/assets/colab-badge.svg\" alt=\"Open In Colab\"/></a>"
      ]
    },
    {
      "cell_type": "markdown",
      "metadata": {
        "id": "ipKCGcgE3dVq"
      },
      "source": [
        "# 9.1 클래스"
      ]
    },
    {
      "cell_type": "markdown",
      "metadata": {
        "id": "9mIAyJeiZ8lL"
      },
      "source": [
        "## 9.1.1 클래스 정의"
      ]
    },
    {
      "cell_type": "code",
      "metadata": {
        "id": "azlJ4ooX3pM5"
      },
      "source": [
        "## 함수와 변수가 똑같은 구조를 계속 여러번 써야하니깐 불편함 -> 이걸 하나로 묶어서 설계도를 만들자!"
      ],
      "execution_count": 1,
      "outputs": []
    },
    {
      "cell_type": "code",
      "metadata": {
        "id": "YyDlnoHX33BI"
      },
      "source": [
        "# 클래스 쓰는 방법\r\n",
        "## 1. class를 입력하고\r\n",
        "## 2. 대문자로 시작하는 클래스의 이름을 작성\r\n",
        "\r\n",
        "## 3. 안에 들어갈 함수와 변수 설정 / def __init__ -> 처음 클래스가 만들어질 때 값을 설정\r\n",
        "## 4. 그 밑에는 함수가 있고, 그 함수에 self가 들어가 있음 -> 초기화 함수"
      ],
      "execution_count": 2,
      "outputs": []
    },
    {
      "cell_type": "code",
      "metadata": {
        "id": "SNmBkZgc5DsQ"
      },
      "source": [
        "# class 클래스명:         --> ※ 주의: 첫 글자는 대문자\r\n",
        "#     변수명 = 값\r\n",
        "#     변수명 = 값\r\n",
        "#     def 함수명(self, 전달값_변수명, ...):\r\n",
        "#         코드 1\r\n",
        "#         코드 2"
      ],
      "execution_count": 3,
      "outputs": []
    },
    {
      "cell_type": "code",
      "metadata": {
        "colab": {
          "base_uri": "https://localhost:8080/",
          "height": 35
        },
        "id": "Fq33RlpP0EqV",
        "outputId": "4bf0f999-885f-4136-9b67-7ffe45f4dbf3"
      },
      "source": [
        "import os\r\n",
        "os.chdir(\"/content/drive/MyDrive/4주차/dataset\")   # chdir = change(변경해라) + dir(파일경로)\r\n",
        "os.getcwd()        # getcwd() = 파일 경로 확인 메서드"
      ],
      "execution_count": 4,
      "outputs": [
        {
          "output_type": "execute_result",
          "data": {
            "application/vnd.google.colaboratory.intrinsic+json": {
              "type": "string"
            },
            "text/plain": [
              "'/content/drive/MyDrive/4주차/dataset'"
            ]
          },
          "metadata": {
            "tags": []
          },
          "execution_count": 4
        }
      ]
    },
    {
      "cell_type": "code",
      "metadata": {
        "colab": {
          "base_uri": "https://localhost:8080/",
          "height": 35
        },
        "id": "_BBJZDR61Jf6",
        "outputId": "7f1ede5c-226b-4b36-d972-c98d7703b4ac"
      },
      "source": [
        "os.getcwd() # getcwd() = 파일 경로 확인 메서드"
      ],
      "execution_count": 5,
      "outputs": [
        {
          "output_type": "execute_result",
          "data": {
            "application/vnd.google.colaboratory.intrinsic+json": {
              "type": "string"
            },
            "text/plain": [
              "'/content/drive/MyDrive/4주차/dataset'"
            ]
          },
          "metadata": {
            "tags": []
          },
          "execution_count": 5
        }
      ]
    },
    {
      "cell_type": "code",
      "metadata": {
        "colab": {
          "base_uri": "https://localhost:8080/"
        },
        "id": "vAmGS8DC0dw9",
        "outputId": "8000b18b-ce1b-4ba3-f4bc-f8676d0f8d87"
      },
      "source": [
        "from my_email import Email\r\n",
        "\r\n",
        "e = Email()\r\n",
        "e.sender = \"younjung952@likelion.org\"\r\n",
        "recv_list = ['younjung952@gmail.com', 'younjung952@hufs-gsuite.kr','dianakang0106@gmail.com']\r\n",
        "\r\n",
        "for recv in recv_list:\r\n",
        "    e.send_mail(recv, \"Welcome!\",\"This is contents\")"
      ],
      "execution_count": 6,
      "outputs": [
        {
          "output_type": "stream",
          "text": [
            "From:\tyounjung952@likelion.org\n",
            "To:\tyounjung952@gmail.com\n",
            "Subject:Welcome!\n",
            "Contents\n",
            "This is contents\n",
            "--------------------\n",
            "From:\tyounjung952@likelion.org\n",
            "To:\tyounjung952@hufs-gsuite.kr\n",
            "Subject:Welcome!\n",
            "Contents\n",
            "This is contents\n",
            "--------------------\n",
            "From:\tyounjung952@likelion.org\n",
            "To:\tdianakang0106@gmail.com\n",
            "Subject:Welcome!\n",
            "Contents\n",
            "This is contents\n",
            "--------------------\n"
          ],
          "name": "stdout"
        }
      ]
    },
    {
      "cell_type": "code",
      "metadata": {
        "id": "pENgdfKGs3T9",
        "colab": {
          "base_uri": "https://localhost:8080/"
        },
        "outputId": "cb4e4ab1-6124-48f7-e812-a382c719c0cb"
      },
      "source": [
        "# 케이틀린 / 빠른 평타 기반 / 총을 쏠 수 있음.\r\n",
        "name = \"케이틀린\"\r\n",
        "hp = 400\r\n",
        "damage = 55\r\n",
        "\r\n",
        "print(\"{0} 챔피언이 소환사의 협곡에 참여하였습니다.\".format(name))\r\n",
        "print(\"체력{0}, 공격력{1} \\n\".format(hp, damage))"
      ],
      "execution_count": 7,
      "outputs": [
        {
          "output_type": "stream",
          "text": [
            "케이틀린 챔피언이 소환사의 협곡에 참여하였습니다.\n",
            "체력400, 공격력55 \n",
            "\n"
          ],
          "name": "stdout"
        }
      ]
    },
    {
      "cell_type": "code",
      "metadata": {
        "colab": {
          "base_uri": "https://localhost:8080/"
        },
        "id": "tyupbhbREKNg",
        "outputId": "f02b152d-cd19-49d3-8061-66df311b2ece"
      },
      "source": [
        "# 진 / 느린 평타 기반 / 강력한 총을 쏠 수 있음\r\n",
        "J_name = \"진\"\r\n",
        "J_hp = 550\r\n",
        "J_damage = 70\r\n",
        "\r\n",
        "print(\"{0} 챔피언이 소환사의 협곡에 참여하였습니다.\".format(J_name))\r\n",
        "print(\"체력{0}, 공격력{1} \\n\".format(J_hp, J_damage))"
      ],
      "execution_count": 8,
      "outputs": [
        {
          "output_type": "stream",
          "text": [
            "진 챔피언이 소환사의 협곡에 참여하였습니다.\n",
            "체력550, 공격력70 \n",
            "\n"
          ],
          "name": "stdout"
        }
      ]
    },
    {
      "cell_type": "code",
      "metadata": {
        "colab": {
          "base_uri": "https://localhost:8080/"
        },
        "id": "nHlGuqfxEkcw",
        "outputId": "806e6802-17a5-4d7e-d458-c0f7724d52ac"
      },
      "source": [
        "def attack(name, location, damage):\r\n",
        "  print(\"{0} : {1} 방향으로 상대 챔피언을 공격합니다. [공격력 {2}\".format(\\\r\n",
        "                                                        name,location,damage))\r\n",
        "attack(name, \"바텀\", damage)\r\n",
        "attack(J_name, \"바텀\", J_damage)\r\n"
      ],
      "execution_count": 9,
      "outputs": [
        {
          "output_type": "stream",
          "text": [
            "케이틀린 : 바텀 방향으로 상대 챔피언을 공격합니다. [공격력 55\n",
            "진 : 바텀 방향으로 상대 챔피언을 공격합니다. [공격력 70\n"
          ],
          "name": "stdout"
        }
      ]
    },
    {
      "cell_type": "code",
      "metadata": {
        "colab": {
          "base_uri": "https://localhost:8080/"
        },
        "id": "mlR8dIMxFQUk",
        "outputId": "268f7904-4e6b-4533-81e2-509572bc449c"
      },
      "source": [
        "J_name_2 = \"알엠\"\r\n",
        "J_hp_2 = 600\r\n",
        "J_damage_2 = 80\r\n",
        "\r\n",
        "attack(name, \"바텀\", damage)\r\n",
        "attack(J_name, \"바텀\", J_damage)\r\n",
        "attack(J_name_2, \"바텀\", J_damage_2)"
      ],
      "execution_count": 10,
      "outputs": [
        {
          "output_type": "stream",
          "text": [
            "케이틀린 : 바텀 방향으로 상대 챔피언을 공격합니다. [공격력 55\n",
            "진 : 바텀 방향으로 상대 챔피언을 공격합니다. [공격력 70\n",
            "알엠 : 바텀 방향으로 상대 챔피언을 공격합니다. [공격력 80\n"
          ],
          "name": "stdout"
        }
      ]
    },
    {
      "cell_type": "code",
      "metadata": {
        "colab": {
          "base_uri": "https://localhost:8080/"
        },
        "id": "mw3CE-LrFvS2",
        "outputId": "8dc85315-4bf9-4671-e5f7-b6149ed28674"
      },
      "source": [
        "class Unit:\r\n",
        "  def __init__(self, name, hp, damage):\r\n",
        "    self.name = name\r\n",
        "    self.hp = hp\r\n",
        "    self.damage = damage\r\n",
        "    print(\"{0} 챔피언이 소환사의 협곡에 참여하였습니다.\". format(self.name))\r\n",
        "    print(\"체력 {0}, 공격력 {1}\".format(self.hp, self.damage))\r\n",
        "\r\n",
        "Jhin1 = Unit(\"진\", 550, 70)\r\n",
        "Jhin2 = Unit(\"알엠\", 600, 80)\r\n",
        "Caitlyn = Unit(\"케이틀린\", 400, 55)\r\n",
        "\r\n",
        "## 클래스에는 꼭 입력해야할 변수를 모두 입력해야 한다. \r\n",
        "## 예를 들어, \"진\", 550, 70 중 하나라도 빠뜨린다면 에러를 출력한다."
      ],
      "execution_count": 11,
      "outputs": [
        {
          "output_type": "stream",
          "text": [
            "진 챔피언이 소환사의 협곡에 참여하였습니다.\n",
            "체력 550, 공격력 70\n",
            "알엠 챔피언이 소환사의 협곡에 참여하였습니다.\n",
            "체력 600, 공격력 80\n",
            "케이틀린 챔피언이 소환사의 협곡에 참여하였습니다.\n",
            "체력 400, 공격력 55\n"
          ],
          "name": "stdout"
        }
      ]
    },
    {
      "cell_type": "code",
      "metadata": {
        "id": "OLhSRNAoF4PZ",
        "colab": {
          "base_uri": "https://localhost:8080/"
        },
        "outputId": "101d4e7b-0cfd-4d2a-ea1e-ec06d94d5408"
      },
      "source": [
        "# 유미, 서포터 챔피언, 숨기 기능(상대방이 공격 불가능)\r\n",
        "Yuumi_1 = Unit(\"유미\", 300, 10)\r\n",
        "print(\"챔피언 이름: {0}, 공격력 : {1}\".format(Yuumi_1.name, Yuumi_1.damage))"
      ],
      "execution_count": 12,
      "outputs": [
        {
          "output_type": "stream",
          "text": [
            "유미 챔피언이 소환사의 협곡에 참여하였습니다.\n",
            "체력 300, 공격력 10\n",
            "챔피언 이름: 유미, 공격력 : 10\n"
          ],
          "name": "stdout"
        }
      ]
    },
    {
      "cell_type": "code",
      "metadata": {
        "id": "s4MWL13KF4dC",
        "colab": {
          "base_uri": "https://localhost:8080/"
        },
        "outputId": "64694489-1271-470e-bbef-3c937979e26e"
      },
      "source": [
        "# 서포팅 상태 : 아군 챔피언에게 붙어있기에 상대방은 공격 불가능\r\n",
        "Yuumi_2 = Unit(\"유미\", 300, 10)\r\n",
        "Yuumi_2.impossible_to_attack = True  \r\n",
        "## 클래스 변수를 생성하는 과정에서 기존에 없던 매개변수(impossible_to_attack)를 생성할 수도 있다.\r\n",
        "\r\n",
        "if Yuumi_2.impossible_to_attack == True:\r\n",
        "  print(\"{0}은(는) 현재 서포팅 상태입니다.\". format(Yuumi_2.name))  # 서포팅 = 공격X"
      ],
      "execution_count": 13,
      "outputs": [
        {
          "output_type": "stream",
          "text": [
            "유미 챔피언이 소환사의 협곡에 참여하였습니다.\n",
            "체력 300, 공격력 10\n",
            "유미은(는) 현재 서포팅 상태입니다.\n"
          ],
          "name": "stdout"
        }
      ]
    },
    {
      "cell_type": "code",
      "metadata": {
        "id": "IRRiAkvGF4pF",
        "colab": {
          "base_uri": "https://localhost:8080/"
        },
        "outputId": "a2d60ac6-8876-4d69-bb97-57ba2457fbf1"
      },
      "source": [
        "class AttackUnit:\r\n",
        "  def __init__(self, name, hp, damage):\r\n",
        "    self.name = name  # 초기화\r\n",
        "    self.hp = hp   # hp = 체력\r\n",
        "    self.damage = damage\r\n",
        "\r\n",
        "  def attack(self, location):   # 공격기능을 수행하는 메서드(함수)\r\n",
        "    print(\"{0} : {1} 방향으로 상대방 챔피언을 공격합니다. [공격력 {2}] \"\\\r\n",
        "          .format(self.name, location, self.damage))  \r\n",
        "  ## attack(self, location)에서 이미 정의했으므로 self를 써줄 필요가 없다.\r\n",
        "  \r\n",
        "  def damaged(self, damage):   # 공격을 입는 경우에 대한 메서드\r\n",
        "    print(\"{0} : {1} 데미지를 입었습니다. \". format(self.name, damage))\r\n",
        "    self.hp -= damage   # self.hp = self.hp - damage\r\n",
        "    print(\"{0} : 현재 체력은 {1} 입니다.\". format(self.name, self.hp))\r\n",
        "    if self.hp <= 0:     # 게임에서 hp(체력)가 0이면 죽음\r\n",
        "      print(\"{0} : 처치당하였습니다.\".format(self.name))\r\n",
        "\r\n",
        "# 카이사, 빠른 평타 기반, 빠르게 이동가능\r\n",
        "KaiSa = AttackUnit(\"카이사\", 450, 55)\r\n",
        "KaiSa.attack(\"탑\")\r\n",
        "\r\n",
        "# 상대 챔피언에게 공격을 2번 받음\r\n",
        "KaiSa.damaged(250)\r\n",
        "KaiSa.damaged(250)\r\n",
        "\r\n",
        "     "
      ],
      "execution_count": 14,
      "outputs": [
        {
          "output_type": "stream",
          "text": [
            "카이사 : 탑 방향으로 상대방 챔피언을 공격합니다. [공격력 55] \n",
            "카이사 : 250 데미지를 입었습니다. \n",
            "카이사 : 현재 체력은 200 입니다.\n",
            "카이사 : 250 데미지를 입었습니다. \n",
            "카이사 : 현재 체력은 -50 입니다.\n",
            "카이사 : 처치당하였습니다.\n"
          ],
          "name": "stdout"
        }
      ]
    },
    {
      "cell_type": "markdown",
      "metadata": {
        "id": "2lVCIGUBWt-E"
      },
      "source": [
        "## 9.1.2 상속"
      ]
    },
    {
      "cell_type": "code",
      "metadata": {
        "id": "39ehBBI7Wnu4"
      },
      "source": [
        "class Unit:\r\n",
        "  def __init__(self, name, hp):    # 초기화 함수\r\n",
        "    self.name = name\r\n",
        "    self.hp = hp\r\n",
        "\r\n",
        "class AttackUnit(Unit):\r\n",
        "  def __init__(self, name, hp, damage):  # AttackUnit의 초기화 함수\r\n",
        "    Unit.__init__(self, name, hp)        # Unit의 초기화 함수\r\n",
        "    self.damage = damage\r\n",
        "\r\n",
        "  def attack(self, location):   # 공격기능을 수행하는 메서드(함수)\r\n",
        "    print(\"{0} : {1} 방향으로 상대방 챔피언을 공격합니다. [공격력 {2}] \"\\\r\n",
        "          .format(self.name, location, self.damage))  \r\n",
        "  ## attack(self, location)에서 이미 정의했으므로 self를 써줄 필요가 없다.\r\n",
        "  \r\n",
        "  def damaged(self, damage):   # 공격을 입는 경우에 대한 메서드\r\n",
        "    print(\"{0} : {1} 데미지를 입었습니다. \". format(self.name, damage))\r\n",
        "    self.hp -= damage   # self.hp = self.hp - damage\r\n",
        "    print(\"{0} : 현재 체력은 {1} 입니다.\". format(self.name, self.hp))\r\n",
        "    if self.hp <= 0:     # 게임에서 hp(체력)가 0이면 죽음\r\n",
        "      print(\"{0} : 처치당하였습니다.\".format(self.name))"
      ],
      "execution_count": 15,
      "outputs": []
    },
    {
      "cell_type": "markdown",
      "metadata": {
        "id": "B_Vb-HoOXA9i"
      },
      "source": [
        "## 9.1.3 다중상속"
      ]
    },
    {
      "cell_type": "code",
      "metadata": {
        "id": "tZhUjEg_XDBE"
      },
      "source": [
        "## 정글 유닛 / 중립 몬스터 / 챔피언을 공격하거나 공격하지 않을 수도 있음\r\n",
        "class Jungle:   # 공격 x\r\n",
        "  def __init__(self, dash_speed):\r\n",
        "    self.dash_speed = dash_speed\r\n",
        "\r\n",
        "  def dash(self, name, location):\r\n",
        "    print(\"{0} : {1} 방향으로 회피를 합니다. [속도 {2}]\"\\\r\n",
        "          .format(name, location, self.dash_speed))\r\n",
        "    \r\n",
        "class JungleAttackUnit(AttackUnit, Jungle):   # 다중상속\r\n",
        "  def __init__(self, name, hp, damage, dash_speed):\r\n",
        "    AttackUnit.__init__(self, name, hp, damage)\r\n",
        "    Jungle.__init__(self, dash_speed)"
      ],
      "execution_count": 16,
      "outputs": []
    },
    {
      "cell_type": "code",
      "metadata": {
        "colab": {
          "base_uri": "https://localhost:8080/"
        },
        "id": "qpYSq_X0YeXa",
        "outputId": "4038d529-9249-4327-b594-4eb15f49bf1b"
      },
      "source": [
        "Red_1 = JungleAttackUnit(\"레드\", 1200, 50, 10)\r\n",
        "Red_1.dash(Red_1.name, \"공격받은 방향의 반대\")"
      ],
      "execution_count": 17,
      "outputs": [
        {
          "output_type": "stream",
          "text": [
            "레드 : 공격받은 방향의 반대 방향으로 회피를 합니다. [속도 10]\n"
          ],
          "name": "stdout"
        }
      ]
    },
    {
      "cell_type": "markdown",
      "metadata": {
        "id": "-MDym1g52Aoy"
      },
      "source": [
        "# 9.2 벡터와 행렬"
      ]
    },
    {
      "cell_type": "code",
      "metadata": {
        "id": "h-je01g6191S"
      },
      "source": [
        "## 머신러닝은 대량의 데이터를 사용해 학습한다.\r\n",
        "## 따라서 데이터를 효율적으로 다루는 구조가 필요한데, 이 때 신경망의 '벡터'와 '행렬'이 필요하다."
      ],
      "execution_count": 18,
      "outputs": []
    },
    {
      "cell_type": "code",
      "metadata": {
        "id": "t71v4wB11-gn"
      },
      "source": [
        "# 스칼라의 개념\r\n",
        "## 정수와 소수 등 숫자의 크기만을 나타내는 0차원 표현"
      ],
      "execution_count": 19,
      "outputs": []
    },
    {
      "cell_type": "markdown",
      "metadata": {
        "id": "B43nKplba2NE"
      },
      "source": [
        "## 9.2.1 벡터(vector)"
      ]
    },
    {
      "cell_type": "code",
      "metadata": {
        "id": "yiL93PDC1-tU"
      },
      "source": [
        "# 벡터(vector)의 개념\r\n",
        "## 크기 뿐만 아니라 방향도 있는 1차원, 2차원 표현\r\n",
        "## 크게 '평면에서의 벡터(1차원)'와 '공간에서의 벡터(2차원)'으로 나뉜다. "
      ],
      "execution_count": 20,
      "outputs": []
    },
    {
      "cell_type": "code",
      "metadata": {
        "id": "Nd9H4gTJ1-1a"
      },
      "source": [
        "# 벡터 알아보기\r\n",
        "## 벡터는 알파벳 위에 화살표를 사용하여 표현하거나, a,b(굵은 알파벳)으로 표현한다.\r\n",
        "## 벡터의 크기와 방향은 좌표축 성분으로 나누어 표현한다.\r\n",
        "## 2차원 = [2,1] --- x좌표, y좌표 / 3차원 = [3,2,1]  ---- x좌표, y좌표, z좌표\r\n",
        "## 벡터의 원소를 [] 대신 ()을 이용하여 표현하기도 한다."
      ],
      "execution_count": 21,
      "outputs": []
    },
    {
      "cell_type": "code",
      "metadata": {
        "id": "2qq02dlb1-8n"
      },
      "source": [
        "# 원소 나열하기\r\n",
        "## 가로로 나열 = 행 벡터(row vector) / 세로로 나열 = 열 벡터(column vector)"
      ],
      "execution_count": 22,
      "outputs": []
    },
    {
      "cell_type": "markdown",
      "metadata": {
        "id": "6d3nU_VD1_EM"
      },
      "source": [
        "## 9.2.2 행렬(matrix)"
      ]
    },
    {
      "cell_type": "code",
      "metadata": {
        "id": "UY8-2alx1_Lz"
      },
      "source": [
        "# 행렬(matrix)의 개념\r\n",
        "## 행 벡터 혹은 열 벡터를 합해 여러 개 원소를 가로 혹은 세로로 나열한 것\r\n",
        "## 행렬은 A처럼 '굵은 대문자'로 표현하고, 원소는 []안에 넣는다."
      ],
      "execution_count": 23,
      "outputs": []
    },
    {
      "cell_type": "code",
      "metadata": {
        "id": "55EHEgWIb7GM"
      },
      "source": [
        "# 텐서(tensor)의 개념\r\n",
        "## '여러 개 벡터'를 '곱 연산'을 사용해 복합적으로 연결시킨 구조\r\n",
        "## 보통 두 벡터의 행렬 곱셈 결과가 텐서가 되는 텐서곱 연산을 사용한다."
      ],
      "execution_count": 24,
      "outputs": []
    },
    {
      "cell_type": "code",
      "metadata": {
        "id": "nEGu7NLmnfXE"
      },
      "source": [
        "#----------------------------------------------------------------------------"
      ],
      "execution_count": 25,
      "outputs": []
    },
    {
      "cell_type": "code",
      "metadata": {
        "id": "VFR-vqk5ng5a"
      },
      "source": [
        "## 머신러닝에서 행렬 데이터는 넘파이의 ndarray(N dimension Array)라는 클래스를 사용한다.\r\n",
        "## 이는 array함수로 다차원 배열을 처리하는 객체를 만들어 행렬을 쉽게 생성한다.\r\n",
        "## 행렬을 생성할 때는 다차원 리스트를 사용한다."
      ],
      "execution_count": 26,
      "outputs": []
    },
    {
      "cell_type": "code",
      "metadata": {
        "colab": {
          "base_uri": "https://localhost:8080/"
        },
        "id": "zuiwAZyV1_eY",
        "outputId": "696f1be5-d208-4944-8718-3efe8ef310cc"
      },
      "source": [
        "import numpy as np\r\n",
        "\r\n",
        "a = np.array([2,1])   # 벡터(vector) ----> 굵은 소문자(a)로 표현\r\n",
        "print(a)\r\n",
        "\r\n",
        "b = np.array([3,2,1])  # 벡터\r\n",
        "print(b)\r\n",
        "\r\n",
        "A = np.array([[2,4,1], [6,3,5]])  # 행렬(matrix) ---> 굵은 대문자(A)로 표현\r\n",
        "print(A)"
      ],
      "execution_count": 27,
      "outputs": [
        {
          "output_type": "stream",
          "text": [
            "[2 1]\n",
            "[3 2 1]\n",
            "[[2 4 1]\n",
            " [6 3 5]]\n"
          ],
          "name": "stdout"
        }
      ]
    },
    {
      "cell_type": "markdown",
      "metadata": {
        "id": "3hLSG-Xgoy3y"
      },
      "source": [
        "## 9.2.3 벡터의 연산"
      ]
    },
    {
      "cell_type": "markdown",
      "metadata": {
        "id": "OaOTBlNZp7Mm"
      },
      "source": [
        "### (1) 합(+),차(-) 연산"
      ]
    },
    {
      "cell_type": "code",
      "metadata": {
        "id": "UustwbhSpMkb"
      },
      "source": [
        "# 벡터의 합과 차는 서로 대응하는 원소 각각을 더하거나 뺀다. -> 결과값은 벡터이다.\r\n",
        "# 벡터의 크기는 피타고라스 정리(절댓값)를 사용해 계산한다."
      ],
      "execution_count": 28,
      "outputs": []
    },
    {
      "cell_type": "code",
      "metadata": {
        "colab": {
          "base_uri": "https://localhost:8080/"
        },
        "id": "bwsVTZDd1_nz",
        "outputId": "e9f0650e-98ec-47c2-8d6a-26d936d36781"
      },
      "source": [
        "import math\r\n",
        "a = np.array([3,2])\r\n",
        "b = np.array([1,4])\r\n",
        "\r\n",
        "print(a+b)  # 벡터의 합\r\n",
        "print(a-b)  # 벡터의 차\r\n",
        "print(np.linalg.norm(a)) # 벡터 a의 크기\r\n",
        "print(np.linalg.norm(b)) # 벡터 b의 크기\r\n",
        "\r\n",
        "# 벡터의 크기를 함수로 계산\r\n",
        "def norm(x):\r\n",
        "  return math.sqrt(sum([i ** 2 for i in x]))\r\n",
        "\r\n",
        "print(norm(a))  # 벡터 a의 크기\r\n",
        "print(norm(b))  # 벡터 b의 크기\r\n",
        "\r\n",
        "## norm()함수를 살펴보면, 벡터의 크기는 각 리스트를 제곱한 값의 합에 제곱근을 계산하는 것이다.\r\n",
        "## 즉, 넘파이를 사용하지 않아도 계산할 수 있다."
      ],
      "execution_count": 29,
      "outputs": [
        {
          "output_type": "stream",
          "text": [
            "[4 6]\n",
            "[ 2 -2]\n",
            "3.605551275463989\n",
            "4.123105625617661\n",
            "3.605551275463989\n",
            "4.123105625617661\n"
          ],
          "name": "stdout"
        }
      ]
    },
    {
      "cell_type": "markdown",
      "metadata": {
        "id": "EzPQV6oDqBKL"
      },
      "source": [
        "### (2) 곱(x) 연산"
      ]
    },
    {
      "cell_type": "code",
      "metadata": {
        "id": "w42tgtbTqKU_"
      },
      "source": [
        "# 벡터의 곱셉은 '내적'이라고 한다.\r\n",
        "# 내적을 계산하는 방법은 대응하는 원소끼리 곱한 후 합을 계산한다. -> 결과값은 스칼라(숫자)이다."
      ],
      "execution_count": 30,
      "outputs": []
    },
    {
      "cell_type": "code",
      "metadata": {
        "id": "XsMJ9ezoqtip"
      },
      "source": [
        "## 두 벡터가 수직이면, 벡터의 내적은 항상 0이다. ex) a = [2 1], b = [-1 2] = 0\r\n",
        "## 내적이 양수이면 두 벡터가 이루는 각이 90도보다 작고, 음수이면 90도보다 크다.\r\n",
        "## 파이썬으로 벡터의 내적을 계산하는 방법은 두 가지가 있다.\r\n",
        "## 하나는 내적 계산으로 리스트 안 요소를 차례로 곱해서 더하는 것이고, 다른 하나는 넘파이의 dot함수를 사용하는 것이다.\r\n",
        "##           ㄴ'코시 - 슈바르츠 부등식' -> 최솟값 계산할 때 유용,,         "
      ],
      "execution_count": 31,
      "outputs": []
    },
    {
      "cell_type": "code",
      "metadata": {
        "colab": {
          "base_uri": "https://localhost:8080/"
        },
        "id": "stUiGwfPIy6K",
        "outputId": "808a7c17-ef9d-4572-f50e-e6212cd6770c"
      },
      "source": [
        "# 넘파이의 dot함수 이용\r\n",
        "import numpy as np\r\n",
        "\r\n",
        "a = np.array([3,2])\r\n",
        "b = np.array([1,4])\r\n",
        "print(a.dot(b))\r\n",
        "\r\n",
        "c = np.array([2,1])\r\n",
        "d = np.array([-1,2])\r\n",
        "print(c.dot(d))"
      ],
      "execution_count": 32,
      "outputs": [
        {
          "output_type": "stream",
          "text": [
            "11\n",
            "0\n"
          ],
          "name": "stdout"
        }
      ]
    },
    {
      "cell_type": "markdown",
      "metadata": {
        "id": "H70rCG5prx3T"
      },
      "source": [
        "## 9.2.4 행렬의 연산"
      ]
    },
    {
      "cell_type": "code",
      "metadata": {
        "id": "rwm5Hdu5r3pv"
      },
      "source": [
        "# 행렬은 행 개수가 m이고 열 개수가 n인, m x n 행렬로 표현한다.\r\n",
        "## 행 개수와 열 개수가 같으면 '정사각행렬'이라고 한다. (ex, 2차 정사각행렬, 3차 정사각행렬)"
      ],
      "execution_count": 33,
      "outputs": []
    },
    {
      "cell_type": "markdown",
      "metadata": {
        "id": "IUn-0Nrx-y4j"
      },
      "source": [
        "### (1) 합(+), 차(-)의 연산"
      ]
    },
    {
      "cell_type": "code",
      "metadata": {
        "colab": {
          "base_uri": "https://localhost:8080/"
        },
        "id": "EfVzINtYIzEs",
        "outputId": "70386f9e-f1e9-4529-a943-0d7997ff5086"
      },
      "source": [
        "# 두 행렬의 합과 차는 각 행렬의 같은 위치 원소를 더하거나 빼서 계산한다.\r\n",
        "# 합과 차를 계산할 때는 행과 열의 개수가 같아야한다.\r\n",
        "\r\n",
        "import numpy as np\r\n",
        "\r\n",
        "X = np.array([[1,2,3], [3,4,5]])\r\n",
        "Y = np.array([[3,4,5], [4,5,6]])\r\n",
        "print(X+Y)\r\n",
        "print(X-Y)"
      ],
      "execution_count": 34,
      "outputs": [
        {
          "output_type": "stream",
          "text": [
            "[[ 4  6  8]\n",
            " [ 7  9 11]]\n",
            "[[-2 -2 -2]\n",
            " [-1 -1 -1]]\n"
          ],
          "name": "stdout"
        }
      ]
    },
    {
      "cell_type": "markdown",
      "metadata": {
        "id": "dE33N76p-7Tk"
      },
      "source": [
        "### (2) 곱(x)의 연산"
      ]
    },
    {
      "cell_type": "code",
      "metadata": {
        "id": "At1ZKTYK_BTA"
      },
      "source": [
        "# 일반적인 행렬은 곱을 계산할 때는 왼쪽 행렬의 '행'과 오른족 행렬의 '열'을 곱한다.\r\n",
        "# 두 행렬 A,B의 곱 A x B는 AB로 표기한다."
      ],
      "execution_count": 35,
      "outputs": []
    },
    {
      "cell_type": "code",
      "metadata": {
        "id": "mixiu4hx_Qc4"
      },
      "source": [
        "# 행렬의 곱셈은 왼쪽 행렬의 '열 개수'와 오른쪽 행렬의 '행 개수'가 같아야 한다.\r\n",
        "# 보통 왼쪽이 m * k 행렬이고 오른쪽이 k * n 행렬일 때, 행렬의 곱 결과는 m * n 행렬이다. "
      ],
      "execution_count": 36,
      "outputs": []
    },
    {
      "cell_type": "code",
      "metadata": {
        "colab": {
          "base_uri": "https://localhost:8080/"
        },
        "id": "jqCpp_QVIzMw",
        "outputId": "fa05f893-6946-498e-946d-e2bc202e9b8f"
      },
      "source": [
        "## array 함수로 행렬을 만들었다면 dot 함수로 행렬의 곱을 쉽게 계산할 수 있다.\r\n",
        "A = np.array([[1,2,3],[3,4,5]])\r\n",
        "B = np.array([[3,4],[4,5],[5,6]])\r\n",
        "print(A.dot(B))\r\n",
        "\r\n",
        "## 넘파이에서 행렬을 다루는 matrix 함수를 사용해서 행렬을 만들 수도 있다.\r\n",
        "C = np.matrix([[1,2,3], [3,4,5]])\r\n",
        "D = np.matrix([[3,4],[4,5],[5,6]])\r\n",
        "print(C * D)  # matrix 함수로 행렬을 만들어 변수에 저장하면, * 연산자를 사용할 수 있다는 장점도 있다."
      ],
      "execution_count": 37,
      "outputs": [
        {
          "output_type": "stream",
          "text": [
            "[[26 32]\n",
            " [50 62]]\n",
            "[[26 32]\n",
            " [50 62]]\n"
          ],
          "name": "stdout"
        }
      ]
    },
    {
      "cell_type": "code",
      "metadata": {
        "id": "bT8qTYfZAzYz"
      },
      "source": [
        "# 그러나 행렬의 곱에서는 잊으면 안되는 사실이 하나 있다. 바로 AB와 BA의 계산 결과가 일치하지 않는다는 점이다."
      ],
      "execution_count": null,
      "outputs": []
    },
    {
      "cell_type": "code",
      "metadata": {
        "id": "wu7m0L0nIzWw"
      },
      "source": [
        "# 단위 행렬\r\n",
        "## 왼쪽 위에서 오른쪽 아래 대각선 방향의 행렬 원소가 1이고, 나머지 원소가 0인 행렬 -> 보통 E나 I같은 기호로 표현함"
      ],
      "execution_count": 37,
      "outputs": []
    },
    {
      "cell_type": "code",
      "metadata": {
        "id": "pcyP3l9nIzfd"
      },
      "source": [
        "# 전치 행렬\r\n",
        "## 행렬의 행과 열을 교환한 행렬 -> 딥러닝의 활성화 함수 역전파 연산 과정에서 주요하게 사용된다."
      ],
      "execution_count": 37,
      "outputs": []
    },
    {
      "cell_type": "code",
      "metadata": {
        "id": "DL23d5H3Izow"
      },
      "source": [
        ""
      ],
      "execution_count": 37,
      "outputs": []
    }
  ]
}