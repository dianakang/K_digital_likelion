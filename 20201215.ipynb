{
  "nbformat": 4,
  "nbformat_minor": 0,
  "metadata": {
    "colab": {
      "name": "20201215.ipynb",
      "provenance": [],
      "toc_visible": true,
      "authorship_tag": "ABX9TyPYRo31NQ5Ud31fQV0p76wi",
      "include_colab_link": true
    },
    "kernelspec": {
      "name": "python3",
      "display_name": "Python 3"
    }
  },
  "cells": [
    {
      "cell_type": "markdown",
      "metadata": {
        "id": "view-in-github",
        "colab_type": "text"
      },
      "source": [
        "<a href=\"https://colab.research.google.com/github/dianakang/helloTensorflow/blob/master/20201215.ipynb\" target=\"_parent\"><img src=\"https://colab.research.google.com/assets/colab-badge.svg\" alt=\"Open In Colab\"/></a>"
      ]
    },
    {
      "cell_type": "markdown",
      "metadata": {
        "id": "re2KtORjUqlq"
      },
      "source": [
        "# 1.1 Hello World"
      ]
    },
    {
      "cell_type": "code",
      "metadata": {
        "colab": {
          "base_uri": "https://localhost:8080/"
        },
        "id": "K4fIAujNvRA2",
        "outputId": "e8ec700f-0cfe-482b-f892-114f2cc61cb1"
      },
      "source": [
        "print(\"Hello World\")"
      ],
      "execution_count": 42,
      "outputs": [
        {
          "output_type": "stream",
          "text": [
            "Hello World\n"
          ],
          "name": "stdout"
        }
      ]
    },
    {
      "cell_type": "markdown",
      "metadata": {
        "id": "ieVB1YhNU3Di"
      },
      "source": [
        "#1.2 Hello 텐서플로 2.0"
      ]
    },
    {
      "cell_type": "code",
      "metadata": {
        "id": "b7MtzdMxvluN"
      },
      "source": [
        "try:\r\n",
        "  %tensorflow_version 2.x\r\n",
        "except Exception:\r\n",
        "  pass\r\n",
        "import tensorflow as tf"
      ],
      "execution_count": 43,
      "outputs": []
    },
    {
      "cell_type": "code",
      "metadata": {
        "colab": {
          "base_uri": "https://localhost:8080/"
        },
        "id": "5v0Tuefpwtuj",
        "outputId": "121897b5-933f-446b-f60f-3e4a19418d67"
      },
      "source": [
        "import tensorflow as tf\r\n",
        "print(tf.__version__)"
      ],
      "execution_count": 44,
      "outputs": [
        {
          "output_type": "stream",
          "text": [
            "2.3.0\n"
          ],
          "name": "stdout"
        }
      ]
    },
    {
      "cell_type": "markdown",
      "metadata": {
        "id": "5u_mpb-u9nxr"
      },
      "source": [
        "# 1.3 난수 생성"
      ]
    },
    {
      "cell_type": "code",
      "metadata": {
        "id": "vzX_cMJV_cnY"
      },
      "source": [
        "# 난수 = 무작위로 추출한 값"
      ],
      "execution_count": 45,
      "outputs": []
    },
    {
      "cell_type": "markdown",
      "metadata": {
        "id": "654gXmLgVnQP"
      },
      "source": [
        "## 1.3.1 균일분포(uniform함수)"
      ]
    },
    {
      "cell_type": "code",
      "metadata": {
        "colab": {
          "base_uri": "https://localhost:8080/"
        },
        "id": "43D6WE_123Gr",
        "outputId": "35a6f8d9-2ab3-4a26-a14a-e0c2cbbe94af"
      },
      "source": [
        "# tr.random.uniform 함수를 불러오면 균일분포(uniform distribution)의 난수를 얻을 수 있다.\r\n",
        "rand = tf.random.uniform([4],0,1)   # []: 결과값의 shape, 0 : 최소값, 1: 최대값\r\n",
        "print(rand)"
      ],
      "execution_count": 46,
      "outputs": [
        {
          "output_type": "stream",
          "text": [
            "tf.Tensor([0.22536182 0.22978973 0.38302708 0.74884987], shape=(4,), dtype=float32)\n"
          ],
          "name": "stdout"
        }
      ]
    },
    {
      "cell_type": "code",
      "metadata": {
        "colab": {
          "base_uri": "https://localhost:8080/"
        },
        "id": "gYjlSCx376QN",
        "outputId": "a2000564-3bdd-44e8-efc3-f4989ff6d4f5"
      },
      "source": [
        "rand = tf.random.uniform([4,2],0,1)\r\n",
        "print(rand)"
      ],
      "execution_count": 47,
      "outputs": [
        {
          "output_type": "stream",
          "text": [
            "tf.Tensor(\n",
            "[[0.11217988 0.7912402 ]\n",
            " [0.65772045 0.58816636]\n",
            " [0.5107548  0.4181925 ]\n",
            " [0.45513964 0.0486275 ]], shape=(4, 2), dtype=float32)\n"
          ],
          "name": "stdout"
        }
      ]
    },
    {
      "cell_type": "code",
      "metadata": {
        "colab": {
          "base_uri": "https://localhost:8080/"
        },
        "id": "EYVUcOVN8DfW",
        "outputId": "fe4b41af-cd5d-488d-c33b-110b12aad5f6"
      },
      "source": [
        "rand = tf.random.uniform([6,3],0,1)\r\n",
        "print(rand)"
      ],
      "execution_count": 48,
      "outputs": [
        {
          "output_type": "stream",
          "text": [
            "tf.Tensor(\n",
            "[[0.7151685  0.5608511  0.80882657]\n",
            " [0.30780244 0.6108159  0.36812818]\n",
            " [0.5062866  0.45860505 0.16563082]\n",
            " [0.69936824 0.6261765  0.95697296]\n",
            " [0.7784327  0.3904543  0.9860865 ]\n",
            " [0.16439843 0.1610918  0.83018684]], shape=(6, 3), dtype=float32)\n"
          ],
          "name": "stdout"
        }
      ]
    },
    {
      "cell_type": "code",
      "metadata": {
        "colab": {
          "base_uri": "https://localhost:8080/"
        },
        "id": "ezJ5tD9v8VDm",
        "outputId": "de439401-d190-4b73-e9db-f5ecd2c37353"
      },
      "source": [
        "rand = tf.random.uniform([6,3,1],0,1)\r\n",
        "print(rand)"
      ],
      "execution_count": 49,
      "outputs": [
        {
          "output_type": "stream",
          "text": [
            "tf.Tensor(\n",
            "[[[0.74910915]\n",
            "  [0.54838765]\n",
            "  [0.35058606]]\n",
            "\n",
            " [[0.8677598 ]\n",
            "  [0.87481105]\n",
            "  [0.02007747]]\n",
            "\n",
            " [[0.4090923 ]\n",
            "  [0.32425678]\n",
            "  [0.01840937]]\n",
            "\n",
            " [[0.5274036 ]\n",
            "  [0.00919437]\n",
            "  [0.994995  ]]\n",
            "\n",
            " [[0.9688678 ]\n",
            "  [0.5058392 ]\n",
            "  [0.49150229]]\n",
            "\n",
            " [[0.7847806 ]\n",
            "  [0.06885457]\n",
            "  [0.45919716]]], shape=(6, 3, 1), dtype=float32)\n"
          ],
          "name": "stdout"
        }
      ]
    },
    {
      "cell_type": "markdown",
      "metadata": {
        "id": "Hew0KZRRVwtx"
      },
      "source": [
        "## 1.3.2 정규분포(normal함수)"
      ]
    },
    {
      "cell_type": "code",
      "metadata": {
        "colab": {
          "base_uri": "https://localhost:8080/"
        },
        "id": "7ac1e8T0WeCv",
        "outputId": "c9fcf82f-ba8f-432e-fbfe-dd68af9913a3"
      },
      "source": [
        "rand = tf.random.normal([4],0,1)   # 표준 정규분포 데이터(난수) 4개 생성, 0은 평균(mean), 1은 표준편차(standard deviation)\r\n",
        "print(rand)"
      ],
      "execution_count": 50,
      "outputs": [
        {
          "output_type": "stream",
          "text": [
            "tf.Tensor([ 0.19837603  0.0157307   0.2773946  -1.9181962 ], shape=(4,), dtype=float32)\n"
          ],
          "name": "stdout"
        }
      ]
    },
    {
      "cell_type": "code",
      "metadata": {
        "colab": {
          "base_uri": "https://localhost:8080/"
        },
        "id": "81WtTctXWm9v",
        "outputId": "44878ba6-487d-4b55-ebc6-2ea350bf5ec2"
      },
      "source": [
        "rand = tf.random.normal([6,2],0,1)\r\n",
        "print(rand)"
      ],
      "execution_count": 51,
      "outputs": [
        {
          "output_type": "stream",
          "text": [
            "tf.Tensor(\n",
            "[[ 1.9986647   1.4988749 ]\n",
            " [ 0.6186463  -1.5262347 ]\n",
            " [-1.0621766   2.2284079 ]\n",
            " [-0.97260123  0.272335  ]\n",
            " [ 1.2489439  -1.2368342 ]\n",
            " [ 0.571167    0.49180034]], shape=(6, 2), dtype=float32)\n"
          ],
          "name": "stdout"
        }
      ]
    },
    {
      "cell_type": "markdown",
      "metadata": {
        "id": "8WcxdMOdX_Gc"
      },
      "source": [
        "# 1.4 뉴런 만들기"
      ]
    },
    {
      "cell_type": "code",
      "metadata": {
        "id": "q3thHfsCY_cg"
      },
      "source": [
        "# 뉴런은 입력(input), 가중치(w), 활성화 함수(f), 출력(output)으로 구성된다.\r\n",
        "# 학습이 잘 된다는 것은 '좋은 가중치'를 얻어서 원하는 출력에 점점 가까운 값을 얻는 것\r\n",
        "# 활성화함수(f)에는 시그모이드(sigmoid), ReLU 등이 주로 쓰인다."
      ],
      "execution_count": 52,
      "outputs": []
    },
    {
      "cell_type": "code",
      "metadata": {
        "id": "5UnyywTJZ8gX"
      },
      "source": [
        "# 여기서는 출력을 0 ~ 1 사이로 제한하여  AND, OR, XOR연산을 다루는데 적합한 시그모이드 함수를 사용 "
      ],
      "execution_count": 53,
      "outputs": []
    },
    {
      "cell_type": "code",
      "metadata": {
        "id": "zMpSh1UiAHKF"
      },
      "source": [
        "# 활성화 함수 Sigmoid 생성\r\n",
        "import math\r\n",
        "def sigmoid(x):\r\n",
        "  return 1 / (1 + math.exp(-x))"
      ],
      "execution_count": 54,
      "outputs": []
    },
    {
      "cell_type": "code",
      "metadata": {
        "colab": {
          "base_uri": "https://localhost:8080/"
        },
        "id": "exCPFVczLwo_",
        "outputId": "983ac165-f9dc-480d-c5ac-f39bcc8522d1"
      },
      "source": [
        "x = 1    # 입력값\r\n",
        "y = 0    # 출력값\r\n",
        "w = tf.random.normal([1],0,1)   # 0은 평균, 1은 표준편차\r\n",
        "output = sigmoid(x * w)\r\n",
        "print(output)"
      ],
      "execution_count": 55,
      "outputs": [
        {
          "output_type": "stream",
          "text": [
            "0.8903440259082952\n"
          ],
          "name": "stdout"
        }
      ]
    },
    {
      "cell_type": "code",
      "metadata": {
        "colab": {
          "base_uri": "https://localhost:8080/"
        },
        "id": "ao1HHiABSAkK",
        "outputId": "f1ab92ca-bd07-4881-bc15-41fb7b90ef4d"
      },
      "source": [
        "for i in range(1000):\r\n",
        "  output = sigmoid(x * w)\r\n",
        "  error = y - output\r\n",
        "  w = w + x * 0.1 * error     # 0.1은 학습률\r\n",
        "\r\n",
        "  if i % 100 == 99:\r\n",
        "    print('반복 횟수 {0} : , 에러값 : {1}, 결과값 : {2}'.format(i,error, output))"
      ],
      "execution_count": 56,
      "outputs": [
        {
          "output_type": "stream",
          "text": [
            "반복 횟수 99 : , 에러값 : -0.13893008027703216, 결과값 : 0.13893008027703216\n",
            "반복 횟수 199 : , 에러값 : -0.06122529839567363, 결과값 : 0.06122529839567363\n",
            "반복 횟수 299 : , 에러값 : -0.03865118427565664, 결과값 : 0.03865118427565664\n",
            "반복 횟수 399 : , 에러값 : -0.028121908123707216, 결과값 : 0.028121908123707216\n",
            "반복 횟수 499 : , 에러값 : -0.022063946723261153, 결과값 : 0.022063946723261153\n",
            "반복 횟수 599 : , 에러값 : -0.018138056901626773, 결과값 : 0.018138056901626773\n",
            "반복 횟수 699 : , 에러값 : -0.015390813856214661, 결과값 : 0.015390813856214661\n",
            "반복 횟수 799 : , 에러값 : -0.01336226874462837, 결과값 : 0.01336226874462837\n",
            "반복 횟수 899 : , 에러값 : -0.01180381148225498, 결과값 : 0.01180381148225498\n",
            "반복 횟수 999 : , 에러값 : -0.01056946132251417, 결과값 : 0.01056946132251417\n"
          ],
          "name": "stdout"
        }
      ]
    },
    {
      "cell_type": "code",
      "metadata": {
        "colab": {
          "base_uri": "https://localhost:8080/"
        },
        "id": "qKnVSG7nSPHf",
        "outputId": "1ac4ed6c-c7fd-43eb-e63d-ce75038a2f78"
      },
      "source": [
        "x = 1\r\n",
        "y = 0\r\n",
        "w = tf.random.normal([1],0, 0.03)   # 평균이 0이고, 표준편차가 0.03\r\n",
        "# w = tf.random.uniform([1],0,1)    # 최대값이 0이고, 최소값이 1\r\n",
        "\r\n",
        "for i in range(3000):               # 3000번 학습\r\n",
        "  output = sigmoid(x * w)\r\n",
        "  error = y - output\r\n",
        "  a = 0.4                           # 학습률은 0.4\r\n",
        "  w = w + x * a * error\r\n",
        "\r\n",
        "  if i % 100 == 99:\r\n",
        "    print('반복 횟수 {0} : , 에러값 : {1}, 결과값 : {2}'.format(i,error, output))\r\n"
      ],
      "execution_count": 57,
      "outputs": [
        {
          "output_type": "stream",
          "text": [
            "반복 횟수 99 : , 에러값 : -0.025907280843080437, 결과값 : 0.025907280843080437\n",
            "반복 횟수 199 : , 에러값 : -0.012816700686036419, 결과값 : 0.012816700686036419\n",
            "반복 횟수 299 : , 에러값 : -0.008496893252349126, 결과값 : 0.008496893252349126\n",
            "반복 횟수 399 : , 에러값 : -0.006351022177760097, 결과값 : 0.006351022177760097\n",
            "반복 횟수 499 : , 에러값 : -0.005069107109994612, 결과값 : 0.005069107109994612\n",
            "반복 횟수 599 : , 에러값 : -0.004217181591161548, 결과값 : 0.004217181591161548\n",
            "반복 횟수 699 : , 에러값 : -0.0036101081597546365, 결과값 : 0.0036101081597546365\n",
            "반복 횟수 799 : , 에러값 : -0.003155651379320181, 결과값 : 0.003155651379320181\n",
            "반복 횟수 899 : , 에러값 : -0.002802721535608671, 결과값 : 0.002802721535608671\n",
            "반복 횟수 999 : , 에러값 : -0.0025207239413927683, 결과값 : 0.0025207239413927683\n",
            "반복 횟수 1099 : , 에러값 : -0.0022902372002170926, 결과값 : 0.0022902372002170926\n",
            "반복 횟수 1199 : , 에러값 : -0.0020983426513507724, 결과값 : 0.0020983426513507724\n",
            "반복 횟수 1299 : , 에러값 : -0.0019361012223034916, 결과값 : 0.0019361012223034916\n",
            "반복 횟수 1399 : , 에러값 : -0.0017971308849060524, 결과값 : 0.0017971308849060524\n",
            "반복 횟수 1499 : , 에러값 : -0.001676769896048714, 결과값 : 0.001676769896048714\n",
            "반복 횟수 1599 : , 에러값 : -0.0015715050150161458, 결과값 : 0.0015715050150161458\n",
            "반복 횟수 1699 : , 에러값 : -0.001478667965175442, 결과값 : 0.001478667965175442\n",
            "반복 횟수 1799 : , 에러값 : -0.0013961849045756411, 결과값 : 0.0013961849045756411\n",
            "반복 횟수 1899 : , 에러값 : -0.0013224120888251291, 결과값 : 0.0013224120888251291\n",
            "반복 횟수 1999 : , 에러값 : -0.0012560418284932543, 결과값 : 0.0012560418284932543\n",
            "반복 횟수 2099 : , 에러값 : -0.001196012685358362, 결과값 : 0.001196012685358362\n",
            "반복 횟수 2199 : , 에러값 : -0.001141455827911387, 결과값 : 0.001141455827911387\n",
            "반복 횟수 2299 : , 에러값 : -0.0010916569035703447, 결과값 : 0.0010916569035703447\n",
            "반복 횟수 2399 : , 에러값 : -0.001046020451400711, 결과값 : 0.001046020451400711\n",
            "반복 횟수 2499 : , 에러값 : -0.001004045113317388, 결과값 : 0.001004045113317388\n",
            "반복 횟수 2599 : , 에러값 : -0.0009653056028435103, 결과값 : 0.0009653056028435103\n",
            "반복 횟수 2699 : , 에러값 : -0.0009294447247648929, 결과값 : 0.0009294447247648929\n",
            "반복 횟수 2799 : , 에러값 : -0.0008961517090259186, 결과값 : 0.0008961517090259186\n",
            "반복 횟수 2899 : , 에러값 : -0.0008651603514935044, 결과값 : 0.0008651603514935044\n",
            "반복 횟수 2999 : , 에러값 : -0.0008362404867065671, 결과값 : 0.0008362404867065671\n"
          ],
          "name": "stdout"
        }
      ]
    },
    {
      "cell_type": "code",
      "metadata": {
        "colab": {
          "base_uri": "https://localhost:8080/"
        },
        "id": "ap7spTcim617",
        "outputId": "d484d32a-0705-46e6-cdd8-7fa097399916"
      },
      "source": [
        "x = 0           # 입력값\r\n",
        "y = 1           # 출력값\r\n",
        "w = tf.random.normal([1], 0,1)\r\n",
        "\r\n",
        "for i in range(1000):\r\n",
        "  output = sigmoid(x * w)\r\n",
        "  error = y - output\r\n",
        "  w = w + x * 0.1 * error\r\n",
        "\r\n",
        "  if i % 100 == 99:\r\n",
        "    print('반복 횟수 {0} : , 에러값 : {1}, 결과값 : {2}'.format(i,error, output))\r\n",
        "\r\n",
        "# 에러값이 변하지 않고, 결과값도 0.5에서 변하지 않고있는 문제 발생.\r\n",
        "# WHY?  입력값을 0을 넣었기 때문에 가중치의 값이 변하지 않음  / Y = f(X * w + 1 * b) 경사하강법 업데이트 식을 통해 알 수 있음\r\n",
        "# SO?   편향(bias)을 뉴런에 넣어줘야함. 참고로 편향의 입력에는 보편적으로 1을 넣어줌 "
      ],
      "execution_count": 58,
      "outputs": [
        {
          "output_type": "stream",
          "text": [
            "반복 횟수 99 : , 에러값 : 0.5, 결과값 : 0.5\n",
            "반복 횟수 199 : , 에러값 : 0.5, 결과값 : 0.5\n",
            "반복 횟수 299 : , 에러값 : 0.5, 결과값 : 0.5\n",
            "반복 횟수 399 : , 에러값 : 0.5, 결과값 : 0.5\n",
            "반복 횟수 499 : , 에러값 : 0.5, 결과값 : 0.5\n",
            "반복 횟수 599 : , 에러값 : 0.5, 결과값 : 0.5\n",
            "반복 횟수 699 : , 에러값 : 0.5, 결과값 : 0.5\n",
            "반복 횟수 799 : , 에러값 : 0.5, 결과값 : 0.5\n",
            "반복 횟수 899 : , 에러값 : 0.5, 결과값 : 0.5\n",
            "반복 횟수 999 : , 에러값 : 0.5, 결과값 : 0.5\n"
          ],
          "name": "stdout"
        }
      ]
    },
    {
      "cell_type": "code",
      "metadata": {
        "colab": {
          "base_uri": "https://localhost:8080/"
        },
        "id": "aRFy7JmcCDGX",
        "outputId": "5a2ae4d2-fe2e-47c6-aa2a-73c12a617091"
      },
      "source": [
        "x = 0\r\n",
        "y = 1\r\n",
        "w = tf.random.normal([1], 0,1)\r\n",
        "b = tf.random.normal([1], 0,1)\r\n",
        "\r\n",
        "for i in range(1000):\r\n",
        "  output = sigmoid(x * w + 1 * b)\r\n",
        "  error = y - output\r\n",
        "  w = w + x * 0.1 * error\r\n",
        "  b = b + 1 * 0.1 * error\r\n",
        "\r\n",
        "  if i % 100 == 99:\r\n",
        "    print('반복 횟수 {0} :, 에러값 : {1}, 결과값 : {2}'.format(i,error, output))\r\n",
        "\r\n",
        "# error는 0에 가까워지고, output은 기대출력인 1에 가까워지고 있는걸 보아, 학습이 잘 되고 있음을 알 수 있음\r\n"
      ],
      "execution_count": 59,
      "outputs": [
        {
          "output_type": "stream",
          "text": [
            "반복 횟수 99 :, 에러값 : 0.09581782088576396, 결과값 : 0.904182179114236\n",
            "반복 횟수 199 :, 에러값 : 0.0505554215362547, 결과값 : 0.9494445784637453\n",
            "반복 횟수 299 :, 에러값 : 0.03402869922297602, 결과값 : 0.965971300777024\n",
            "반복 횟수 399 :, 에러값 : 0.02557098765127419, 결과값 : 0.9744290123487258\n",
            "반복 횟수 499 :, 에러값 : 0.020454285554998064, 결과값 : 0.9795457144450019\n",
            "반복 횟수 599 :, 에러값 : 0.017032267650002875, 결과값 : 0.9829677323499971\n",
            "반복 횟수 699 :, 에러값 : 0.014585305955279626, 결과값 : 0.9854146940447204\n",
            "반복 횟수 799 :, 에러값 : 0.012749839092052517, 결과값 : 0.9872501609079475\n",
            "반복 횟수 899 :, 에러값 : 0.011322718140588828, 결과값 : 0.9886772818594112\n",
            "반복 횟수 999 :, 에러값 : 0.01018165504063362, 결과값 : 0.9898183449593664\n"
          ],
          "name": "stdout"
        }
      ]
    },
    {
      "cell_type": "markdown",
      "metadata": {
        "id": "GggBb7NCC_Zb"
      },
      "source": [
        "# 2.1 첫번째 신경망 네트워크 : AND"
      ]
    },
    {
      "cell_type": "code",
      "metadata": {
        "id": "xJpnn85P-rQC"
      },
      "source": [
        "# AND,OR,XOR연산은 x(입력값)는 1이고, y(출력값)는 0인 sigmoid함수를 사용한다."
      ],
      "execution_count": 60,
      "outputs": []
    },
    {
      "cell_type": "code",
      "metadata": {
        "id": "-8cloQPO5XZb"
      },
      "source": [
        "# AND연산 : 입력값이 모두 참일때만, 결과값도 참이 되는 것"
      ],
      "execution_count": 61,
      "outputs": []
    },
    {
      "cell_type": "code",
      "metadata": {
        "colab": {
          "base_uri": "https://localhost:8080/"
        },
        "id": "k1ko6paKreDX",
        "outputId": "9fcf6c3e-e9d9-453c-d3ef-6e8bd7a0852d"
      },
      "source": [
        "print(int(True))\r\n",
        "print(int(False))"
      ],
      "execution_count": 62,
      "outputs": [
        {
          "output_type": "stream",
          "text": [
            "1\n",
            "0\n"
          ],
          "name": "stdout"
        }
      ]
    },
    {
      "cell_type": "code",
      "metadata": {
        "colab": {
          "base_uri": "https://localhost:8080/"
        },
        "id": "lbpKkRNSDTPv",
        "outputId": "b2a808a9-8fe7-4aa4-c8c0-706ee0c1acce"
      },
      "source": [
        "# 넘파이를 불러오는 코드\r\n",
        "import numpy as np\r\n",
        "\r\n",
        "# 입력값을 array로 표현 / 입력값이 2개 이상일 땐, 가장 바깥에 대괄호[]가 하나 더 있는 2중 대괄호 형태.\r\n",
        "x = np.array([[1,1],[1,0],[0,1],[0,0]])\r\n",
        "\r\n",
        "# AND연산자의 출력값\r\n",
        "y = np.array([[1],[0],[0],[0]])\r\n",
        "\r\n",
        "# 가중치 정의 - 입력값이 2개, 평균 0, 표준편차 1 / 무작위 값 2개 생성\r\n",
        "w = tf.random.normal([2],0,1)\r\n",
        "\r\n",
        "# 편향은 항상 1\r\n",
        "b = tf.random.normal([1],0,1)\r\n",
        "\r\n",
        "# 편향의 고정값\r\n",
        "b_x = 1\r\n",
        "\r\n",
        "# range()함수를 활용한 반복 학습 횟수 결정\r\n",
        "for i in range(2000):\r\n",
        "  error_sum = 0        # 기본 결과값은 0값\r\n",
        "\r\n",
        "  for j in range(4):\r\n",
        "    output = sigmoid(np.sum(x[j]*w)+b_x*b)\r\n",
        "    error = y[j][0] - output\r\n",
        "\r\n",
        "    # 무작위로 선정된 가중치와 편향값은 경사하강법을 통해 값을 업데이트해준다.\r\n",
        "    w = w + x[j] * 0.1 * error\r\n",
        "    b = b + b_x * 0.1 * error\r\n",
        "\r\n",
        "    error_sum += error\r\n",
        "\r\n",
        "# 결과 표시\r\n",
        "  if i % 200 == 199:\r\n",
        "    print(i, error_sum)"
      ],
      "execution_count": 63,
      "outputs": [
        {
          "output_type": "stream",
          "text": [
            "199 -0.10287696317630421\n",
            "399 -0.06300579168817687\n",
            "599 -0.04527859976213118\n",
            "799 -0.03523861533101001\n",
            "999 -0.028793330357195432\n",
            "1199 -0.02431415660722593\n",
            "1399 -0.021025159325694695\n",
            "1599 -0.01851105599519166\n",
            "1799 -0.016528380645407056\n",
            "1999 -0.014924418659451644\n"
          ],
          "name": "stdout"
        }
      ]
    },
    {
      "cell_type": "code",
      "metadata": {
        "id": "juY6vPHSD39E"
      },
      "source": [
        "import numpy as np\r\n",
        "x = np.array([[1,1],[1,0],[0,1],[0,0]])\r\n",
        "y = np.array([[1],[0],[0],[0]])"
      ],
      "execution_count": 64,
      "outputs": []
    },
    {
      "cell_type": "code",
      "metadata": {
        "id": "TkhZdgHEEM1M"
      },
      "source": [
        "w = w + x[j] * 0.1 * error # 가중치 갱신"
      ],
      "execution_count": 65,
      "outputs": []
    },
    {
      "cell_type": "code",
      "metadata": {
        "colab": {
          "base_uri": "https://localhost:8080/"
        },
        "id": "VgBQ_T_MEY55",
        "outputId": "518daa06-274c-4d84-92d0-62c21c94034a"
      },
      "source": [
        "# 넘파이를 활용한 원소에 대한 개산\r\n",
        "import numpy as np\r\n",
        "print(np.array([1,2,3])*2)\r\n",
        "print(np.array([1,2,3])*0)\r\n",
        "print(np.array([1,2,3])*-1)\r\n",
        "print(np.array([1,2,3])*0.01)\r\n",
        "\r\n",
        "# 결과값이 리스트가 아닌 넘파이여서 쉼표(,)가 없음."
      ],
      "execution_count": 66,
      "outputs": [
        {
          "output_type": "stream",
          "text": [
            "[2 4 6]\n",
            "[0 0 0]\n",
            "[-1 -2 -3]\n",
            "[0.01 0.02 0.03]\n"
          ],
          "name": "stdout"
        }
      ]
    },
    {
      "cell_type": "code",
      "metadata": {
        "colab": {
          "base_uri": "https://localhost:8080/"
        },
        "id": "dfAA3rIfFJO2",
        "outputId": "aa4e7ffb-3c35-404a-fc11-c933cc758158"
      },
      "source": [
        "# 일반 리스트 연산\r\n",
        "print([1,2,3]*2)\r\n",
        "print([1,2,3]*0)\r\n",
        "print([1,2,3]*-1)"
      ],
      "execution_count": 67,
      "outputs": [
        {
          "output_type": "stream",
          "text": [
            "[1, 2, 3, 1, 2, 3]\n",
            "[]\n",
            "[]\n"
          ],
          "name": "stdout"
        }
      ]
    },
    {
      "cell_type": "code",
      "metadata": {
        "id": "yNsfG1YDFYAK"
      },
      "source": [
        "# 리스트에 정수가 아닌 수는 곱할 수 없다.\r\n",
        "# print([1,2,3]* 0,01)  # 오류발생"
      ],
      "execution_count": 68,
      "outputs": []
    },
    {
      "cell_type": "code",
      "metadata": {
        "colab": {
          "base_uri": "https://localhost:8080/"
        },
        "id": "yJEscpUu9qW8",
        "outputId": "86b07348-056e-4078-9f80-1c4bf156094c"
      },
      "source": [
        "# 확인하기\r\n",
        "for i in range(4):\r\n",
        "  print('X:', x[i], 'Y:', y[i], 'Output:', sigmoid(np.sum(x[i]*w)+b))\r\n",
        "  \r\n",
        "# 업데이트 될 수록 결과값은 0에 가까워지고 있다."
      ],
      "execution_count": 69,
      "outputs": [
        {
          "output_type": "stream",
          "text": [
            "X: [1 1] Y: [1] Output: 0.9651584840890578\n",
            "X: [1 0] Y: [0] Output: 0.024691832355806922\n",
            "X: [0 1] Y: [0] Output: 0.024766848517140533\n",
            "X: [0 0] Y: [0] Output: 2.3209313101993077e-05\n"
          ],
          "name": "stdout"
        }
      ]
    },
    {
      "cell_type": "code",
      "metadata": {
        "colab": {
          "base_uri": "https://localhost:8080/"
        },
        "id": "GiWBIERcDqeN",
        "outputId": "abd926a0-4db0-4c5b-8756-1a4b37179ddb"
      },
      "source": [
        "print(\"AND 연산 가중치 및 편향 \")\r\n",
        "print(\"w:\",w)\r\n",
        "print(\"b:\",b)\r\n",
        "\r\n",
        "# 첫번째 가중치와 두번째 가중치가 비슷하다는 것은 비슷한 중요도를 갖는다는 뜻.\r\n",
        "# 편향값은 확실한 음수 "
      ],
      "execution_count": 70,
      "outputs": [
        {
          "output_type": "stream",
          "text": [
            "AND 연산 가중치 및 편향 \n",
            "w: tf.Tensor([6.9946527 6.997763 ], shape=(2,), dtype=float32)\n",
            "b: tf.Tensor([-10.670934], shape=(1,), dtype=float32)\n"
          ],
          "name": "stdout"
        }
      ]
    },
    {
      "cell_type": "markdown",
      "metadata": {
        "id": "PfaOtFOUwyCW"
      },
      "source": [
        "# 2.2 두번째 신경망 네트워크 : OR"
      ]
    },
    {
      "cell_type": "code",
      "metadata": {
        "id": "bQW_Tyi9-ZmL"
      },
      "source": [
        "# OR연산 : 입력값이 모두 거짓일때만, 결과값도 거짓이 되는 것"
      ],
      "execution_count": 71,
      "outputs": []
    },
    {
      "cell_type": "code",
      "metadata": {
        "colab": {
          "base_uri": "https://localhost:8080/"
        },
        "id": "eNAY5IcZBpjZ",
        "outputId": "7bdec395-553b-4b1d-acea-f7c80a8f8909"
      },
      "source": [
        "import numpy as np\r\n",
        "x = np.array([[1,1],[1,0],[0,1],[0,0]])\r\n",
        "y = np.array([[1],[1],[1],[0]])\r\n",
        "w = tf.random.normal([2],0,1)\r\n",
        "b = tf.random.normal([1],0,1)\r\n",
        "b_x = 1\r\n",
        "\r\n",
        "for i in range(2000):\r\n",
        "  error_sum = 0\r\n",
        "  for j in range(4):\r\n",
        "    output = sigmoid(np.sum(x[j]*w)+b_x*b)\r\n",
        "    error = y[j][0] - output\r\n",
        "    w = w + x[j] * 0.1 * error\r\n",
        "    b = b + b_x * 0.1 * error\r\n",
        "    error_sum += error\r\n",
        "\r\n",
        "  if i % 200 == 199:\r\n",
        "    print(i, error_sum)\r\n",
        "\r\n",
        "# 최종 에러값이 점차 줄어들고 있음을 확인할 수 있다."
      ],
      "execution_count": 72,
      "outputs": [
        {
          "output_type": "stream",
          "text": [
            "199 -0.04535172900518375\n",
            "399 -0.02467624268377233\n",
            "599 -0.01683885187719586\n",
            "799 -0.012737382139598782\n",
            "999 -0.010224855230156121\n",
            "1199 -0.008531880670983587\n",
            "1399 -0.00731545584611578\n",
            "1599 -0.006399554359295005\n",
            "1799 -0.005686520491942421\n",
            "1999 -0.005113953560702381\n"
          ],
          "name": "stdout"
        }
      ]
    },
    {
      "cell_type": "code",
      "metadata": {
        "colab": {
          "base_uri": "https://localhost:8080/"
        },
        "id": "wQlNR-GDD6DC",
        "outputId": "cebae42e-17a8-458a-d791-8abbfa89a190"
      },
      "source": [
        "for i in range(4):\r\n",
        "  print('X:', x[i], 'Y:', y[i], 'Output:', sigmoid(np.sum(x[i]*w)+b))\r\n",
        "\r\n",
        "# 학습 수가 커질수록 실제출력이 기대 출력에 가까워지고 있다는 것을 알 수 있음"
      ],
      "execution_count": 73,
      "outputs": [
        {
          "output_type": "stream",
          "text": [
            "X: [1 1] Y: [1] Output: 0.9999972634537471\n",
            "X: [1 0] Y: [1] Output: 0.9898539979529972\n",
            "X: [0 1] Y: [1] Output: 0.989842440605204\n",
            "X: [0 0] Y: [0] Output: 0.025357266235283178\n"
          ],
          "name": "stdout"
        }
      ]
    },
    {
      "cell_type": "markdown",
      "metadata": {
        "id": "x51wSSktTPcd"
      },
      "source": [
        "#2.3 세번째 신경망 네트워크 : XOR"
      ]
    },
    {
      "cell_type": "code",
      "metadata": {
        "id": "jd8QpGIn_7vA"
      },
      "source": [
        "# XOR연산 : 홀수개의 입력이 참일때만, 결과가 참이 되는 것"
      ],
      "execution_count": 74,
      "outputs": []
    },
    {
      "cell_type": "code",
      "metadata": {
        "colab": {
          "base_uri": "https://localhost:8080/"
        },
        "id": "H9ZUqMOEFs-L",
        "outputId": "9b60edb2-b06c-4838-eb5d-30491b5ad438"
      },
      "source": [
        "import numpy as np\r\n",
        "x = np.array([[1,1],[1,0],[0,1],[0,0]])\r\n",
        "y = np.array([[0],[1],[1],[0]])\r\n",
        "w = tf.random.normal([2],0,1)\r\n",
        "b = tf.random.normal([1],0,1)\r\n",
        "b_x = 1\r\n",
        "\r\n",
        "for i in range(2000):\r\n",
        "  error_sum = 0\r\n",
        "  for j in range(4):\r\n",
        "    output = sigmoid(np.sum(x[j]*w+ b_x*b))\r\n",
        "    error = y[j][0] - output\r\n",
        "    w = w + x[j] * 0.1 * error\r\n",
        "    b = b + b_x * 0.1 * error\r\n",
        "    error_sum += error\r\n",
        "\r\n",
        "  if i % 200 == 199:\r\n",
        "    print(i, error_sum)\r\n",
        "\r\n",
        "# 어랏..? 어느순간 error_sum이 변하지 않고있다. "
      ],
      "execution_count": 75,
      "outputs": [
        {
          "output_type": "stream",
          "text": [
            "199 -0.0012332667776796535\n",
            "399 -2.147123196916123e-05\n",
            "599 -3.756836579604794e-07\n",
            "799 -3.161695172337886e-08\n",
            "999 -3.161695172337886e-08\n",
            "1199 -3.161695172337886e-08\n",
            "1399 -3.161695172337886e-08\n",
            "1599 -3.161695172337886e-08\n",
            "1799 -3.161695172337886e-08\n",
            "1999 -3.161695172337886e-08\n"
          ],
          "name": "stdout"
        }
      ]
    },
    {
      "cell_type": "code",
      "metadata": {
        "colab": {
          "base_uri": "https://localhost:8080/"
        },
        "id": "oPirt_-zG2N5",
        "outputId": "daa5cc1e-958f-4732-a7ad-5b42ba0f1daa"
      },
      "source": [
        "for i in range(4):\r\n",
        "  print('X:', x[i], 'Y:', y[i], 'Output:', sigmoid(np.sum(x[i]*w)+b))\r\n",
        "\r\n",
        "# X가 변해도 Output(학습 결과값)은 0.5 근처에서 머물고 있다. 왜일까?"
      ],
      "execution_count": 76,
      "outputs": [
        {
          "output_type": "stream",
          "text": [
            "X: [1 1] Y: [0] Output: 0.522711139495212\n",
            "X: [1 0] Y: [1] Output: 0.5227111580832337\n",
            "X: [0 1] Y: [1] Output: 0.4967533592088731\n",
            "X: [0 0] Y: [0] Output: 0.4967533759719726\n"
          ],
          "name": "stdout"
        }
      ]
    },
    {
      "cell_type": "code",
      "metadata": {
        "id": "cdxsAivkAi_x"
      },
      "source": [
        "# 신경망 학습에서 중요한 것은 가중치(w)와 편향(b)이다.\r\n",
        "# 가중치와 편향이 '경사하강법'을 통해 점차 에러를 극복하기 때문!"
      ],
      "execution_count": 77,
      "outputs": []
    },
    {
      "cell_type": "code",
      "metadata": {
        "colab": {
          "base_uri": "https://localhost:8080/"
        },
        "id": "VLcVkZQ7HImd",
        "outputId": "85967d2f-dfb5-4e1b-9ce7-7fab66d7ed1c"
      },
      "source": [
        "# 어째서 위와 같은 결과가 나왔는지 확인해보기 위해 '가중치 값'과 '편향 값'을 한 번 출력해보자.\r\n",
        "print('w:', w)      # 첫번째 입력값의 가중치: 0.1038... 두번째 입력값의 가중치: 0.0000...\r\n",
        "print('b:', b)      # 편향 값: 너무 작은 값"
      ],
      "execution_count": 78,
      "outputs": [
        {
          "output_type": "stream",
          "text": [
            "w: tf.Tensor([ 1.0389386e-01 -6.7055225e-08], shape=(2,), dtype=float32)\n",
            "b: tf.Tensor([-0.01298668], shape=(1,), dtype=float32)\n"
          ],
          "name": "stdout"
        }
      ]
    },
    {
      "cell_type": "code",
      "metadata": {
        "colab": {
          "base_uri": "https://localhost:8080/"
        },
        "id": "raq6grS-CtAO",
        "outputId": "59cc0d61-c4ce-451f-936c-2437c32adaa2"
      },
      "source": [
        "print(\"XOR 연산 가중치 및 편향 \")\r\n",
        "print('w:',w)\r\n",
        "print('b:',b)\r\n",
        "\r\n",
        "# 첫번째 가중치, 두번째 가중치, 편향이 모두 비슷해 그 의미를 알기 어려움"
      ],
      "execution_count": 79,
      "outputs": [
        {
          "output_type": "stream",
          "text": [
            "XOR 연산 가중치 및 편향 \n",
            "w: tf.Tensor([ 1.0389386e-01 -6.7055225e-08], shape=(2,), dtype=float32)\n",
            "b: tf.Tensor([-0.01298668], shape=(1,), dtype=float32)\n"
          ],
          "name": "stdout"
        }
      ]
    },
    {
      "cell_type": "code",
      "metadata": {
        "id": "NzH20rRuEWck"
      },
      "source": [
        "# 이러한 이유로 1970년~1980년 인공지능의 암흑기('인공지능의 겨울')를 맞이하게 된다.\r\n",
        "# 하지만 연구자들은 여기서 포기하지 않고, 이를 해결 할 다른 방법을 찾게 되는데..\r\n",
        "# 이는 다음 시간에 이어서 ~~~~~~~~~c"
      ],
      "execution_count": 79,
      "outputs": []
    }
  ]
}