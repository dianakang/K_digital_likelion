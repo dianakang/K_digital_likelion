{
  "nbformat": 4,
  "nbformat_minor": 0,
  "metadata": {
    "colab": {
      "name": "20201217.ipynb",
      "provenance": [],
      "authorship_tag": "ABX9TyNPemnGrR0/ATHDepqGEi6e",
      "include_colab_link": true
    },
    "kernelspec": {
      "name": "python3",
      "display_name": "Python 3"
    }
  },
  "cells": [
    {
      "cell_type": "markdown",
      "metadata": {
        "id": "view-in-github",
        "colab_type": "text"
      },
      "source": [
        "<a href=\"https://colab.research.google.com/github/dianakang/K_digital_likelion_week2/blob/master/20201217.ipynb\" target=\"_parent\"><img src=\"https://colab.research.google.com/assets/colab-badge.svg\" alt=\"Open In Colab\"/></a>"
      ]
    },
    {
      "cell_type": "markdown",
      "metadata": {
        "id": "lCD1LaJ7dTaB"
      },
      "source": [
        "# 3.3 딥러닝 네트워크를 이용한 회귀"
      ]
    },
    {
      "cell_type": "code",
      "metadata": {
        "colab": {
          "base_uri": "https://localhost:8080/"
        },
        "id": "8ihF8fwRMtF9",
        "outputId": "7b3178d2-f61b-4326-a3d7-5122c5c601f2"
      },
      "source": [
        "import tensorflow as tf\r\n",
        "import numpy as np\r\n",
        "\r\n",
        "X = [0.3, -0.78, 1.26, 0.03, 1.11, 0.24, -0.24, -0.47, -0.77, -0.37, -0.85, -0.41, -0.27, 0.02, -0.76, 2.66]\r\n",
        "Y = [12.27, 14.44, 11.87, 18.75, 17.52, 16.37, 19.78, 19.51, 12.65, 14.74, 10.72, 21.94, 12.83, 15.51, 17.14, 14.42]\r\n",
        "\r\n",
        "# Dense = '완전연결법' / 첫번째 레이어 유닛 개수는 사용자가 감으로 설정\r\n",
        "model = tf.keras.Sequential([\r\n",
        "      tf.keras.layers.Dense(units=6, activation='tanh', input_shape=(1,)),  # 'tanh' 활성화함수는 하이퍼볼릭 탄젠트 함수로, 실수 입력을 받아 -1과 1 사이의 출력을 반환한다 (cf.시그모이드 함수 = 0~1)\r\n",
        "      tf.keras.layers.Dense(units=1)           # X 입력값에 대한 하나의 Y값만 출력해야 하기 때문에 뉴런 수가 1개이다.\r\n",
        "])\r\n",
        "\r\n",
        "# SGD = 확률적 경사하강법\r\n",
        "# 'mse' = 평균 제곱 오차(Mean Squared Error)로, 잔차의 제곱의 평균이 되기 때문에 손실을 줄이는 쪽으로 학습한다. \r\n",
        "model.compile(optimizer=tf.keras.optimizers.SGD(lr=0.1), loss='mse')\r\n",
        "model.summary()"
      ],
      "execution_count": 1,
      "outputs": [
        {
          "output_type": "stream",
          "text": [
            "Model: \"sequential\"\n",
            "_________________________________________________________________\n",
            "Layer (type)                 Output Shape              Param #   \n",
            "=================================================================\n",
            "dense (Dense)                (None, 6)                 12        \n",
            "_________________________________________________________________\n",
            "dense_1 (Dense)              (None, 1)                 7         \n",
            "=================================================================\n",
            "Total params: 19\n",
            "Trainable params: 19\n",
            "Non-trainable params: 0\n",
            "_________________________________________________________________\n"
          ],
          "name": "stdout"
        }
      ]
    },
    {
      "cell_type": "code",
      "metadata": {
        "id": "sfByA9_KePXH"
      },
      "source": [
        "# 첫 번째 레이어에는 6개의 뉴런을 할당했음. \r\n",
        "# 뉴런이 많을수록 딥러닝 네트워크의 예측성능이 좋아지지만, 너무 많으면 학습이 제대로 안 되거나 과적합(overfitting)될 수 있음. "
      ],
      "execution_count": 2,
      "outputs": []
    },
    {
      "cell_type": "code",
      "metadata": {
        "colab": {
          "base_uri": "https://localhost:8080/"
        },
        "id": "Qord8tjOM1sT",
        "outputId": "6208bdfe-f465-42a5-a43c-7d5ca212d70a"
      },
      "source": [
        "model.fit(X,Y, epochs=10)    # epochs = 반복학습을 하는 횟수"
      ],
      "execution_count": 3,
      "outputs": [
        {
          "output_type": "stream",
          "text": [
            "Epoch 1/10\n",
            "1/1 [==============================] - 0s 1ms/step - loss: 254.6208\n",
            "Epoch 2/10\n",
            "1/1 [==============================] - 0s 1ms/step - loss: 127.6963\n",
            "Epoch 3/10\n",
            "1/1 [==============================] - 0s 997us/step - loss: 14.7037\n",
            "Epoch 4/10\n",
            "1/1 [==============================] - 0s 964us/step - loss: 9.8641\n",
            "Epoch 5/10\n",
            "1/1 [==============================] - 0s 2ms/step - loss: 9.7062\n",
            "Epoch 6/10\n",
            "1/1 [==============================] - 0s 829us/step - loss: 9.6963\n",
            "Epoch 7/10\n",
            "1/1 [==============================] - 0s 1ms/step - loss: 9.6912\n",
            "Epoch 8/10\n",
            "1/1 [==============================] - 0s 1ms/step - loss: 9.6862\n",
            "Epoch 9/10\n",
            "1/1 [==============================] - 0s 3ms/step - loss: 9.6808\n",
            "Epoch 10/10\n",
            "1/1 [==============================] - 0s 1ms/step - loss: 9.6749\n"
          ],
          "name": "stdout"
        },
        {
          "output_type": "execute_result",
          "data": {
            "text/plain": [
              "<tensorflow.python.keras.callbacks.History at 0x7fc08e897780>"
            ]
          },
          "metadata": {
            "tags": []
          },
          "execution_count": 3
        }
      ]
    },
    {
      "cell_type": "code",
      "metadata": {
        "id": "FiQVJEDmWh6X"
      },
      "source": [
        "# 손실에 거의 변화가 없으면 학습이 거의 다 된 것이다.\r\n",
        "\r\n",
        "# 딥러닝(머신러닝)에서는 충분히 학습했다고 판단하면 학습을 종료해야한다.\r\n",
        "# 그렇지 않으면 학습 데이터에 과적합(overfitting)되어 새로운 데이터가 들어왔을 때 유연하게 대처하지 못할 수 있다.\r\n",
        "# 학습 데이터의 일부를 검증 데이터(validataion data)라고 하는데, 이를 설정하는 것은 학습을 언제 멈출지 결정하는 좋은 판단 기준이 된다."
      ],
      "execution_count": 4,
      "outputs": []
    },
    {
      "cell_type": "code",
      "metadata": {
        "id": "ALz1MhoBX6jg"
      },
      "source": [
        "# 학습이 끝나면 X를 입력했을 때 딥러닝 네트워크가 어떤 값을 예측하는지 확인해야한다!"
      ],
      "execution_count": 5,
      "outputs": []
    },
    {
      "cell_type": "code",
      "metadata": {
        "colab": {
          "base_uri": "https://localhost:8080/"
        },
        "id": "rSVD1LrgM11x",
        "outputId": "612596fd-1ec5-44f4-8241-fa537738696e"
      },
      "source": [
        "model.predict(X)"
      ],
      "execution_count": 6,
      "outputs": [
        {
          "output_type": "execute_result",
          "data": {
            "text/plain": [
              "array([[15.642442],\n",
              "       [15.926805],\n",
              "       [15.174116],\n",
              "       [15.741727],\n",
              "       [15.257723],\n",
              "       [15.665956],\n",
              "       [15.822936],\n",
              "       [15.876768],\n",
              "       [15.925585],\n",
              "       [15.855126],\n",
              "       [15.934628],\n",
              "       [15.864109],\n",
              "       [15.83077 ],\n",
              "       [15.745068],\n",
              "       [15.92434 ],\n",
              "       [14.196185]], dtype=float32)"
            ]
          },
          "metadata": {
            "tags": []
          },
          "execution_count": 6
        }
      ]
    },
    {
      "cell_type": "code",
      "metadata": {
        "id": "78nB0AUsXmcV"
      },
      "source": [
        "# 거의 15 부근의 값을 출력하고 있다. 그렇다면 이제 이 결과를 시각화 해 볼 차례!"
      ],
      "execution_count": 7,
      "outputs": []
    },
    {
      "cell_type": "code",
      "metadata": {
        "colab": {
          "base_uri": "https://localhost:8080/",
          "height": 279
        },
        "id": "SkwEPtJ_M182",
        "outputId": "c76ca8aa-23ca-4ffb-8eeb-eb70033832d7"
      },
      "source": [
        "import matplotlib.pyplot as plt\r\n",
        "\r\n",
        "line_x = np.arange(min(X), max(X), 0.01)   # 0.01은 간격\r\n",
        "line_y = model.predict(line_x)\r\n",
        "\r\n",
        "plt.plot(line_x,line_y,'r-')\r\n",
        "plt.plot(X,Y,'bo')\r\n",
        "plt.xlabel('Population Growth Rate (%)')\r\n",
        "plt.ylabel('Elderly Population Rate (%)')\r\n",
        "plt.show()\r\n"
      ],
      "execution_count": 8,
      "outputs": [
        {
          "output_type": "display_data",
          "data": {
            "image/png": "[encoded data removed]",
            "text/plain": [
              "<Figure size 432x288 with 1 Axes>"
            ]
          },
          "metadata": {
            "tags": [],
            "needs_background": "light"
          }
        }
      ]
    },
    {
      "cell_type": "code",
      "metadata": {
        "id": "24l-MF6jM2Dd"
      },
      "source": [
        "# 딥러닝 네트워크도 앞서 배웠던 직선, 2차함수와 비슷한 성능으로 'X 데이터에 대해서 Y를 예측한다'는 결론을 내릴 수 있다.\r\n",
        "# 이는 회귀식을 가정하고 변수를 직접 추정('a,b,c,d 정의')하지 않아도 딥러닝 네트워크를 이용해 회귀선을 예측할 수 있다는 것이다."
      ],
      "execution_count": 9,
      "outputs": []
    },
    {
      "cell_type": "markdown",
      "metadata": {
        "id": "9pOPJuwaM2K1"
      },
      "source": [
        "# 3.4 보스턴 주택 가격 데이터 세트"
      ]
    },
    {
      "cell_type": "code",
      "metadata": {
        "colab": {
          "base_uri": "https://localhost:8080/"
        },
        "id": "JyL3SHtjM2Vc",
        "outputId": "256c9e4f-6276-483a-8592-273868a1bb4b"
      },
      "source": [
        "from tensorflow.keras.datasets import boston_housing\r\n",
        "#   훈련 데이터       테스트 데이터\r\n",
        "(train_X, train_Y), (test_X, test_Y) = boston_housing.load_data()\r\n",
        "\r\n",
        "print(len(train_X), len(test_X))\r\n",
        "print(train_X[0])\r\n",
        "print(train_Y[0])"
      ],
      "execution_count": 10,
      "outputs": [
        {
          "output_type": "stream",
          "text": [
            "Downloading data from https://storage.googleapis.com/tensorflow/tf-keras-datasets/boston_housing.npz\n",
            "57344/57026 [==============================] - 0s 0us/step\n",
            "404 102\n",
            "[  1.23247   0.        8.14      0.        0.538     6.142    91.7\n",
            "   3.9769    4.      307.       21.      396.9      18.72   ]\n",
            "15.2\n"
          ],
          "name": "stdout"
        }
      ]
    },
    {
      "cell_type": "code",
      "metadata": {
        "id": "rALEAncgJwHo"
      },
      "source": [
        "# 훈련 데이터가 404개, 테스트 데이터가 102개 \r\n",
        "# 검증 데이터는 훈련 데이터의 일부"
      ],
      "execution_count": 11,
      "outputs": []
    },
    {
      "cell_type": "code",
      "metadata": {
        "id": "yIP2O-Uxl55h"
      },
      "source": [
        "# 데이터 세트의 속성을 보면, 각 데이터의 단위가 다르다는 것을 알 수 있다. (ex. 숫자, %, $ 등)\r\n",
        "# 따라서 딥러닝에서는 이러한 데이터를 전처리하여 정규화(Standardization)를 해야한다."
      ],
      "execution_count": 12,
      "outputs": []
    },
    {
      "cell_type": "markdown",
      "metadata": {
        "id": "CffhJXKbmgzr"
      },
      "source": [
        "## 3.4.1 데이터 전처리(정규화)"
      ]
    },
    {
      "cell_type": "code",
      "metadata": {
        "colab": {
          "base_uri": "https://localhost:8080/"
        },
        "id": "b03BbH9JexWj",
        "outputId": "f3137724-34ae-44ee-f307-b32fce2d278b"
      },
      "source": [
        "# 데이터를 정규화하려면 각 데이터에서 평균값을 뺀 다음 표준편차로 나눈다.\r\n",
        "# 평균과 표준편차를 구할 때는 '훈련 데이터'의 평균과 표준편차를 구한 후, 이것으로 테스트 데이터도 정규화한다.\r\n",
        "\r\n",
        "# axis는 데이터의 축을 나타낸다.\r\n",
        "# std는 표준편차를 구하는 함수이다.\r\n",
        "x_mean = train_X.mean(axis=0)\r\n",
        "x_std = train_X.std(axis=0)\r\n",
        "\r\n",
        "# train_X - x_mean을 다시 train_X에 넣어준다는 의미이다.\r\n",
        "# 밑에 /= 도 마찬가지로 나누기 한 것을 다시 넣어준다는 뜻!\r\n",
        "train_X -= x_mean\r\n",
        "train_X /= x_std\r\n",
        "test_X -= x_mean\r\n",
        "test_X /= x_std\r\n",
        "\r\n",
        "y_mean = train_Y.mean(axis=0)\r\n",
        "y_std = train_Y.std(axis=0)\r\n",
        "train_Y -= y_mean\r\n",
        "train_Y /= y_std\r\n",
        "test_Y -= y_mean\r\n",
        "test_Y /= y_std\r\n",
        "\r\n",
        "# Python은 0부터 시작하므로 리스트에 0을 넣어 첫번째 값을 출력한다.\r\n",
        "print(train_X[0])\r\n",
        "print(train_Y[0])"
      ],
      "execution_count": 13,
      "outputs": [
        {
          "output_type": "stream",
          "text": [
            "[-0.27224633 -0.48361547 -0.43576161 -0.25683275 -0.1652266  -0.1764426\n",
            "  0.81306188  0.1166983  -0.62624905 -0.59517003  1.14850044  0.44807713\n",
            "  0.8252202 ]\n",
            "-0.7821526033779157\n"
          ],
          "name": "stdout"
        }
      ]
    },
    {
      "cell_type": "code",
      "metadata": {
        "id": "WMgHJExEM2ar"
      },
      "source": [
        "# 전처리 결과, 단위가 숫자로 통일되어 나오고 있음을 알 수 있다."
      ],
      "execution_count": 14,
      "outputs": []
    },
    {
      "cell_type": "markdown",
      "metadata": {
        "id": "ZzTMCX6wezLg"
      },
      "source": [
        "## 3.4.2 데이터셋 회귀 모델 생성"
      ]
    },
    {
      "cell_type": "code",
      "metadata": {
        "colab": {
          "base_uri": "https://localhost:8080/"
        },
        "id": "d1vRSXKuezW8",
        "outputId": "ef236623-77b2-4797-924b-672cfec851c6"
      },
      "source": [
        "# Boston Housing Dataset 회귀 모델 생성\r\n",
        "model = tf.keras.Sequential([\r\n",
        "    tf.keras.layers.Dense(units=52, activation='relu', input_shape=(13,)),     # 첫 번째 레이어에서는 X 데이터의 속성을 모두 불러오기 위해 input_shape의 첫 번째 차원을 변수의 개수로 지정한다.\r\n",
        "    tf.keras.layers.Dense(units=39, activation='relu'),\r\n",
        "    tf.keras.layers.Dense(units=26, activation='relu'),                        \r\n",
        "    tf.keras.layers.Dense(units=1)          # 마지막 레이어는 주택가격인 Y값 1개만 예측하면 되므로 뉴런의 수가 1개이다.\r\n",
        "])                                          # 활성화 함수는 ReLU를 주로 사용했다 -> 입력값: - 이면 출력값: 0\r\n",
        "                                            # ReLU 함수는 여러 개의 레이어를 겹쳐서 사용할 때 시그모이드 함수나 tanh보다 좋은 결과를 얻을 수 있다.\r\n",
        "model.compile(optimizer=tf.keras.optimizers.Adam(lr=0.07), loss='mse')\r\n",
        "model.summary()"
      ],
      "execution_count": 15,
      "outputs": [
        {
          "output_type": "stream",
          "text": [
            "Model: \"sequential_1\"\n",
            "_________________________________________________________________\n",
            "Layer (type)                 Output Shape              Param #   \n",
            "=================================================================\n",
            "dense_2 (Dense)              (None, 52)                728       \n",
            "_________________________________________________________________\n",
            "dense_3 (Dense)              (None, 39)                2067      \n",
            "_________________________________________________________________\n",
            "dense_4 (Dense)              (None, 26)                1040      \n",
            "_________________________________________________________________\n",
            "dense_5 (Dense)              (None, 1)                 27        \n",
            "=================================================================\n",
            "Total params: 3,862\n",
            "Trainable params: 3,862\n",
            "Non-trainable params: 0\n",
            "_________________________________________________________________\n"
          ],
          "name": "stdout"
        }
      ]
    },
    {
      "cell_type": "code",
      "metadata": {
        "colab": {
          "base_uri": "https://localhost:8080/"
        },
        "id": "jL_QWTirezi9",
        "outputId": "581adbec-666d-43f2-f455-9ce289cbae1f"
      },
      "source": [
        "# model.fit()함수로 회귀 모델을 학습시킨다.\r\n",
        "# validation_split이라는 인수가 추가됐다. 이는 훈련 데이터의 일부인 검증 데이터로 학습 결과를 검증한다.\r\n",
        "history = model.fit(train_X,train_Y, epochs=25, batch_size=32, validation_split=0.25)"
      ],
      "execution_count": 16,
      "outputs": [
        {
          "output_type": "stream",
          "text": [
            "Epoch 1/25\n",
            "10/10 [==============================] - 0s 12ms/step - loss: 1.4756 - val_loss: 0.8013\n",
            "Epoch 2/25\n",
            "10/10 [==============================] - 0s 3ms/step - loss: 0.4457 - val_loss: 0.4309\n",
            "Epoch 3/25\n",
            "10/10 [==============================] - 0s 3ms/step - loss: 0.2670 - val_loss: 0.3661\n",
            "Epoch 4/25\n",
            "10/10 [==============================] - 0s 3ms/step - loss: 0.2134 - val_loss: 0.2688\n",
            "Epoch 5/25\n",
            "10/10 [==============================] - 0s 3ms/step - loss: 0.1642 - val_loss: 0.1902\n",
            "Epoch 6/25\n",
            "10/10 [==============================] - 0s 3ms/step - loss: 0.1602 - val_loss: 0.1437\n",
            "Epoch 7/25\n",
            "10/10 [==============================] - 0s 3ms/step - loss: 0.1640 - val_loss: 0.3227\n",
            "Epoch 8/25\n",
            "10/10 [==============================] - 0s 3ms/step - loss: 0.1975 - val_loss: 0.3684\n",
            "Epoch 9/25\n",
            "10/10 [==============================] - 0s 3ms/step - loss: 0.1692 - val_loss: 0.2124\n",
            "Epoch 10/25\n",
            "10/10 [==============================] - 0s 3ms/step - loss: 0.1305 - val_loss: 0.1538\n",
            "Epoch 11/25\n",
            "10/10 [==============================] - 0s 2ms/step - loss: 0.1070 - val_loss: 0.1690\n",
            "Epoch 12/25\n",
            "10/10 [==============================] - 0s 3ms/step - loss: 0.1179 - val_loss: 0.1327\n",
            "Epoch 13/25\n",
            "10/10 [==============================] - 0s 2ms/step - loss: 0.1225 - val_loss: 0.1426\n",
            "Epoch 14/25\n",
            "10/10 [==============================] - 0s 2ms/step - loss: 0.0825 - val_loss: 0.1193\n",
            "Epoch 15/25\n",
            "10/10 [==============================] - 0s 2ms/step - loss: 0.0722 - val_loss: 0.1159\n",
            "Epoch 16/25\n",
            "10/10 [==============================] - 0s 3ms/step - loss: 0.0692 - val_loss: 0.1297\n",
            "Epoch 17/25\n",
            "10/10 [==============================] - 0s 3ms/step - loss: 0.1119 - val_loss: 0.1817\n",
            "Epoch 18/25\n",
            "10/10 [==============================] - 0s 3ms/step - loss: 0.1081 - val_loss: 0.1163\n",
            "Epoch 19/25\n",
            "10/10 [==============================] - 0s 3ms/step - loss: 0.2068 - val_loss: 0.1908\n",
            "Epoch 20/25\n",
            "10/10 [==============================] - 0s 3ms/step - loss: 0.2746 - val_loss: 0.6823\n",
            "Epoch 21/25\n",
            "10/10 [==============================] - 0s 3ms/step - loss: 0.2348 - val_loss: 0.2509\n",
            "Epoch 22/25\n",
            "10/10 [==============================] - 0s 3ms/step - loss: 0.1212 - val_loss: 0.1902\n",
            "Epoch 23/25\n",
            "10/10 [==============================] - 0s 3ms/step - loss: 0.1334 - val_loss: 0.3054\n",
            "Epoch 24/25\n",
            "10/10 [==============================] - 0s 3ms/step - loss: 0.1568 - val_loss: 0.1493\n",
            "Epoch 25/25\n",
            "10/10 [==============================] - 0s 3ms/step - loss: 0.1319 - val_loss: 0.2234\n"
          ],
          "name": "stdout"
        }
      ]
    },
    {
      "cell_type": "code",
      "metadata": {
        "id": "L0RWYYp8McZT"
      },
      "source": [
        "# loss는 학습 데이터를 이용해 구한 값이고, val_loss는 검증 데이터를 이용해 구한 값이다."
      ],
      "execution_count": 17,
      "outputs": []
    },
    {
      "cell_type": "code",
      "metadata": {
        "colab": {
          "base_uri": "https://localhost:8080/",
          "height": 279
        },
        "id": "ecyZmV3hn1kp",
        "outputId": "f7c6a63b-f583-42b1-b40b-91001bb1cdd3"
      },
      "source": [
        "import matplotlib.pyplot as plt\r\n",
        "# history에는 loss와 val_loss가 저장되어 있다.\r\n",
        "plt.plot(history.history['loss'], 'b-', label='loss')\r\n",
        "plt.plot(history.history['val_loss'], 'r--', label='val_loss')\r\n",
        "plt.xlabel('Epoch')\r\n",
        "plt.legend()       # 범례\r\n",
        "plt.show()"
      ],
      "execution_count": 18,
      "outputs": [
        {
          "output_type": "display_data",
          "data": {
            "image/png": "[encoded data removed]",
            "text/plain": [
              "<Figure size 432x288 with 1 Axes>"
            ]
          },
          "metadata": {
            "tags": [],
            "needs_background": "light"
          }
        }
      ]
    },
    {
      "cell_type": "code",
      "metadata": {
        "id": "C4mAOjVZNCxE"
      },
      "source": [
        "# 파란색 실선인 훈련 데이터의 손실은 비교적 꾸준히 감소하는데 비해, 붉은색 점선으로 표시된 검증 데이터의 손실은 항상 감조하지만은 않는다.\r\n",
        "# 특히 마지막 에포크에 검증 데이터의 손실이 크게 증가했기 때문에 네트워크는 검증 데이터에 대해 좋지 않은 성적을 낼 것이다."
      ],
      "execution_count": 19,
      "outputs": []
    },
    {
      "cell_type": "code",
      "metadata": {
        "colab": {
          "base_uri": "https://localhost:8080/"
        },
        "id": "vpd23thkn1v2",
        "outputId": "6b5eeb87-dd7a-4c7e-b188-a28049be8390"
      },
      "source": [
        "# 회귀 모델 평가\r\n",
        "model.evaluate(test_X, test_Y)   # 테스트 데이터 -> 꼭 마지막 단계에서만 써야 함."
      ],
      "execution_count": 20,
      "outputs": [
        {
          "output_type": "stream",
          "text": [
            "4/4 [==============================] - 0s 1ms/step - loss: 0.2128\n"
          ],
          "name": "stdout"
        },
        {
          "output_type": "execute_result",
          "data": {
            "text/plain": [
              "0.2128281146287918"
            ]
          },
          "metadata": {
            "tags": []
          },
          "execution_count": 20
        }
      ]
    },
    {
      "cell_type": "code",
      "metadata": {
        "id": "sfc2p4eQNraE"
      },
      "source": [
        "# 실제 주택 가격과 예측 주택 가격을 1:1로 비교"
      ],
      "execution_count": 21,
      "outputs": []
    },
    {
      "cell_type": "code",
      "metadata": {
        "colab": {
          "base_uri": "https://localhost:8080/",
          "height": 339
        },
        "id": "dODM7cKun18v",
        "outputId": "0b786ca3-0494-4f59-b692-dc63700ec408"
      },
      "source": [
        "import matplotlib.pyplot as plt\r\n",
        "pred_Y = model.predict(test_X)\r\n",
        "plt.figure(figsize=(5,5))      # figure = '그림을 얼마나 크게 그릴 것인지'\r\n",
        "plt.plot(test_Y, pred_Y, 'b.')\r\n",
        "plt.axis([min(test_Y), max(test_Y), min(test_Y), max(test_Y)])  # axis = 축\r\n",
        "\r\n",
        "# y=x에 해당하는 대각선\r\n",
        "plt.plot([min(test_Y), max(test_Y)], [min(test_Y), max(test_Y)], ls=\"--\", c=\".3\")       # c = 점의 크기\r\n",
        "plt.xlabel('test_Y')\r\n",
        "plt.ylabel('pred_Y')\r\n",
        "\r\n",
        "plt.show()"
      ],
      "execution_count": 22,
      "outputs": [
        {
          "output_type": "display_data",
          "data": {
            "image/png": "[encoded data removed]",
            "text/plain": [
              "<Figure size 360x360 with 1 Axes>"
            ]
          },
          "metadata": {
            "tags": [],
            "needs_background": "light"
          }
        }
      ]
    },
    {
      "cell_type": "code",
      "metadata": {
        "id": "BCrkaPTuOFjL"
      },
      "source": [
        "# 약간의 이상치가 발생하고 있음을 확인할 수 있다.\r\n",
        "# 검증 데이터와 테스트 데이터 모두 좋은 예측 성적을 내려면 어떻게 해야할까?\r\n",
        "# 검증 데이터와 테스트 데이터는 훈련 데이터와 달리 네트워크의 가중치에 영향을 미치지 않는다는 공통점이 있다.\r\n",
        "# 즉, 검증 데이터에 대한 성적이 좋아지면, 테스트 데이터에 대한 성적도 좋아지게 된다.\r\n",
        "# 검증 데이터에 대한 성적이 좋아지려면 네트워크가 훈련 데이터에 과적합되지 않도록 학습 도중 끼어들어 학습을 멈춰줘야 한다.  -> 이를 '콜백(callback)'이라 한다."
      ],
      "execution_count": 23,
      "outputs": []
    },
    {
      "cell_type": "code",
      "metadata": {
        "id": "fs6pnBJlPCNB"
      },
      "source": [
        "# 콜백 함수는 에폭이 끝날 때마다 호출된다.\r\n",
        "# model.fit()함수에 callbacks 인수를 사용해 콜백 함수의 리스트를 지정할 수 있다. "
      ],
      "execution_count": 24,
      "outputs": []
    },
    {
      "cell_type": "code",
      "metadata": {
        "colab": {
          "base_uri": "https://localhost:8080/"
        },
        "id": "KNGYDK6je1Lq",
        "outputId": "4695ef18-dd78-4d80-c12f-78ceb93f4ed0"
      },
      "source": [
        "# 모델 재정의 및 학습\r\n",
        "model = tf.keras.Sequential([\r\n",
        "    tf.keras.layers.Dense(units=52, activation='relu', input_shape=(13,)),\r\n",
        "    tf.keras.layers.Dense(units=39, activation='relu'),\r\n",
        "    tf.keras.layers.Dense(units=26, activation='relu'),        # units의 수는 점차 줄어드는 모습으로 써주는게 일반적.\r\n",
        "    tf.keras.layers.Dense(units=1)\r\n",
        "])\r\n",
        "\r\n",
        "model.compile(optimizer=tf.keras.optimizers.Adam(lr=0.07), loss='mse')\r\n",
        "\r\n",
        "history = model.fit(train_X, train_Y, epochs=25, batch_size=32, validation_split=0.25,\r\n",
        "\r\n",
        "# patience는 몇 번의 에폭을 기준을 삼을 것인지에 대한 인수이며 보통 5 ~ 10을 넣어준다. / monitor는 어떤 값을 지켜볼 것인지에 대한 인수이다 / 'val_loss'는 검증 데이터이다. \r\n",
        "# 콜백 함수의 리스트에 들어간 함수는 tf.keras.callbacks.EarlyStopping이다.\r\n",
        "# 과적합을 막기 위해 학습을 일찍 멈추는 기능을 하는 함수이다. \r\n",
        "callbacks = [tf.keras.callbacks.EarlyStopping(patience=3, monitor='val_loss')])"
      ],
      "execution_count": 25,
      "outputs": [
        {
          "output_type": "stream",
          "text": [
            "Epoch 1/25\n",
            "10/10 [==============================] - 0s 22ms/step - loss: 2.1352 - val_loss: 1.0795\n",
            "Epoch 2/25\n",
            "10/10 [==============================] - 0s 3ms/step - loss: 0.5290 - val_loss: 0.7109\n",
            "Epoch 3/25\n",
            "10/10 [==============================] - 0s 3ms/step - loss: 0.4507 - val_loss: 0.7155\n",
            "Epoch 4/25\n",
            "10/10 [==============================] - 0s 3ms/step - loss: 0.4183 - val_loss: 0.6843\n",
            "Epoch 5/25\n",
            "10/10 [==============================] - 0s 3ms/step - loss: 0.2664 - val_loss: 0.2406\n",
            "Epoch 6/25\n",
            "10/10 [==============================] - 0s 3ms/step - loss: 0.1666 - val_loss: 0.7050\n",
            "Epoch 7/25\n",
            "10/10 [==============================] - 0s 3ms/step - loss: 0.2782 - val_loss: 0.2585\n",
            "Epoch 8/25\n",
            "10/10 [==============================] - 0s 3ms/step - loss: 0.2319 - val_loss: 0.3961\n"
          ],
          "name": "stdout"
        }
      ]
    },
    {
      "cell_type": "code",
      "metadata": {
        "id": "UyS0ukStP7ba"
      },
      "source": [
        "# 여기서는 val_loss가 3회의 에폭을 수행하는 동안 최고 기록을 갱신하지 못한다면 학습을 멈추게 된다.\r\n",
        "# 25번째까지 가지 못하고 조기중단 되었다. "
      ],
      "execution_count": 26,
      "outputs": []
    },
    {
      "cell_type": "code",
      "metadata": {
        "colab": {
          "base_uri": "https://localhost:8080/",
          "height": 279
        },
        "id": "uTuSPDLde1Wu",
        "outputId": "48939ad7-741d-4db6-edd9-bb2c283e3c12"
      },
      "source": [
        "# 회귀 모델 학습 결과 시각화\r\n",
        "import matplotlib.pyplot as plt\r\n",
        "plt.plot(history.history['loss'], 'b-', label='loss')\r\n",
        "plt.plot(history.history['val_loss'], 'r--', label = 'val_loss')\r\n",
        "plt.xlabel('Epoch')\r\n",
        "plt.legend()\r\n",
        "plt.show()\r\n"
      ],
      "execution_count": 27,
      "outputs": [
        {
          "output_type": "display_data",
          "data": {
            "image/png": "[encoded data removed]",
            "text/plain": [
              "<Figure size 432x288 with 1 Axes>"
            ]
          },
          "metadata": {
            "tags": [],
            "needs_background": "light"
          }
        }
      ]
    },
    {
      "cell_type": "code",
      "metadata": {
        "id": "cL_CFqe8QyeH"
      },
      "source": [
        "# 조기 학습 중단이 작용한 것을 확인할 수 있다.\r\n",
        "# 이전과는 달리 검증 데이터의 손실에서 뚜렷한 증가세가 보이지 않는다."
      ],
      "execution_count": 28,
      "outputs": []
    },
    {
      "cell_type": "code",
      "metadata": {
        "colab": {
          "base_uri": "https://localhost:8080/"
        },
        "id": "m0BEZefpM2gp",
        "outputId": "40da2f95-4685-46aa-9557-e610ea4aaa90"
      },
      "source": [
        "# 회귀 모델 평가\r\n",
        "model.evaluate(test_X, test_Y)"
      ],
      "execution_count": 29,
      "outputs": [
        {
          "output_type": "stream",
          "text": [
            "4/4 [==============================] - 0s 1ms/step - loss: 0.2017\n"
          ],
          "name": "stdout"
        },
        {
          "output_type": "execute_result",
          "data": {
            "text/plain": [
              "0.20170879364013672"
            ]
          },
          "metadata": {
            "tags": []
          },
          "execution_count": 29
        }
      ]
    },
    {
      "cell_type": "code",
      "metadata": {
        "id": "GOGku2tDRZ_C"
      },
      "source": [
        "# 이전의 수치에 비해 상대적으로 낮은 수치가 나온다는 것을 알 수 있다.\r\n",
        "# 네트워크의 목적은 '손실을 감소시키는 것'이기 때문에 조기 중단을 수행한 이 모델의 학습이 더 잘 됐다고 할 수 있다."
      ],
      "execution_count": 30,
      "outputs": []
    },
    {
      "cell_type": "code",
      "metadata": {
        "colab": {
          "base_uri": "https://localhost:8080/",
          "height": 339
        },
        "id": "PMvuIzSzRc8l",
        "outputId": "ede25b90-a465-4d06-ffbb-3b45f74e6d65"
      },
      "source": [
        "# 실제 주택 가격과 예측 주택 가격 시각화\r\n",
        "import matplotlib.pyplot as plt\r\n",
        "\r\n",
        "pred_Y = model.predict(test_X)\r\n",
        "\r\n",
        "plt.figure(figsize=(5,5))\r\n",
        "plt.plot(test_Y, pred_Y, 'b.')\r\n",
        "plt.axis([min(test_Y), max(test_Y), min(test_Y), max(test_Y)])\r\n",
        "\r\n",
        "plt.plot([min(test_Y), max(test_Y)], [min(test_Y), max(test_Y)], ls =\"--\", c=\".3\")\r\n",
        "plt.xlabel('test_Y')\r\n",
        "plt.ylabel('pred_Y')\r\n",
        "\r\n",
        "plt.show()"
      ],
      "execution_count": 34,
      "outputs": [
        {
          "output_type": "display_data",
          "data": {
            "image/png": "[encoded data removed]",
            "text/plain": [
              "<Figure size 360x360 with 1 Axes>"
            ]
          },
          "metadata": {
            "tags": [],
            "needs_background": "light"
          }
        }
      ]
    },
    {
      "cell_type": "code",
      "metadata": {
        "id": "dSYczeMwRdYZ"
      },
      "source": [
        "# 이전 결과에 비해 좀 더 정교하게 값을 예측하는 것으로 보인다.\r\n",
        "# 이렇게 콜백 함수로 EarlyStopping을 이용하면 네트워크가 과적합되지 않도록 도중에 학습을 멈출 수 있다."
      ],
      "execution_count": 35,
      "outputs": []
    },
    {
      "cell_type": "code",
      "metadata": {
        "id": "zkT7HBHjReB7"
      },
      "source": [
        ""
      ],
      "execution_count": 35,
      "outputs": []
    },
    {
      "cell_type": "code",
      "metadata": {
        "id": "4CAAygTHTUqA"
      },
      "source": [
        ""
      ],
      "execution_count": null,
      "outputs": []
    },
    {
      "cell_type": "code",
      "metadata": {
        "id": "cEgnmmnSTU1o"
      },
      "source": [
        ""
      ],
      "execution_count": null,
      "outputs": []
    }
  ]
}