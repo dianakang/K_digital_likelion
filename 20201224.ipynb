{
  "nbformat": 4,
  "nbformat_minor": 0,
  "metadata": {
    "colab": {
      "name": "20201224.ipynb",
      "provenance": [],
      "collapsed_sections": [],
      "toc_visible": true,
      "mount_file_id": "19e1Feire9o7fK4lR6eRP08utttFhHxA9",
      "authorship_tag": "ABX9TyP3ug6NiF8YLgZYD7YjJd2g",
      "include_colab_link": true
    },
    "kernelspec": {
      "name": "python3",
      "display_name": "Python 3"
    }
  },
  "cells": [
    {
      "cell_type": "markdown",
      "metadata": {
        "id": "view-in-github",
        "colab_type": "text"
      },
      "source": [
        "<a href=\"https://colab.research.google.com/github/dianakang/K_digital_likelion/blob/master/20201224.ipynb\" target=\"_parent\"><img src=\"https://colab.research.google.com/assets/colab-badge.svg\" alt=\"Open In Colab\"/></a>"
      ]
    },
    {
      "cell_type": "markdown",
      "metadata": {
        "id": "DhIy3PcLydWM"
      },
      "source": [
        "# 8.1 데이터 연결하기"
      ]
    },
    {
      "cell_type": "code",
      "metadata": {
        "id": "5aHplpVA7nZG"
      },
      "source": [
        "# 분석하기 좋은 데이터\r\n",
        "\r\n",
        "## 데이터 분석 목적에 맞는 데이터를 모아 새로운 표(table)을 만든다.\r\n",
        "## 측정한 값은 행(row)을 구성한다.\r\n",
        "## 변수는 열(column)로 구성한다."
      ],
      "execution_count": 3,
      "outputs": []
    },
    {
      "cell_type": "code",
      "metadata": {
        "id": "8kLcxlkD8IjY"
      },
      "source": [
        "# 데이터 연결하기\r\n",
        "\r\n",
        "## 데이터 집합은 연관성이 깊은 값끼리 모여 있기 때문에 데이터 연결을 통해 필요한 데이터를 만드는 과정이 반드시 필요하다."
      ],
      "execution_count": 4,
      "outputs": []
    },
    {
      "cell_type": "code",
      "metadata": {
        "id": "-HN6f66RyHV4"
      },
      "source": [
        "# concat 메서드로 데이터 연결하기\r\n",
        "\r\n",
        "import pandas as pd\r\n",
        "df1 = pd.read_csv('/content/drive/MyDrive/3주차/dataset/concat_1.csv')\r\n",
        "df2 = pd.read_csv('/content/drive/MyDrive/3주차/dataset/concat_2.csv')\r\n",
        "df3 = pd.read_csv('/content/drive/MyDrive/3주차/dataset/concat_3.csv')"
      ],
      "execution_count": 5,
      "outputs": []
    },
    {
      "cell_type": "code",
      "metadata": {
        "colab": {
          "base_uri": "https://localhost:8080/"
        },
        "id": "BhzeAkfeyTlz",
        "outputId": "65b66cc5-d9f0-49b1-97c2-e9133bbc0a61"
      },
      "source": [
        "# concat 메서드에 연결하려는 데이터프레임을 리스트에 담아 전달한다.\r\n",
        "## concat 메서드는 데이터프레임을 연결할 때 '위에서 아래 방향'으로 연결한다.\r\n",
        "## df1,2,3은 열 이름이 모두 A,B,C,D로 같다. 그래서 데이터프레임을 연결한 다음에도 열이 그대로 유지된다.\r\n",
        "\r\n",
        "row_concat = pd.concat([df1, df2, df3])\r\n",
        "print(row_concat)"
      ],
      "execution_count": 6,
      "outputs": [
        {
          "output_type": "stream",
          "text": [
            "     A    B    C    D\n",
            "0   a0   b0   c0   d0\n",
            "1   a1   b1   c1   d1\n",
            "2   a2   b2   c2   d2\n",
            "3   a3   b3   c3   d3\n",
            "0   a4   b4   c4   d4\n",
            "1   a5   b5   c5   d5\n",
            "2   a6   b6   c6   d6\n",
            "3   a7   b7   c7   d7\n",
            "0   a8   b8   c8   d8\n",
            "1   a9   b9   c9   d9\n",
            "2  a10  b10  c10  d10\n",
            "3  a11  b11  c11  d11\n"
          ],
          "name": "stdout"
        }
      ]
    },
    {
      "cell_type": "code",
      "metadata": {
        "colab": {
          "base_uri": "https://localhost:8080/"
        },
        "id": "qdpmQgsbyTta",
        "outputId": "c7fb8c4f-ef2e-48c5-9b42-454a77619241"
      },
      "source": [
        "# 연결한 데이터프레임에 행 데이터를 추가해보자.\r\n",
        "# concat 메서드는 전달받은 리스트의 요소 순서대로 데이터를 연결한다. 그래서 기존 데이터프레임에 있던 인덱스도 그대로 유지된다.\r\n",
        "\r\n",
        "print(row_concat.iloc[3, ])   # iloc = '행 번호'를 기준으로 행 데이터 추출"
      ],
      "execution_count": 7,
      "outputs": [
        {
          "output_type": "stream",
          "text": [
            "A    a3\n",
            "B    b3\n",
            "C    c3\n",
            "D    d3\n",
            "Name: 3, dtype: object\n"
          ],
          "name": "stdout"
        }
      ]
    },
    {
      "cell_type": "code",
      "metadata": {
        "colab": {
          "base_uri": "https://localhost:8080/"
        },
        "id": "mJbzA0-ryT2F",
        "outputId": "85f3dea5-d4a0-4f7b-b23e-2ea46bdb0c33"
      },
      "source": [
        "## 세미콜론(;) 이용\r\n",
        "print(row_concat.iloc[3, ]); print(row_concat.iloc[4, ]); print(row_concat.iloc[5, ])"
      ],
      "execution_count": 8,
      "outputs": [
        {
          "output_type": "stream",
          "text": [
            "A    a3\n",
            "B    b3\n",
            "C    c3\n",
            "D    d3\n",
            "Name: 3, dtype: object\n",
            "A    a4\n",
            "B    b4\n",
            "C    c4\n",
            "D    d4\n",
            "Name: 0, dtype: object\n",
            "A    a5\n",
            "B    b5\n",
            "C    c5\n",
            "D    d5\n",
            "Name: 1, dtype: object\n"
          ],
          "name": "stdout"
        }
      ]
    },
    {
      "cell_type": "code",
      "metadata": {
        "colab": {
          "base_uri": "https://localhost:8080/"
        },
        "id": "KnukBM0lyT99",
        "outputId": "7b5685ff-8cb9-4be1-bfc5-13f5735a5524"
      },
      "source": [
        "print(row_concat.iloc[3, ])\r\n",
        "print(row_concat.iloc[4, ])\r\n",
        "print(row_concat.iloc[5, ])"
      ],
      "execution_count": 9,
      "outputs": [
        {
          "output_type": "stream",
          "text": [
            "A    a3\n",
            "B    b3\n",
            "C    c3\n",
            "D    d3\n",
            "Name: 3, dtype: object\n",
            "A    a4\n",
            "B    b4\n",
            "C    c4\n",
            "D    d4\n",
            "Name: 0, dtype: object\n",
            "A    a5\n",
            "B    b5\n",
            "C    c5\n",
            "D    d5\n",
            "Name: 1, dtype: object\n"
          ],
          "name": "stdout"
        }
      ]
    },
    {
      "cell_type": "code",
      "metadata": {
        "id": "XQQl1fOXVaxV"
      },
      "source": [
        "# 이번에는 데이터프레임에 시리즈를 추가해볼 것이다. 먼저 리스트를 시리즈로 변환한다.\r\n",
        "new_row_series = pd.Series(['n1','n2','n3','n4'])  # 보다시피 열에 대한 정보는 없다."
      ],
      "execution_count": 10,
      "outputs": []
    },
    {
      "cell_type": "code",
      "metadata": {
        "colab": {
          "base_uri": "https://localhost:8080/"
        },
        "id": "USPsniIRVwnv",
        "outputId": "b36af54e-1b79-410c-a433-fe0ddd26896b"
      },
      "source": [
        "# concat 메서드로 데이터프레임과 시리즈를 연결해볼 것이다. 시리즈는 새로운 열(세로)로 추가가 된다.\r\n",
        "print(pd.concat([df1, new_row_series]))\r\n",
        "\r\n",
        "# NaN(누락값)이 많이 생겼다."
      ],
      "execution_count": 11,
      "outputs": [
        {
          "output_type": "stream",
          "text": [
            "     A    B    C    D    0\n",
            "0   a0   b0   c0   d0  NaN\n",
            "1   a1   b1   c1   d1  NaN\n",
            "2   a2   b2   c2   d2  NaN\n",
            "3   a3   b3   c3   d3  NaN\n",
            "0  NaN  NaN  NaN  NaN   n1\n",
            "1  NaN  NaN  NaN  NaN   n2\n",
            "2  NaN  NaN  NaN  NaN   n3\n",
            "3  NaN  NaN  NaN  NaN   n4\n"
          ],
          "name": "stdout"
        }
      ]
    },
    {
      "cell_type": "code",
      "metadata": {
        "id": "Poad9VpAWYrm"
      },
      "source": [
        "# 시리즈에 열 이름이 없기 때문에 이를 새로운 열로 간주하여 0이라는 이름의 열로 추가하였음을 알 수 있다.\r\n",
        "# 즉, 행이 1개라도 반드시 데이터프레임에 담아 연결해야하며 열의 이름을 꼭 지정해줘야함을 알 수 있다."
      ],
      "execution_count": 12,
      "outputs": []
    },
    {
      "cell_type": "markdown",
      "metadata": {
        "id": "xsBqmbA-yUbK"
      },
      "source": [
        "## 8.1.1 행 1개로 구성된 데이터프레임에 담아 연결하기"
      ]
    },
    {
      "cell_type": "code",
      "metadata": {
        "colab": {
          "base_uri": "https://localhost:8080/"
        },
        "id": "AwtfbpOfyUhc",
        "outputId": "6b6bd791-372a-4c0f-8cc5-6d0a8130f926"
      },
      "source": [
        "# 다음은 1개의 행을 가지는 데이터프레임을 생성하여 df1에 연결한 것이다.\r\n",
        "# columns=['A','B','C','D'] -> 열에 대한 정보를 주고 있음을 알 수 있다.\r\n",
        "\r\n",
        "new_row_df = pd.DataFrame([['n1','n2','n3','n4']], columns=['A','B','C','D'])\r\n",
        "print(new_row_df)"
      ],
      "execution_count": 13,
      "outputs": [
        {
          "output_type": "stream",
          "text": [
            "    A   B   C   D\n",
            "0  n1  n2  n3  n4\n"
          ],
          "name": "stdout"
        }
      ]
    },
    {
      "cell_type": "code",
      "metadata": {
        "colab": {
          "base_uri": "https://localhost:8080/"
        },
        "id": "KPf-NaGryUrQ",
        "outputId": "c2aaac31-fe37-4e5a-f60d-8fe0d0458e95"
      },
      "source": [
        "print(pd.concat([df1, new_row_df]))\r\n",
        "\r\n",
        "# 누락값 없이 완벽하게 출력되고 있음을 알 수 있다."
      ],
      "execution_count": 14,
      "outputs": [
        {
          "output_type": "stream",
          "text": [
            "    A   B   C   D\n",
            "0  a0  b0  c0  d0\n",
            "1  a1  b1  c1  d1\n",
            "2  a2  b2  c2  d2\n",
            "3  a3  b3  c3  d3\n",
            "0  n1  n2  n3  n4\n"
          ],
          "name": "stdout"
        }
      ]
    },
    {
      "cell_type": "code",
      "metadata": {
        "colab": {
          "base_uri": "https://localhost:8080/"
        },
        "id": "wvmI-uL7yU4M",
        "outputId": "3d5b0b2b-ac9c-46ed-c90f-3a095ff312ee"
      },
      "source": [
        "# 연결할 데이터 프레임이 1개라면 append 메서드를 사용한다.\r\n",
        "\r\n",
        "print(df1.append(new_row_df))"
      ],
      "execution_count": 15,
      "outputs": [
        {
          "output_type": "stream",
          "text": [
            "    A   B   C   D\n",
            "0  a0  b0  c0  d0\n",
            "1  a1  b1  c1  d1\n",
            "2  a2  b2  c2  d2\n",
            "3  a3  b3  c3  d3\n",
            "0  n1  n2  n3  n4\n"
          ],
          "name": "stdout"
        }
      ]
    },
    {
      "cell_type": "code",
      "metadata": {
        "colab": {
          "base_uri": "https://localhost:8080/"
        },
        "id": "6BdFPd4ZzJ-j",
        "outputId": "5b974743-2205-4c89-8cc2-e2ee179205e8"
      },
      "source": [
        "# append메서드와 딕셔너리{key : value}를 사용하면 더욱 간편하게 행을 연결할 수 있다.\r\n",
        "# 이때 ignore_index를 True로 설정하면 데이터를 연결한 다음 데이터프레임의 인덱스를 0부터 다시 지정한다.\r\n",
        "\r\n",
        "data_dict = {'A': 'n1','B':'n2', 'C': 'n3', 'D': 'n4'}\r\n",
        "print(df1.append(data_dict, ignore_index=True))"
      ],
      "execution_count": 16,
      "outputs": [
        {
          "output_type": "stream",
          "text": [
            "    A   B   C   D\n",
            "0  a0  b0  c0  d0\n",
            "1  a1  b1  c1  d1\n",
            "2  a2  b2  c2  d2\n",
            "3  a3  b3  c3  d3\n",
            "4  n1  n2  n3  n4\n"
          ],
          "name": "stdout"
        }
      ]
    },
    {
      "cell_type": "markdown",
      "metadata": {
        "id": "hhUI9TrGzKI8"
      },
      "source": [
        "## 8.1.2 다양한 방법으로 데이터 연결하기"
      ]
    },
    {
      "cell_type": "code",
      "metadata": {
        "colab": {
          "base_uri": "https://localhost:8080/"
        },
        "id": "28LeldBZzKTd",
        "outputId": "55e6fc7c-0165-470c-aad0-db0ea9ddfa41"
      },
      "source": [
        "# ignore_index 인자 사용하기\r\n",
        "\r\n",
        "## ignore_index를 True로 지정하여 데이터를 연결하고 데이터프레임의 인덱스를 0부터 다시 지정한다.\r\n",
        "\r\n",
        "row_concat_i = pd.concat([df1, df2, df3], ignore_index=True)\r\n",
        "print(row_concat_i)"
      ],
      "execution_count": 17,
      "outputs": [
        {
          "output_type": "stream",
          "text": [
            "      A    B    C    D\n",
            "0    a0   b0   c0   d0\n",
            "1    a1   b1   c1   d1\n",
            "2    a2   b2   c2   d2\n",
            "3    a3   b3   c3   d3\n",
            "4    a4   b4   c4   d4\n",
            "5    a5   b5   c5   d5\n",
            "6    a6   b6   c6   d6\n",
            "7    a7   b7   c7   d7\n",
            "8    a8   b8   c8   d8\n",
            "9    a9   b9   c9   d9\n",
            "10  a10  b10  c10  d10\n",
            "11  a11  b11  c11  d11\n"
          ],
          "name": "stdout"
        }
      ]
    },
    {
      "cell_type": "code",
      "metadata": {
        "colab": {
          "base_uri": "https://localhost:8080/"
        },
        "id": "qcMMpyVbzKbZ",
        "outputId": "efbbefc4-a5ab-4ed0-ebd4-93ada92eb4b1"
      },
      "source": [
        "# 열 방향으로 데이터 연결하기 -> concat 메서드의 axis 인자를 1로 지정하면 된다.\r\n",
        "\r\n",
        "## 다음은 df1, df2, df3를 열 방향으로 연결한 것이다.\r\n",
        "col_concat = pd.concat([df1, df2, df3], axis = 1)  # axis = 1 -> 열 방향\r\n",
        "print(col_concat)"
      ],
      "execution_count": 18,
      "outputs": [
        {
          "output_type": "stream",
          "text": [
            "    A   B   C   D   A   B   C   D    A    B    C    D\n",
            "0  a0  b0  c0  d0  a4  b4  c4  d4   a8   b8   c8   d8\n",
            "1  a1  b1  c1  d1  a5  b5  c5  d5   a9   b9   c9   d9\n",
            "2  a2  b2  c2  d2  a6  b6  c6  d6  a10  b10  c10  d10\n",
            "3  a3  b3  c3  d3  a7  b7  c7  d7  a11  b11  c11  d11\n"
          ],
          "name": "stdout"
        }
      ]
    },
    {
      "cell_type": "code",
      "metadata": {
        "colab": {
          "base_uri": "https://localhost:8080/"
        },
        "id": "kyi2ApwXzKkI",
        "outputId": "1d805932-d49d-487e-a2f5-4fef1e83ff34"
      },
      "source": [
        "# A라는 열의 모든 데이터 출력\r\n",
        "print(col_concat['A'])"
      ],
      "execution_count": 19,
      "outputs": [
        {
          "output_type": "stream",
          "text": [
            "    A   A    A\n",
            "0  a0  a4   a8\n",
            "1  a1  a5   a9\n",
            "2  a2  a6  a10\n",
            "3  a3  a7  a11\n"
          ],
          "name": "stdout"
        }
      ]
    },
    {
      "cell_type": "code",
      "metadata": {
        "colab": {
          "base_uri": "https://localhost:8080/"
        },
        "id": "cQ6EBAiGzLJD",
        "outputId": "1440e2f6-6b38-443c-8223-2ba4f85b5273"
      },
      "source": [
        "# 새로운 열 추가\r\n",
        "col_concat['new_col_list'] = ['n1', 'n2','n3','n4']\r\n",
        "print(col_concat)"
      ],
      "execution_count": 20,
      "outputs": [
        {
          "output_type": "stream",
          "text": [
            "    A   B   C   D   A   B   C   D    A    B    C    D new_col_list\n",
            "0  a0  b0  c0  d0  a4  b4  c4  d4   a8   b8   c8   d8           n1\n",
            "1  a1  b1  c1  d1  a5  b5  c5  d5   a9   b9   c9   d9           n2\n",
            "2  a2  b2  c2  d2  a6  b6  c6  d6  a10  b10  c10  d10           n3\n",
            "3  a3  b3  c3  d3  a7  b7  c7  d7  a11  b11  c11  d11           n4\n"
          ],
          "name": "stdout"
        }
      ]
    },
    {
      "cell_type": "code",
      "metadata": {
        "colab": {
          "base_uri": "https://localhost:8080/"
        },
        "id": "78leJGxtzLWc",
        "outputId": "0352bf57-be4c-4307-9bf2-0d4f0d3e6858"
      },
      "source": [
        "# 열 이름을 숫자로 지정하여 중복 없애기 <- ignore_index= True\r\n",
        "\r\n",
        "print(pd.concat([df1, df2, df3], axis = 1, ignore_index=True))"
      ],
      "execution_count": 21,
      "outputs": [
        {
          "output_type": "stream",
          "text": [
            "   0   1   2   3   4   5   6   7    8    9    10   11\n",
            "0  a0  b0  c0  d0  a4  b4  c4  d4   a8   b8   c8   d8\n",
            "1  a1  b1  c1  d1  a5  b5  c5  d5   a9   b9   c9   d9\n",
            "2  a2  b2  c2  d2  a6  b6  c6  d6  a10  b10  c10  d10\n",
            "3  a3  b3  c3  d3  a7  b7  c7  d7  a11  b11  c11  d11\n"
          ],
          "name": "stdout"
        }
      ]
    },
    {
      "cell_type": "code",
      "metadata": {
        "colab": {
          "base_uri": "https://localhost:8080/"
        },
        "id": "daQLO049zLf5",
        "outputId": "ff107a2d-d4c1-4d02-acb4-9ddc10ee4224"
      },
      "source": [
        "# 공통 열과 공통 인덱스만 연결하기\r\n",
        "\r\n",
        "## 만약 열 이름의 일부가 서로 다른 데이터프레임을 연결하면 어떻게 될까?\r\n",
        "\r\n",
        "df1.columns = ['A','B','C','D']\r\n",
        "df2.columns = ['E','F','G','H']\r\n",
        "df3.columns = ['A','C','F','H']\r\n",
        "print(df1)\r\n",
        "print(type(df1))\r\n",
        "\r\n",
        "print(df2)\r\n",
        "print(type(df2))\r\n",
        "\r\n",
        "print(df3)\r\n",
        "print(type(df3))"
      ],
      "execution_count": 22,
      "outputs": [
        {
          "output_type": "stream",
          "text": [
            "    A   B   C   D\n",
            "0  a0  b0  c0  d0\n",
            "1  a1  b1  c1  d1\n",
            "2  a2  b2  c2  d2\n",
            "3  a3  b3  c3  d3\n",
            "<class 'pandas.core.frame.DataFrame'>\n",
            "    E   F   G   H\n",
            "0  a4  b4  c4  d4\n",
            "1  a5  b5  c5  d5\n",
            "2  a6  b6  c6  d6\n",
            "3  a7  b7  c7  d7\n",
            "<class 'pandas.core.frame.DataFrame'>\n",
            "     A    C    F    H\n",
            "0   a8   b8   c8   d8\n",
            "1   a9   b9   c9   d9\n",
            "2  a10  b10  c10  d10\n",
            "3  a11  b11  c11  d11\n",
            "<class 'pandas.core.frame.DataFrame'>\n"
          ],
          "name": "stdout"
        }
      ]
    },
    {
      "cell_type": "code",
      "metadata": {
        "colab": {
          "base_uri": "https://localhost:8080/"
        },
        "id": "PVV9RhXTzcZV",
        "outputId": "6df44206-0a83-44a8-96b0-0a79019bd1ba"
      },
      "source": [
        "# 새롭게 열 이름을 부여한 데이터프레임 3개를 concat 메서드로 연결해보니 열 이름이 정렬되며 연결되었다.\r\n",
        "# 그리고 데이터프레임에 없는 열 이름의 데이터는 누락값으로 처리되었다. <- 서로 다른 데이터를 연결했기 때문.\r\n",
        "\r\n",
        "row_concat = pd.concat([df1, df2, df3])\r\n",
        "print(row_concat)"
      ],
      "execution_count": 23,
      "outputs": [
        {
          "output_type": "stream",
          "text": [
            "     A    B    C    D    E    F    G    H\n",
            "0   a0   b0   c0   d0  NaN  NaN  NaN  NaN\n",
            "1   a1   b1   c1   d1  NaN  NaN  NaN  NaN\n",
            "2   a2   b2   c2   d2  NaN  NaN  NaN  NaN\n",
            "3   a3   b3   c3   d3  NaN  NaN  NaN  NaN\n",
            "0  NaN  NaN  NaN  NaN   a4   b4   c4   d4\n",
            "1  NaN  NaN  NaN  NaN   a5   b5   c5   d5\n",
            "2  NaN  NaN  NaN  NaN   a6   b6   c6   d6\n",
            "3  NaN  NaN  NaN  NaN   a7   b7   c7   d7\n",
            "0   a8  NaN   b8  NaN  NaN   c8  NaN   d8\n",
            "1   a9  NaN   b9  NaN  NaN   c9  NaN   d9\n",
            "2  a10  NaN  b10  NaN  NaN  c10  NaN  d10\n",
            "3  a11  NaN  b11  NaN  NaN  c11  NaN  d11\n"
          ],
          "name": "stdout"
        }
      ]
    },
    {
      "cell_type": "code",
      "metadata": {
        "colab": {
          "base_uri": "https://localhost:8080/"
        },
        "id": "CtU3g1w5zcja",
        "outputId": "e9c30c73-110e-4ca1-ab6c-6c7492d76da4"
      },
      "source": [
        "# 데이터프레임의 공통 열만 골라 연결하면 누락값이 생기지 않을 것이다.\r\n",
        "# 공통 열만 골라서 연결하려면 join인자를 inner로 지정해야한다.\r\n",
        "\r\n",
        "print(pd.concat([df1,df2,df3], join='inner'))\r\n",
        "\r\n",
        "# 출력을 해보니 df1,df2,df3는 공통 열이 없다.\r\n",
        "# 따라서 세 데이터프레임의 공통 열을 연결한 결과값으로 Empty DataFrame이 출력되고 있다."
      ],
      "execution_count": 24,
      "outputs": [
        {
          "output_type": "stream",
          "text": [
            "Empty DataFrame\n",
            "Columns: []\n",
            "Index: [0, 1, 2, 3, 0, 1, 2, 3, 0, 1, 2, 3]\n"
          ],
          "name": "stdout"
        }
      ]
    },
    {
      "cell_type": "code",
      "metadata": {
        "colab": {
          "base_uri": "https://localhost:8080/"
        },
        "id": "pDs8G_D_zcqR",
        "outputId": "8b0a4611-5315-44c1-8351-c43bc5b40556"
      },
      "source": [
        "# df1,df3의 공통 열만 골라 추출해보겠다. 그러면 공통 열인 A와 C만 연결된다.\r\n",
        "print(pd.concat([df1, df3], ignore_index=False, join='inner'))    # inner join 내부조인: 같은 데이터를 행으로 연결\r\n",
        "\r\n",
        "# 누락값 없이 데이터가 잘 연결되고 있다."
      ],
      "execution_count": 25,
      "outputs": [
        {
          "output_type": "stream",
          "text": [
            "     A    C\n",
            "0   a0   c0\n",
            "1   a1   c1\n",
            "2   a2   c2\n",
            "3   a3   c3\n",
            "0   a8   b8\n",
            "1   a9   b9\n",
            "2  a10  b10\n",
            "3  a11  b11\n"
          ],
          "name": "stdout"
        }
      ]
    },
    {
      "cell_type": "code",
      "metadata": {
        "colab": {
          "base_uri": "https://localhost:8080/"
        },
        "id": "FP_REkxCzczL",
        "outputId": "748c3566-b6cc-4246-fde9-1aecc8f0c709"
      },
      "source": [
        "# 이번에는 데이터프레임을 행 방향으로 연결해보자. df1, df2, df3의 인덱스를 다시 지정해보자.\r\n",
        "df1.index = [0,1,2,3]\r\n",
        "df2.index = [4,5,6,7]\r\n",
        "df3.index = [0,2,5,7]\r\n",
        "\r\n",
        "print(df1); print(df2); print(df3)"
      ],
      "execution_count": 26,
      "outputs": [
        {
          "output_type": "stream",
          "text": [
            "    A   B   C   D\n",
            "0  a0  b0  c0  d0\n",
            "1  a1  b1  c1  d1\n",
            "2  a2  b2  c2  d2\n",
            "3  a3  b3  c3  d3\n",
            "    E   F   G   H\n",
            "4  a4  b4  c4  d4\n",
            "5  a5  b5  c5  d5\n",
            "6  a6  b6  c6  d6\n",
            "7  a7  b7  c7  d7\n",
            "     A    C    F    H\n",
            "0   a8   b8   c8   d8\n",
            "2   a9   b9   c9   d9\n",
            "5  a10  b10  c10  d10\n",
            "7  a11  b11  c11  d11\n"
          ],
          "name": "stdout"
        }
      ]
    },
    {
      "cell_type": "code",
      "metadata": {
        "colab": {
          "base_uri": "https://localhost:8080/"
        },
        "id": "Kq2y-aMezc7-",
        "outputId": "985b5483-9802-47a0-83fd-7ed2c449e858"
      },
      "source": [
        "# concat메서드로 df1,df2,df3을 행 방향으로 연결하면 비슷한 결과가 출력될 것이다.\r\n",
        "col_concat = pd.concat([df1, df2, df3], axis=1)\r\n",
        "print(col_concat)\r\n",
        "\r\n",
        "# 단, 누락값이 발생한다."
      ],
      "execution_count": 27,
      "outputs": [
        {
          "output_type": "stream",
          "text": [
            "     A    B    C    D    E    F    G    H    A    C    F    H\n",
            "0   a0   b0   c0   d0  NaN  NaN  NaN  NaN   a8   b8   c8   d8\n",
            "1   a1   b1   c1   d1  NaN  NaN  NaN  NaN  NaN  NaN  NaN  NaN\n",
            "2   a2   b2   c2   d2  NaN  NaN  NaN  NaN   a9   b9   c9   d9\n",
            "3   a3   b3   c3   d3  NaN  NaN  NaN  NaN  NaN  NaN  NaN  NaN\n",
            "4  NaN  NaN  NaN  NaN   a4   b4   c4   d4  NaN  NaN  NaN  NaN\n",
            "5  NaN  NaN  NaN  NaN   a5   b5   c5   d5  a10  b10  c10  d10\n",
            "6  NaN  NaN  NaN  NaN   a6   b6   c6   d6  NaN  NaN  NaN  NaN\n",
            "7  NaN  NaN  NaN  NaN   a7   b7   c7   d7  a11  b11  c11  d11\n"
          ],
          "name": "stdout"
        }
      ]
    },
    {
      "cell_type": "code",
      "metadata": {
        "colab": {
          "base_uri": "https://localhost:8080/"
        },
        "id": "0QcE0QsvzLq9",
        "outputId": "b0011c22-efa5-40f6-b0a5-f93d383458df"
      },
      "source": [
        "# df1, df3의 공통 행만 골라 연결\r\n",
        "print(pd.concat([df1, df3], axis=1, join='inner'))\r\n",
        "\r\n",
        "# 그러면 공통 행인 0과 2만 출력된다."
      ],
      "execution_count": 28,
      "outputs": [
        {
          "output_type": "stream",
          "text": [
            "    A   B   C   D   A   C   F   H\n",
            "0  a0  b0  c0  d0  a8  b8  c8  d8\n",
            "2  a2  b2  c2  d2  a9  b9  c9  d9\n"
          ],
          "name": "stdout"
        }
      ]
    },
    {
      "cell_type": "code",
      "metadata": {
        "id": "rWdruRXHdDkZ"
      },
      "source": [
        "#--------------------------------------------------------------------------------"
      ],
      "execution_count": 29,
      "outputs": []
    },
    {
      "cell_type": "code",
      "metadata": {
        "id": "LPXzTQLxdGYf"
      },
      "source": [
        "# 내부 조인: 둘 이상의 데이터프레임에서 조건에 맞는 행을 연결하는 것\r\n",
        "# 외부 조인: "
      ],
      "execution_count": 30,
      "outputs": []
    },
    {
      "cell_type": "code",
      "metadata": {
        "id": "P4TRjKMMT51q"
      },
      "source": [
        "# merge 메서드 사용하기"
      ],
      "execution_count": 31,
      "outputs": []
    },
    {
      "cell_type": "code",
      "metadata": {
        "id": "oY-jG5QFdGhE",
        "colab": {
          "base_uri": "https://localhost:8080/"
        },
        "outputId": "539608c5-4286-48c3-8215-7431fdb74dfb"
      },
      "source": [
        "## 다음은 특정 위치의 날씨 정보에 필요한 데이터 집합을 모두 불러온 것이다. \r\n",
        "person = pd.read_csv('/content/drive/MyDrive/3주차/dataset/survey_person.csv')   # 관측한 사람의 이름\r\n",
        "site = pd.read_csv('/content/drive/MyDrive/3주차/dataset/survey_site.csv')       # 관측 위치\r\n",
        "survey = pd.read_csv('/content/drive/MyDrive/3주차/dataset/survey_survey.csv')   # 날씨 정보\r\n",
        "visited = pd.read_csv('/content/drive/MyDrive/3주차/dataset/survey_visited.csv') # 관측 날짜\r\n",
        "\r\n",
        "print(person); print(site); print(survey); print(visited)"
      ],
      "execution_count": 32,
      "outputs": [
        {
          "output_type": "stream",
          "text": [
            "      ident   personal    family\n",
            "0      dyer    William      Dyer\n",
            "1        pb      Frank   Pabodie\n",
            "2      lake   Anderson      Lake\n",
            "3       roe  Valentina   Roerich\n",
            "4  danforth      Frank  Danforth\n",
            "    name    lat    long\n",
            "0   DR-1 -49.85 -128.57\n",
            "1   DR-3 -47.15 -126.72\n",
            "2  MSK-4 -48.87 -123.40\n",
            "    taken person quant  reading\n",
            "0     619   dyer   rad     9.82\n",
            "1     619   dyer   sal     0.13\n",
            "2     622   dyer   rad     7.80\n",
            "3     622   dyer   sal     0.09\n",
            "4     734     pb   rad     8.41\n",
            "5     734   lake   sal     0.05\n",
            "6     734     pb  temp   -21.50\n",
            "7     735     pb   rad     7.22\n",
            "8     735    NaN   sal     0.06\n",
            "9     735    NaN  temp   -26.00\n",
            "10    751     pb   rad     4.35\n",
            "11    751     pb  temp   -18.50\n",
            "12    751   lake   sal     0.10\n",
            "13    752   lake   rad     2.19\n",
            "14    752   lake   sal     0.09\n",
            "15    752   lake  temp   -16.00\n",
            "16    752    roe   sal    41.60\n",
            "17    837   lake   rad     1.46\n",
            "18    837   lake   sal     0.21\n",
            "19    837    roe   sal    22.50\n",
            "20    844    roe   rad    11.25\n",
            "   ident   site       dated\n",
            "0    619   DR-1  1927-02-08\n",
            "1    622   DR-1  1927-02-10\n",
            "2    734   DR-3  1939-01-07\n",
            "3    735   DR-3  1930-01-12\n",
            "4    751   DR-3  1930-02-26\n",
            "5    752   DR-3         NaN\n",
            "6    837  MSK-4  1932-01-14\n",
            "7    844   DR-1  1932-03-22\n"
          ],
          "name": "stdout"
        }
      ]
    },
    {
      "cell_type": "code",
      "metadata": {
        "id": "msSaVGRBdGqL"
      },
      "source": [
        "## visited 데이터프레임의 일부 데이터만 떼어 사용할 것이다.\r\n",
        "visited_subset = visited.loc[[0, 2, 6], ]\r\n",
        "# print(visited_subset)"
      ],
      "execution_count": 33,
      "outputs": []
    },
    {
      "cell_type": "code",
      "metadata": {
        "id": "oUc0YhwldGzq",
        "colab": {
          "base_uri": "https://localhost:8080/"
        },
        "outputId": "e296408e-b085-41c8-b2b8-5ff24f0d6c63"
      },
      "source": [
        "## merge 메서드는 기본적으로 내부 조인을 실행하며,\r\n",
        "## 메서드를 사용한 데이터프레임(site)을 왼쪽으로 지정하고 첫 번째 인자값으로 지정한 데이터프레임(visited_subset)을 오른쪽으로 지정한다.\r\n",
        "\r\n",
        "o2o_merge = site.merge(visited_subset, left_on='name', right_on='site')\r\n",
        "print(o2o_merge)"
      ],
      "execution_count": 34,
      "outputs": [
        {
          "output_type": "stream",
          "text": [
            "    name    lat    long  ident   site       dated\n",
            "0   DR-1 -49.85 -128.57    619   DR-1  1927-02-08\n",
            "1   DR-3 -47.15 -126.72    734   DR-3  1939-01-07\n",
            "2  MSK-4 -48.87 -123.40    837  MSK-4  1932-01-14\n"
          ],
          "name": "stdout"
        }
      ]
    },
    {
      "cell_type": "code",
      "metadata": {
        "id": "meljSKCidG9O",
        "colab": {
          "base_uri": "https://localhost:8080/"
        },
        "outputId": "3843f8a0-582e-467f-89c7-6f34b684fa08"
      },
      "source": [
        "## 다음은 site, visited 데이터프레임을 이용하여 데이터를 연결할 것이다.\r\n",
        "\r\n",
        "m2o_merge = site.merge(visited, left_on='name', right_on='site')\r\n",
        "print(m2o_merge)"
      ],
      "execution_count": 35,
      "outputs": [
        {
          "output_type": "stream",
          "text": [
            "    name    lat    long  ident   site       dated\n",
            "0   DR-1 -49.85 -128.57    619   DR-1  1927-02-08\n",
            "1   DR-1 -49.85 -128.57    622   DR-1  1927-02-10\n",
            "2   DR-1 -49.85 -128.57    844   DR-1  1932-03-22\n",
            "3   DR-3 -47.15 -126.72    734   DR-3  1939-01-07\n",
            "4   DR-3 -47.15 -126.72    735   DR-3  1930-01-12\n",
            "5   DR-3 -47.15 -126.72    751   DR-3  1930-02-26\n",
            "6   DR-3 -47.15 -126.72    752   DR-3         NaN\n",
            "7  MSK-4 -48.87 -123.40    837  MSK-4  1932-01-14\n"
          ],
          "name": "stdout"
        }
      ]
    },
    {
      "cell_type": "code",
      "metadata": {
        "id": "e3bPB6IrdHMk",
        "colab": {
          "base_uri": "https://localhost:8080/"
        },
        "outputId": "d44c59cf-52ab-4668-851b-a0f0c049aa1f"
      },
      "source": [
        "## 다른 데이터프레임도 연결해볼 것이다. 다음은 person, survey 데이터프레임과 visited, survey 데이터프레임을 merge메서드로 연결한 것이다.\r\n",
        "ps = person.merge(survey, left_on = 'ident', right_on = 'person')\r\n",
        "vs = visited.merge(survey, left_on='ident', right_on='taken')\r\n",
        "\r\n",
        "print(ps)"
      ],
      "execution_count": 36,
      "outputs": [
        {
          "output_type": "stream",
          "text": [
            "   ident   personal   family  taken person quant  reading\n",
            "0   dyer    William     Dyer    619   dyer   rad     9.82\n",
            "1   dyer    William     Dyer    619   dyer   sal     0.13\n",
            "2   dyer    William     Dyer    622   dyer   rad     7.80\n",
            "3   dyer    William     Dyer    622   dyer   sal     0.09\n",
            "4     pb      Frank  Pabodie    734     pb   rad     8.41\n",
            "5     pb      Frank  Pabodie    734     pb  temp   -21.50\n",
            "6     pb      Frank  Pabodie    735     pb   rad     7.22\n",
            "7     pb      Frank  Pabodie    751     pb   rad     4.35\n",
            "8     pb      Frank  Pabodie    751     pb  temp   -18.50\n",
            "9   lake   Anderson     Lake    734   lake   sal     0.05\n",
            "10  lake   Anderson     Lake    751   lake   sal     0.10\n",
            "11  lake   Anderson     Lake    752   lake   rad     2.19\n",
            "12  lake   Anderson     Lake    752   lake   sal     0.09\n",
            "13  lake   Anderson     Lake    752   lake  temp   -16.00\n",
            "14  lake   Anderson     Lake    837   lake   rad     1.46\n",
            "15  lake   Anderson     Lake    837   lake   sal     0.21\n",
            "16   roe  Valentina  Roerich    752    roe   sal    41.60\n",
            "17   roe  Valentina  Roerich    837    roe   sal    22.50\n",
            "18   roe  Valentina  Roerich    844    roe   rad    11.25\n"
          ],
          "name": "stdout"
        }
      ]
    },
    {
      "cell_type": "code",
      "metadata": {
        "id": "To1nRnz2dHh9",
        "colab": {
          "base_uri": "https://localhost:8080/"
        },
        "outputId": "2197c9b1-3a08-4310-bd88-86420c92135e"
      },
      "source": [
        "print(vs)"
      ],
      "execution_count": 37,
      "outputs": [
        {
          "output_type": "stream",
          "text": [
            "    ident   site       dated  taken person quant  reading\n",
            "0     619   DR-1  1927-02-08    619   dyer   rad     9.82\n",
            "1     619   DR-1  1927-02-08    619   dyer   sal     0.13\n",
            "2     622   DR-1  1927-02-10    622   dyer   rad     7.80\n",
            "3     622   DR-1  1927-02-10    622   dyer   sal     0.09\n",
            "4     734   DR-3  1939-01-07    734     pb   rad     8.41\n",
            "5     734   DR-3  1939-01-07    734   lake   sal     0.05\n",
            "6     734   DR-3  1939-01-07    734     pb  temp   -21.50\n",
            "7     735   DR-3  1930-01-12    735     pb   rad     7.22\n",
            "8     735   DR-3  1930-01-12    735    NaN   sal     0.06\n",
            "9     735   DR-3  1930-01-12    735    NaN  temp   -26.00\n",
            "10    751   DR-3  1930-02-26    751     pb   rad     4.35\n",
            "11    751   DR-3  1930-02-26    751     pb  temp   -18.50\n",
            "12    751   DR-3  1930-02-26    751   lake   sal     0.10\n",
            "13    752   DR-3         NaN    752   lake   rad     2.19\n",
            "14    752   DR-3         NaN    752   lake   sal     0.09\n",
            "15    752   DR-3         NaN    752   lake  temp   -16.00\n",
            "16    752   DR-3         NaN    752    roe   sal    41.60\n",
            "17    837  MSK-4  1932-01-14    837   lake   rad     1.46\n",
            "18    837  MSK-4  1932-01-14    837   lake   sal     0.21\n",
            "19    837  MSK-4  1932-01-14    837    roe   sal    22.50\n",
            "20    844   DR-1  1932-03-22    844    roe   rad    11.25\n"
          ],
          "name": "stdout"
        }
      ]
    },
    {
      "cell_type": "markdown",
      "metadata": {
        "id": "uIx--Gt3XuFX"
      },
      "source": [
        "# 8.2 누락값 처리하기"
      ]
    },
    {
      "cell_type": "markdown",
      "metadata": {
        "id": "5zLEVMZd1s1w"
      },
      "source": [
        "## 8.2.1 누락값 확인하기"
      ]
    },
    {
      "cell_type": "code",
      "metadata": {
        "id": "LqGWp7nvVwZ9"
      },
      "source": [
        "# 먼저 누락값을 사용하기 위해 numpy에서 누락값을 불러온다.\r\n",
        "from numpy import NaN, NAN, nan"
      ],
      "execution_count": 38,
      "outputs": []
    },
    {
      "cell_type": "code",
      "metadata": {
        "colab": {
          "base_uri": "https://localhost:8080/"
        },
        "id": "nU674-9MVwi0",
        "outputId": "8ad4b061-a856-4811-bf53-55c001956112"
      },
      "source": [
        "# 누락값은 0, ''와 같은 값과는 다른 개념이라는 것에 주의해야한다. 누락값은 말 그대로 데이터 자체가 없다는 것을 의미한다.\r\n",
        "# 그래서 '같다'라는 개념도 없다. 다음은 누락값과 True, False, 0,''을 비교한 결과이다.\r\n",
        "print(NaN == True)\r\n",
        "print(NaN == False)\r\n",
        "print(NaN == 0)\r\n",
        "print(NaN == '')\r\n",
        "\r\n",
        "# 비교할 값 자체가 없으니 모두 False를 출력한다."
      ],
      "execution_count": 39,
      "outputs": [
        {
          "output_type": "stream",
          "text": [
            "False\n",
            "False\n",
            "False\n",
            "False\n"
          ],
          "name": "stdout"
        }
      ]
    },
    {
      "cell_type": "code",
      "metadata": {
        "colab": {
          "base_uri": "https://localhost:8080/"
        },
        "id": "MXzC4StiVwqa",
        "outputId": "81ddea10-21f2-41f6-8960-50bbc76fc8fa"
      },
      "source": [
        "# 따라서 자기 자신과 비교해도 True가 아닌 False를 출력한다.\r\n",
        "print(NaN == NaN)"
      ],
      "execution_count": 40,
      "outputs": [
        {
          "output_type": "stream",
          "text": [
            "False\n"
          ],
          "name": "stdout"
        }
      ]
    },
    {
      "cell_type": "code",
      "metadata": {
        "colab": {
          "base_uri": "https://localhost:8080/"
        },
        "id": "MJ2EeRMKVwzJ",
        "outputId": "39105ba3-4976-4541-cfe5-e48ca637ace5"
      },
      "source": [
        "# 그렇다면 누락값은 어떻게 확인할 수 있을까? 다행히 판다스에는 누락값을 확인하는 메서드인 isnull이 있다.\r\n",
        "import pandas as pd\r\n",
        "\r\n",
        "print(pd.isnull(NaN))\r\n",
        "print(pd.isnull(nan))\r\n",
        "print(pd.isnull(NAN))"
      ],
      "execution_count": 41,
      "outputs": [
        {
          "output_type": "stream",
          "text": [
            "True\n",
            "True\n",
            "True\n"
          ],
          "name": "stdout"
        }
      ]
    },
    {
      "cell_type": "code",
      "metadata": {
        "colab": {
          "base_uri": "https://localhost:8080/"
        },
        "id": "4bRyl4MOVw7-",
        "outputId": "cdfbdac0-e7ab-45ac-922e-f845f12e3791"
      },
      "source": [
        "# 반대의 경우(누락값이 아닌 경우)도 검사할 수 있다. \r\n",
        "print(pd.notnull(NaN))   # 누락값이므로 False\r\n",
        "print(pd.notnull(42))    # 누락값이 아니므로 True\r\n",
        "print(pd.notnull('missing'))   # 누락값이 아니므로 True"
      ],
      "execution_count": 42,
      "outputs": [
        {
          "output_type": "stream",
          "text": [
            "False\n",
            "True\n",
            "True\n"
          ],
          "name": "stdout"
        }
      ]
    },
    {
      "cell_type": "markdown",
      "metadata": {
        "id": "mhqeXEOy1y3P"
      },
      "source": [
        "## 8.2.2 누락값이 생기는 이유"
      ]
    },
    {
      "cell_type": "code",
      "metadata": {
        "colab": {
          "base_uri": "https://localhost:8080/"
        },
        "id": "q5EeoslOYo_5",
        "outputId": "fa775a23-f831-4752-c5a1-6114748ee88d"
      },
      "source": [
        "visited = pd.read_csv('/content/drive/MyDrive/3주차/dataset/survey_visited.csv')\r\n",
        "survey = pd.read_csv('/content/drive/MyDrive/3주차/dataset/survey_survey.csv')\r\n",
        "\r\n",
        "print(visited)\r\n",
        "print(survey)\r\n",
        "\r\n",
        "# 결과에서 데이터프레임의 누락값이 몇 개 안된다고 해서 함부로 연결하면 안된다."
      ],
      "execution_count": 43,
      "outputs": [
        {
          "output_type": "stream",
          "text": [
            "   ident   site       dated\n",
            "0    619   DR-1  1927-02-08\n",
            "1    622   DR-1  1927-02-10\n",
            "2    734   DR-3  1939-01-07\n",
            "3    735   DR-3  1930-01-12\n",
            "4    751   DR-3  1930-02-26\n",
            "5    752   DR-3         NaN\n",
            "6    837  MSK-4  1932-01-14\n",
            "7    844   DR-1  1932-03-22\n",
            "    taken person quant  reading\n",
            "0     619   dyer   rad     9.82\n",
            "1     619   dyer   sal     0.13\n",
            "2     622   dyer   rad     7.80\n",
            "3     622   dyer   sal     0.09\n",
            "4     734     pb   rad     8.41\n",
            "5     734   lake   sal     0.05\n",
            "6     734     pb  temp   -21.50\n",
            "7     735     pb   rad     7.22\n",
            "8     735    NaN   sal     0.06\n",
            "9     735    NaN  temp   -26.00\n",
            "10    751     pb   rad     4.35\n",
            "11    751     pb  temp   -18.50\n",
            "12    751   lake   sal     0.10\n",
            "13    752   lake   rad     2.19\n",
            "14    752   lake   sal     0.09\n",
            "15    752   lake  temp   -16.00\n",
            "16    752    roe   sal    41.60\n",
            "17    837   lake   rad     1.46\n",
            "18    837   lake   sal     0.21\n",
            "19    837    roe   sal    22.50\n",
            "20    844    roe   rad    11.25\n"
          ],
          "name": "stdout"
        }
      ]
    },
    {
      "cell_type": "code",
      "metadata": {
        "colab": {
          "base_uri": "https://localhost:8080/"
        },
        "id": "pzWa03NEYqCL",
        "outputId": "0c128739-0f3e-470e-8ab6-9e2620cae5dd"
      },
      "source": [
        "# 앞의 과정에서 구한 데이터 집합들을 연결해 볼 것이다.\r\n",
        "vs = visited.merge(survey, left_on='ident', right_on='taken')\r\n",
        "print(vs)\r\n",
        "\r\n",
        "# 누락값이 많이 생겨난 것을 볼 수 있다."
      ],
      "execution_count": 44,
      "outputs": [
        {
          "output_type": "stream",
          "text": [
            "    ident   site       dated  taken person quant  reading\n",
            "0     619   DR-1  1927-02-08    619   dyer   rad     9.82\n",
            "1     619   DR-1  1927-02-08    619   dyer   sal     0.13\n",
            "2     622   DR-1  1927-02-10    622   dyer   rad     7.80\n",
            "3     622   DR-1  1927-02-10    622   dyer   sal     0.09\n",
            "4     734   DR-3  1939-01-07    734     pb   rad     8.41\n",
            "5     734   DR-3  1939-01-07    734   lake   sal     0.05\n",
            "6     734   DR-3  1939-01-07    734     pb  temp   -21.50\n",
            "7     735   DR-3  1930-01-12    735     pb   rad     7.22\n",
            "8     735   DR-3  1930-01-12    735    NaN   sal     0.06\n",
            "9     735   DR-3  1930-01-12    735    NaN  temp   -26.00\n",
            "10    751   DR-3  1930-02-26    751     pb   rad     4.35\n",
            "11    751   DR-3  1930-02-26    751     pb  temp   -18.50\n",
            "12    751   DR-3  1930-02-26    751   lake   sal     0.10\n",
            "13    752   DR-3         NaN    752   lake   rad     2.19\n",
            "14    752   DR-3         NaN    752   lake   sal     0.09\n",
            "15    752   DR-3         NaN    752   lake  temp   -16.00\n",
            "16    752   DR-3         NaN    752    roe   sal    41.60\n",
            "17    837  MSK-4  1932-01-14    837   lake   rad     1.46\n",
            "18    837  MSK-4  1932-01-14    837   lake   sal     0.21\n",
            "19    837  MSK-4  1932-01-14    837    roe   sal    22.50\n",
            "20    844   DR-1  1932-03-22    844    roe   rad    11.25\n"
          ],
          "name": "stdout"
        }
      ]
    },
    {
      "cell_type": "code",
      "metadata": {
        "id": "sdmVDTBHYqNQ"
      },
      "source": [
        "# 이처럼 데이터프레임에 존재하지 않는 데이터를 추출하면 누락값이 생긴다.\r\n",
        "# 이번에는 갭마인더 데이터 집합을 불러와 실습해보자.\r\n",
        "\r\n",
        "gapminder = pd.read_csv('/content/drive/MyDrive/3주차/dataset/gapminder.tsv', sep='\\t')"
      ],
      "execution_count": 45,
      "outputs": []
    },
    {
      "cell_type": "code",
      "metadata": {
        "colab": {
          "base_uri": "https://localhost:8080/"
        },
        "id": "0brXlKKDhRph",
        "outputId": "0966dc0d-ccde-4bf3-f78d-23036423921c"
      },
      "source": [
        "print(gapminder)"
      ],
      "execution_count": 46,
      "outputs": [
        {
          "output_type": "stream",
          "text": [
            "          country continent  year  lifeExp       pop   gdpPercap\n",
            "0     Afghanistan      Asia  1952   28.801   8425333  779.445314\n",
            "1     Afghanistan      Asia  1957   30.332   9240934  820.853030\n",
            "2     Afghanistan      Asia  1962   31.997  10267083  853.100710\n",
            "3     Afghanistan      Asia  1967   34.020  11537966  836.197138\n",
            "4     Afghanistan      Asia  1972   36.088  13079460  739.981106\n",
            "...           ...       ...   ...      ...       ...         ...\n",
            "1699     Zimbabwe    Africa  1987   62.351   9216418  706.157306\n",
            "1700     Zimbabwe    Africa  1992   60.377  10704340  693.420786\n",
            "1701     Zimbabwe    Africa  1997   46.809  11404948  792.449960\n",
            "1702     Zimbabwe    Africa  2002   39.989  11926563  672.038623\n",
            "1703     Zimbabwe    Africa  2007   43.487  12311143  469.709298\n",
            "\n",
            "[1704 rows x 6 columns]\n"
          ],
          "name": "stdout"
        }
      ]
    },
    {
      "cell_type": "code",
      "metadata": {
        "colab": {
          "base_uri": "https://localhost:8080/"
        },
        "id": "qv3wREeNYqU2",
        "outputId": "afbeb21d-6a8b-4e6b-cf9b-39bcbcaed7b7"
      },
      "source": [
        "# 다음은 gapminder 데이터프레임을 연도별로 그룹화한 다음 lifeExp열의 평균을 구한 것이다.\r\n",
        "life_exp = gapminder.groupby(['year'])['lifeExp'].mean()\r\n",
        "print(life_exp)"
      ],
      "execution_count": 47,
      "outputs": [
        {
          "output_type": "stream",
          "text": [
            "year\n",
            "1952    49.057620\n",
            "1957    51.507401\n",
            "1962    53.609249\n",
            "1967    55.678290\n",
            "1972    57.647386\n",
            "1977    59.570157\n",
            "1982    61.533197\n",
            "1987    63.212613\n",
            "1992    64.160338\n",
            "1997    65.014676\n",
            "2002    65.694923\n",
            "2007    67.007423\n",
            "Name: lifeExp, dtype: float64\n"
          ],
          "name": "stdout"
        }
      ]
    },
    {
      "cell_type": "code",
      "metadata": {
        "colab": {
          "base_uri": "https://localhost:8080/"
        },
        "id": "bpCKvdBMYqiI",
        "outputId": "44133c2d-0155-468e-8186-6d23fd22ce42"
      },
      "source": [
        "# 다음은 range 메서드를 이용하여 lifeExp 열에서 2000~ 2009년의 데이터를 추출한 것이다.\r\n",
        "# 하지만 이렇게 데이터를 추출하면 처음부터 life_Exp 열에 없었던 연도가 포함되기 때문에 누락값이 많이 발생한다.\r\n",
        "\r\n",
        "# 이러한 문제를 해결하기 위해서는 '불린 추출'을 이용한다.\r\n",
        "y2000 = life_exp[life_exp.index > 2000]\r\n",
        "print(y2000)"
      ],
      "execution_count": 48,
      "outputs": [
        {
          "output_type": "stream",
          "text": [
            "year\n",
            "2002    65.694923\n",
            "2007    67.007423\n",
            "Name: lifeExp, dtype: float64\n"
          ],
          "name": "stdout"
        }
      ]
    },
    {
      "cell_type": "code",
      "metadata": {
        "id": "lC2ZRLPDwiIq"
      },
      "source": [
        "# 지금까지 누락값이 생기는 다양한 경우에 대해 알아보았다.\r\n",
        "# 그렇다면 이번에는 누락값의 개수를 구하는 방법에 대해 알아보자!"
      ],
      "execution_count": 49,
      "outputs": []
    },
    {
      "cell_type": "markdown",
      "metadata": {
        "id": "vjQgYmK819Sa"
      },
      "source": [
        "## 8.2.3 누락값의 개수 구하기"
      ]
    },
    {
      "cell_type": "code",
      "metadata": {
        "id": "3W_PsS5Hh8JP"
      },
      "source": [
        "# 실습에 사용될 데이터를 불러온다.\r\n",
        "ebola = pd.read_csv('/content/drive/MyDrive/3주차/dataset/country_timeseries.csv')"
      ],
      "execution_count": 50,
      "outputs": []
    },
    {
      "cell_type": "code",
      "metadata": {
        "colab": {
          "base_uri": "https://localhost:8080/"
        },
        "id": "8BTJaiQpYq4h",
        "outputId": "d0eef804-7e03-4298-833f-5c2f37a59d7c"
      },
      "source": [
        "# 먼저 count 메서드로 '누락값이 아닌 값의 개수'를 구해보자.\r\n",
        "print(ebola.count())"
      ],
      "execution_count": 51,
      "outputs": [
        {
          "output_type": "stream",
          "text": [
            "Date                   122\n",
            "Day                    122\n",
            "Cases_Guinea            93\n",
            "Cases_Liberia           83\n",
            "Cases_SierraLeone       87\n",
            "Cases_Nigeria           38\n",
            "Cases_Senegal           25\n",
            "Cases_UnitedStates      18\n",
            "Cases_Spain             16\n",
            "Cases_Mali              12\n",
            "Deaths_Guinea           92\n",
            "Deaths_Liberia          81\n",
            "Deaths_SierraLeone      87\n",
            "Deaths_Nigeria          38\n",
            "Deaths_Senegal          22\n",
            "Deaths_UnitedStates     18\n",
            "Deaths_Spain            16\n",
            "Deaths_Mali             12\n",
            "dtype: int64\n"
          ],
          "name": "stdout"
        }
      ]
    },
    {
      "cell_type": "code",
      "metadata": {
        "colab": {
          "base_uri": "https://localhost:8080/"
        },
        "id": "ZC_agrDoYq8z",
        "outputId": "ecd4ca33-2907-40a0-c60d-95a54641ee81"
      },
      "source": [
        "# shape[0]에 전체 행의 데이터 개수가 저장되어 있다.\r\n",
        "# 이 점을 이용하여 'shape[0] - 누락값이 아닌 값의 개수 = 누락값의 개수'를 구하자.\r\n",
        "\r\n",
        "num_rows = ebola.shape[0]\r\n",
        "num_missing = num_rows - ebola.count()\r\n",
        "print(num_missing)"
      ],
      "execution_count": 52,
      "outputs": [
        {
          "output_type": "stream",
          "text": [
            "Date                     0\n",
            "Day                      0\n",
            "Cases_Guinea            29\n",
            "Cases_Liberia           39\n",
            "Cases_SierraLeone       35\n",
            "Cases_Nigeria           84\n",
            "Cases_Senegal           97\n",
            "Cases_UnitedStates     104\n",
            "Cases_Spain            106\n",
            "Cases_Mali             110\n",
            "Deaths_Guinea           30\n",
            "Deaths_Liberia          41\n",
            "Deaths_SierraLeone      35\n",
            "Deaths_Nigeria          84\n",
            "Deaths_Senegal         100\n",
            "Deaths_UnitedStates    104\n",
            "Deaths_Spain           106\n",
            "Deaths_Mali            110\n",
            "dtype: int64\n"
          ],
          "name": "stdout"
        }
      ]
    },
    {
      "cell_type": "code",
      "metadata": {
        "colab": {
          "base_uri": "https://localhost:8080/"
        },
        "id": "O2XyLamTYrIP",
        "outputId": "4078ec5e-9de6-4bb5-d026-d6c0968e592b"
      },
      "source": [
        "# count 메서드를 사용해도 되지만 count_nonzero, isnull 메서드를 조합해도 누락값의 개수를 구할 수 있다.\r\n",
        "## count_nonzero 메서드는 배열에서 0이 아닌 값의 개수를 세는 메서드이다.\r\n",
        "import numpy as np\r\n",
        "\r\n",
        "print(np.count_nonzero(ebola.isnull()))\r\n",
        "print(np.count_nonzero(ebola['Cases_Guinea'].isnull()))"
      ],
      "execution_count": 53,
      "outputs": [
        {
          "output_type": "stream",
          "text": [
            "1214\n",
            "29\n"
          ],
          "name": "stdout"
        }
      ]
    },
    {
      "cell_type": "code",
      "metadata": {
        "id": "eTpiIE_mYrVD",
        "colab": {
          "base_uri": "https://localhost:8080/"
        },
        "outputId": "45d1e7d2-8bfe-41e0-cb06-36f16d8e175a"
      },
      "source": [
        "# 시리즈에 포함된 'value_counts 메서드'는 지정한 열의 빈도를 구하는 메서드이다.\r\n",
        "# value_counts 메서드를 사용해 Cases_Guinea 열의 누락값 개수를 구하려면 다음과 같이 입력해보자.\r\n",
        "## 참고로 dropna는 누락값이 포함된 행들을 모두 삭제하는 명령이다.\r\n",
        "\r\n",
        "print(ebola.Cases_Guinea.value_counts(dropna=False).head())"
      ],
      "execution_count": 54,
      "outputs": [
        {
          "output_type": "stream",
          "text": [
            "NaN      29\n",
            "86.0      3\n",
            "495.0     2\n",
            "112.0     2\n",
            "390.0     2\n",
            "Name: Cases_Guinea, dtype: int64\n"
          ],
          "name": "stdout"
        }
      ]
    },
    {
      "cell_type": "markdown",
      "metadata": {
        "id": "ntlRgPfDlwSQ"
      },
      "source": [
        "## 8.2.4 누락값 처리하기"
      ]
    },
    {
      "cell_type": "code",
      "metadata": {
        "id": "jtZI6TDE2SGe"
      },
      "source": [
        "# 누락값은 누락값을 임의의 값으로 변경하거나 데이터프레임에 이미 있는 값으로 대신 채우는 방법 등으로 처리할 수 있다."
      ],
      "execution_count": 55,
      "outputs": []
    },
    {
      "cell_type": "code",
      "metadata": {
        "id": "U6GjJKdjlzpf"
      },
      "source": [
        "# 1. 누락값 변경하기"
      ],
      "execution_count": 56,
      "outputs": []
    },
    {
      "cell_type": "code",
      "metadata": {
        "colab": {
          "base_uri": "https://localhost:8080/"
        },
        "id": "ct9VCiL3lz1-",
        "outputId": "218346e8-6dd4-4120-d41b-179c28662f77"
      },
      "source": [
        "# 데이터프레임에 포함된 fillna 메서드에 0을 대입하면 누락값을 0으로 변경한다. \r\n",
        "## fillna 메서드는 처리해야 하는 데이터프레임의 크기가 매우 크고 메모리를 효율적으로 사용해야 하는 경우에 자주 사용하는 메서드이다.\r\n",
        "\r\n",
        "print(ebola.fillna(0).iloc[0:10, 0:5])    # fillna()에 0을 넣었으므로 누락값을 NaN에서 0.0으로 변경한다. / 다른 숫자 넣으면 그 값으로 변경된다."
      ],
      "execution_count": 57,
      "outputs": [
        {
          "output_type": "stream",
          "text": [
            "         Date  Day  Cases_Guinea  Cases_Liberia  Cases_SierraLeone\n",
            "0    1/5/2015  289        2776.0            0.0            10030.0\n",
            "1    1/4/2015  288        2775.0            0.0             9780.0\n",
            "2    1/3/2015  287        2769.0         8166.0             9722.0\n",
            "3    1/2/2015  286           0.0         8157.0                0.0\n",
            "4  12/31/2014  284        2730.0         8115.0             9633.0\n",
            "5  12/28/2014  281        2706.0         8018.0             9446.0\n",
            "6  12/27/2014  280        2695.0            0.0             9409.0\n",
            "7  12/24/2014  277        2630.0         7977.0             9203.0\n",
            "8  12/21/2014  273        2597.0            0.0             9004.0\n",
            "9  12/20/2014  272        2571.0         7862.0             8939.0\n"
          ],
          "name": "stdout"
        }
      ]
    },
    {
      "cell_type": "code",
      "metadata": {
        "colab": {
          "base_uri": "https://localhost:8080/"
        },
        "id": "0sfJVnGglz-M",
        "outputId": "a9157485-4221-4e0d-af1d-1c6140044f3f"
      },
      "source": [
        "# fillna 메서드의 method 인자값을 ffill로 지정하면 누락값이 나타나기 '전'의 값으로 변경된다.\r\n",
        "print(ebola.fillna(method='ffill').iloc[0:10, 0:5])\r\n",
        "                                      #  행    열"
      ],
      "execution_count": 58,
      "outputs": [
        {
          "output_type": "stream",
          "text": [
            "         Date  Day  Cases_Guinea  Cases_Liberia  Cases_SierraLeone\n",
            "0    1/5/2015  289        2776.0            NaN            10030.0\n",
            "1    1/4/2015  288        2775.0            NaN             9780.0\n",
            "2    1/3/2015  287        2769.0         8166.0             9722.0\n",
            "3    1/2/2015  286        2769.0         8157.0             9722.0\n",
            "4  12/31/2014  284        2730.0         8115.0             9633.0\n",
            "5  12/28/2014  281        2706.0         8018.0             9446.0\n",
            "6  12/27/2014  280        2695.0         8018.0             9409.0\n",
            "7  12/24/2014  277        2630.0         7977.0             9203.0\n",
            "8  12/21/2014  273        2597.0         7977.0             9004.0\n",
            "9  12/20/2014  272        2571.0         7862.0             8939.0\n"
          ],
          "name": "stdout"
        }
      ]
    },
    {
      "cell_type": "code",
      "metadata": {
        "id": "4-LAFtiGl9lD",
        "colab": {
          "base_uri": "https://localhost:8080/"
        },
        "outputId": "cbd50d28-26cd-4843-ead3-6f6e705a7190"
      },
      "source": [
        "# fillna 메서드의 method 인자값을 bfill로 지정하면 누락값이 나타난 '이후'의 값으로 변경된다.\r\n",
        "print(ebola.fillna(method='bfill').iloc[-6:, 0:5])"
      ],
      "execution_count": 59,
      "outputs": [
        {
          "output_type": "stream",
          "text": [
            "          Date  Day  Cases_Guinea  Cases_Liberia  Cases_SierraLeone\n",
            "116  3/28/2014    6         112.0            3.0                2.0\n",
            "117  3/27/2014    5         103.0            8.0                6.0\n",
            "118  3/26/2014    4          86.0            NaN                NaN\n",
            "119  3/25/2014    3          86.0            NaN                NaN\n",
            "120  3/24/2014    2          86.0            NaN                NaN\n",
            "121  3/22/2014    0          49.0            NaN                NaN\n"
          ],
          "name": "stdout"
        }
      ]
    },
    {
      "cell_type": "code",
      "metadata": {
        "id": "or-wknh0l9vI",
        "colab": {
          "base_uri": "https://localhost:8080/"
        },
        "outputId": "63802d9a-1f74-4b0d-9929-30a7fb0f6e7e"
      },
      "source": [
        "# interpolate 메서드 <- 누락값 양쪽 값 이용하여 중간값 구하여 누락값 처리\r\n",
        "print(ebola.interpolate().iloc[0:10, 0:5])"
      ],
      "execution_count": 60,
      "outputs": [
        {
          "output_type": "stream",
          "text": [
            "         Date  Day  Cases_Guinea  Cases_Liberia  Cases_SierraLeone\n",
            "0    1/5/2015  289        2776.0            NaN            10030.0\n",
            "1    1/4/2015  288        2775.0            NaN             9780.0\n",
            "2    1/3/2015  287        2769.0         8166.0             9722.0\n",
            "3    1/2/2015  286        2749.5         8157.0             9677.5\n",
            "4  12/31/2014  284        2730.0         8115.0             9633.0\n",
            "5  12/28/2014  281        2706.0         8018.0             9446.0\n",
            "6  12/27/2014  280        2695.0         7997.5             9409.0\n",
            "7  12/24/2014  277        2630.0         7977.0             9203.0\n",
            "8  12/21/2014  273        2597.0         7919.5             9004.0\n",
            "9  12/20/2014  272        2571.0         7862.0             8939.0\n"
          ],
          "name": "stdout"
        }
      ]
    },
    {
      "cell_type": "code",
      "metadata": {
        "id": "S0PItk7Ul918",
        "colab": {
          "base_uri": "https://localhost:8080/"
        },
        "outputId": "8156b1e1-d8fd-4145-eb5d-3e18ae5c6309"
      },
      "source": [
        "# ebola 데이터 구조 확인\r\n",
        "print(ebola.shape)"
      ],
      "execution_count": 61,
      "outputs": [
        {
          "output_type": "stream",
          "text": [
            "(122, 18)\n"
          ],
          "name": "stdout"
        }
      ]
    },
    {
      "cell_type": "code",
      "metadata": {
        "id": "ya_fpeRel0VC",
        "colab": {
          "base_uri": "https://localhost:8080/"
        },
        "outputId": "5fab2a22-5b8a-438f-ac9e-bdb05e3d94ed"
      },
      "source": [
        "# 누락값 삭제하기 <- dropna 메서드 사용\r\n",
        "\r\n",
        "## 누락값이 필요 없을 경우에는 누락값을 삭제할 수도 있다. 하지만 누락값을 무작정 삭제하면 데이터가 너무 편향되거나 데이터의 개수가 너무 적어질 수 있다.\r\n",
        "## 따라서 분석할 때 잘 판단하자!\r\n",
        "\r\n",
        "## 누락값을 삭제하기 위해서는 dropna 메서드를 사용한다. 누락값이 포함된 행들이 모두 삭제되기 때문에 많은 데이터가 삭제될 것이다.\r\n",
        "ebola_dropna = ebola.dropna()\r\n",
        "print(ebola_dropna.shape)\r\n",
        "print(ebola_dropna)"
      ],
      "execution_count": 65,
      "outputs": [
        {
          "output_type": "stream",
          "text": [
            "(1, 18)\n",
            "          Date  Day  ...  Deaths_Spain  Deaths_Mali\n",
            "19  11/18/2014  241  ...           0.0          6.0\n",
            "\n",
            "[1 rows x 18 columns]\n"
          ],
          "name": "stdout"
        }
      ]
    },
    {
      "cell_type": "code",
      "metadata": {
        "id": "QMIU-dczl0b_"
      },
      "source": [
        "# 누락값이 포함된 데이터 계산하기\r\n",
        "\r\n",
        "## ebola 데이터의 Guinea, Liberia, SierrLeone 열에는 누락값들이 존재한다.\r\n",
        "## 만약 이 열들을 가지고 ebola 발병 수의 합을 계산하면 어떻게 될까?\r\n",
        "## 일단 Cases_Guinea, Cases_Liberia, Cases_SierraLeone 열을 더하여 Cases_multiple 열을 새로 만들어보자!\r\n",
        "\r\n",
        "ebola['Cases_multiple'] = ebola['Cases_Guinea'] + ebola['Cases_Liberia'] + ebola['Cases_SierraLeone']"
      ],
      "execution_count": 66,
      "outputs": []
    },
    {
      "cell_type": "code",
      "metadata": {
        "colab": {
          "base_uri": "https://localhost:8080/"
        },
        "id": "FDJ6xo1Xzp6L",
        "outputId": "60c7cc21-3ac8-4cd4-a886-35677598cc48"
      },
      "source": [
        "## Cases_multiple 열을 포함하여 ebola_subset 이라는 데이터프레임을 새로 만들어 어떤 값이 존재하는지 확인해보자.\r\n",
        "\r\n",
        "ebola_subset = ebola.loc[:, ['Cases_Guinea', 'Cases_Liberia', 'Cases_SierraLeone', 'Cases_multiple']]   # 행이나 열 자리에 :을 쓰면 전체를 인덱싱한다는 뜻이다.\r\n",
        "print(ebola_subset.head(n=10))\r\n",
        "\r\n",
        "## Cases_Guinea, Cases_Liberia, Cases_SierraLeone 에서 누락값이 하나라도 있는 행은 계산 결과가 NaN이 되었음을 알 수 있다.\r\n",
        "## 즉, 계산 결과 누락값이 더 많이 생겼다는 것을 알 수 있다.\r\n"
      ],
      "execution_count": 67,
      "outputs": [
        {
          "output_type": "stream",
          "text": [
            "   Cases_Guinea  Cases_Liberia  Cases_SierraLeone  Cases_multiple\n",
            "0        2776.0            NaN            10030.0             NaN\n",
            "1        2775.0            NaN             9780.0             NaN\n",
            "2        2769.0         8166.0             9722.0         20657.0\n",
            "3           NaN         8157.0                NaN             NaN\n",
            "4        2730.0         8115.0             9633.0         20478.0\n",
            "5        2706.0         8018.0             9446.0         20170.0\n",
            "6        2695.0            NaN             9409.0             NaN\n",
            "7        2630.0         7977.0             9203.0         19810.0\n",
            "8        2597.0            NaN             9004.0             NaN\n",
            "9        2571.0         7862.0             8939.0         19372.0\n"
          ],
          "name": "stdout"
        }
      ]
    },
    {
      "cell_type": "code",
      "metadata": {
        "colab": {
          "base_uri": "https://localhost:8080/"
        },
        "id": "pD0SuK3wzqC5",
        "outputId": "8bb2b5a5-8088-4dbf-a6d2-191df23e7c35"
      },
      "source": [
        "## Cases_multiple 열을 sum 메서드를 사용해 더하면 세 지역의 ebola 발병 수의 합을 구할 수 있다.\r\n",
        "\r\n",
        "## 이때 sum 메서드를 그냥 사용하면 누락값을 포함해 계산한다. 그렇게 하면 결과도 누락값이 되므로, 누락값을 무시하기 위해서는 skipna 인자값을 True로 설정한다.\r\n",
        "\r\n",
        "print(ebola.Cases_Guinea.sum(skipna= True))   # 누락값 무시하고 계산\r\n"
      ],
      "execution_count": 68,
      "outputs": [
        {
          "output_type": "stream",
          "text": [
            "84729.0\n"
          ],
          "name": "stdout"
        }
      ]
    },
    {
      "cell_type": "code",
      "metadata": {
        "colab": {
          "base_uri": "https://localhost:8080/"
        },
        "id": "ORYd1qY4zqLG",
        "outputId": "8b73de84-ec01-4c75-aa4c-f2e711c5340a"
      },
      "source": [
        "print(ebola.Cases_Guinea.sum(skipna = False))   # 누락값 무시하지 않고 계산 -> 당연히 결과는 누락값"
      ],
      "execution_count": 69,
      "outputs": [
        {
          "output_type": "stream",
          "text": [
            "nan\n"
          ],
          "name": "stdout"
        }
      ]
    },
    {
      "cell_type": "code",
      "metadata": {
        "colab": {
          "base_uri": "https://localhost:8080/"
        },
        "id": "ndOdtP4SzqT2",
        "outputId": "548117cf-157e-4e2d-a160-7028d7f4490f"
      },
      "source": [
        "print(ebola.Cases_Guinea.mean(skipna = True))\r\n",
        "print(ebola.Cases_Guinea.max(skipna = True))\r\n",
        "print(ebola.Cases_Guinea.min(skipna= True))"
      ],
      "execution_count": 70,
      "outputs": [
        {
          "output_type": "stream",
          "text": [
            "911.0645161290323\n",
            "2776.0\n",
            "49.0\n"
          ],
          "name": "stdout"
        }
      ]
    },
    {
      "cell_type": "code",
      "metadata": {
        "id": "ikwikJAvl0oa"
      },
      "source": [
        ""
      ],
      "execution_count": 62,
      "outputs": []
    }
  ]
}