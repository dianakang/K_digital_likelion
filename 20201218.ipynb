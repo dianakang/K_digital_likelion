{
  "nbformat": 4,
  "nbformat_minor": 0,
  "metadata": {
    "colab": {
      "name": "20201218.ipynb",
      "provenance": [],
      "collapsed_sections": [],
      "toc_visible": true,
      "authorship_tag": "ABX9TyNcJviBU80wpfOfjueENrf2",
      "include_colab_link": true
    },
    "kernelspec": {
      "name": "python3",
      "display_name": "Python 3"
    }
  },
  "cells": [
    {
      "cell_type": "markdown",
      "metadata": {
        "id": "view-in-github",
        "colab_type": "text"
      },
      "source": [
        "<a href=\"https://colab.research.google.com/github/dianakang/K_digital_likelion/blob/master/20201218.ipynb\" target=\"_parent\"><img src=\"https://colab.research.google.com/assets/colab-badge.svg\" alt=\"Open In Colab\"/></a>"
      ]
    },
    {
      "cell_type": "markdown",
      "metadata": {
        "id": "0PuQ-yyBHyNT"
      },
      "source": [
        "# 4. 분류"
      ]
    },
    {
      "cell_type": "code",
      "metadata": {
        "id": "cZafByx_IjEj"
      },
      "source": [
        "# 분류(Classification)란 회귀와 함께 머신러닝에서 가장 기초적인 데이터 분석 방법 중 하나이다. \r\n",
        "# 분류란 데이터가 어느 범주(Category)에 해당하는지 판단하는 문제로, 유사한 것들을 같은 범주로 묶는다."
      ],
      "execution_count": 1,
      "outputs": []
    },
    {
      "cell_type": "code",
      "metadata": {
        "id": "Xdcxx6cgIjQJ"
      },
      "source": [
        "# cf) 회귀에서는 알고리즘의 퍼포먼스를 측정하기 위해 잔차의 제곱의 합(Sum of Squared Error, SSE), 잔차의 제곱의 평균(Mean Squared Error, MSE) 즉, '실수'를 사용 \r\n",
        "#     분류에서는 예측이 정답을 얼마나 맞혔는지에대한 '정확도'를 측정하며, 보통 '퍼센트(%)'로 나타낸다."
      ],
      "execution_count": 2,
      "outputs": []
    },
    {
      "cell_type": "code",
      "metadata": {
        "id": "5ZinB0PSIjaq"
      },
      "source": [
        "# '회귀'는 어떤 데이터들의 특징(feature)을 토대로 값을 예측하는 것이다.\r\n",
        "# 회귀의 결과는 실수 값이며 연속성을 갖는다. 그래프를 생각하면 됨\r\n",
        "# 회귀는 정답이 있는 상태여서 더 정확한 값을 예측하게 하는 지도학습이다."
      ],
      "execution_count": 3,
      "outputs": []
    },
    {
      "cell_type": "markdown",
      "metadata": {
        "id": "BONKTqrAIjkr"
      },
      "source": [
        "## 4.1 이항분류"
      ]
    },
    {
      "cell_type": "code",
      "metadata": {
        "id": "_ZJP_L_KIj2M"
      },
      "source": [
        "# 이항 분류(Binary Classification)는 정답의 범주가 두 개인 분류이다."
      ],
      "execution_count": 4,
      "outputs": []
    },
    {
      "cell_type": "code",
      "metadata": {
        "id": "HEL-oLf0IkAy"
      },
      "source": [
        "## 와인은 크게 레드 와인과 화이트 와인의 두 종류로 나뉜다.\r\n",
        "## 그런데 우리는 와인의 색깔을 모르는 상태에서 데이터만 보고 와인을 분류할 수 있을까?  쉽지 않을 것이다. \r\n",
        "## 실습을 위해 일단 와인 데이터세트를 불러와보자."
      ],
      "execution_count": 5,
      "outputs": []
    },
    {
      "cell_type": "code",
      "metadata": {
        "id": "h34jSSCEIkKK",
        "colab": {
          "base_uri": "https://localhost:8080/"
        },
        "outputId": "57900c2c-af11-498f-f003-aaef6c0a67e6"
      },
      "source": [
        "# 와인 데이터셋 불러오기\r\n",
        "import pandas as pd       # 데이터 정제 및 분석을 위한 라이브러리로 판다스(pandas)를 임포트 했다.\r\n",
        "red = pd.read_csv('http://archive.ics.uci.edu/ml/machine-learning-databases/wine-quality/winequality-red.csv',sep=';')\r\n",
        "white = pd.read_csv('http://archive.ics.uci.edu/ml/machine-learning-databases/wine-quality/winequality-white.csv', sep=';')\r\n",
        "print(red.head())\r\n",
        "print(white.head())\r\n",
        "\r\n",
        "## 12개의 속성으로 와인의 종류(레드/화이트)를 분류하고 있다. \r\n",
        "## 하지만 이처럼 red, white 두 데이터프레임으로 데이터가 분리되어 있으면 우선 이 두 데이터프레임을 하나로 합쳐야한다.\r\n",
        "## 그 전에 중요한 것은 이 와인이 레드 와인인지 화이트 와인인지 표시해주는 속성을 추가해야한다."
      ],
      "execution_count": 6,
      "outputs": [
        {
          "output_type": "stream",
          "text": [
            "   fixed acidity  volatile acidity  citric acid  ...  sulphates  alcohol  quality\n",
            "0            7.4              0.70         0.00  ...       0.56      9.4        5\n",
            "1            7.8              0.88         0.00  ...       0.68      9.8        5\n",
            "2            7.8              0.76         0.04  ...       0.65      9.8        5\n",
            "3           11.2              0.28         0.56  ...       0.58      9.8        6\n",
            "4            7.4              0.70         0.00  ...       0.56      9.4        5\n",
            "\n",
            "[5 rows x 12 columns]\n",
            "   fixed acidity  volatile acidity  citric acid  ...  sulphates  alcohol  quality\n",
            "0            7.0              0.27         0.36  ...       0.45      8.8        6\n",
            "1            6.3              0.30         0.34  ...       0.49      9.5        6\n",
            "2            8.1              0.28         0.40  ...       0.44     10.1        6\n",
            "3            7.2              0.23         0.32  ...       0.40      9.9        6\n",
            "4            7.2              0.23         0.32  ...       0.40      9.9        6\n",
            "\n",
            "[5 rows x 12 columns]\n"
          ],
          "name": "stdout"
        }
      ]
    },
    {
      "cell_type": "code",
      "metadata": {
        "id": "YTt-z0lk8wyh"
      },
      "source": [
        "## 그럼 이제 이 두 작업을 수행해보자.\r\n",
        "## 1. 두 데이터프레임을 하나로 합치기\r\n",
        "## 2. 데이터 라벨링(레드 와인과 화이트 와인으로 구분)"
      ],
      "execution_count": 7,
      "outputs": []
    },
    {
      "cell_type": "code",
      "metadata": {
        "id": "YWC3Wx1EIkTh",
        "colab": {
          "base_uri": "https://localhost:8080/"
        },
        "outputId": "e459f93e-7b28-46dd-c2a5-cc21fb3174b1"
      },
      "source": [
        "## 데이터프레임에 새로운 속성을 추가하는 방법은 데이터프레임이 파이썬의 사전(dict)타입인 것처럼 속성명과 값을 직접 지정하면 된다. ex) red['type']= 0\r\n",
        "## 여기서는 레드와인과 화이트 와인을 구별하는 속성의 이름을 type으로 정의했고, 레드와인을 0, 화이트 와인은 1로 지정했다.\r\n",
        "\r\n",
        "red['type'] = 0     \r\n",
        "white['type']= 1\r\n",
        "print(red.head(2))\r\n",
        "print(white.head(2))\r\n",
        "\r\n",
        "wine = pd.concat([red, white])   # pd.concat()함수는 두 개의 데이터프레임을 합치기 위해 사용한다.\r\n",
        "print(wine.describe())   # describe()함수를 사용해 데이터프레임의 간단한 통계 정보를 확인한다."
      ],
      "execution_count": 8,
      "outputs": [
        {
          "output_type": "stream",
          "text": [
            "   fixed acidity  volatile acidity  citric acid  ...  alcohol  quality  type\n",
            "0            7.4              0.70          0.0  ...      9.4        5     0\n",
            "1            7.8              0.88          0.0  ...      9.8        5     0\n",
            "\n",
            "[2 rows x 13 columns]\n",
            "   fixed acidity  volatile acidity  citric acid  ...  alcohol  quality  type\n",
            "0            7.0              0.27         0.36  ...      8.8        6     1\n",
            "1            6.3              0.30         0.34  ...      9.5        6     1\n",
            "\n",
            "[2 rows x 13 columns]\n",
            "       fixed acidity  volatile acidity  ...      quality         type\n",
            "count    6497.000000       6497.000000  ...  6497.000000  6497.000000\n",
            "mean        7.215307          0.339666  ...     5.818378     0.753886\n",
            "std         1.296434          0.164636  ...     0.873255     0.430779\n",
            "min         3.800000          0.080000  ...     3.000000     0.000000\n",
            "25%         6.400000          0.230000  ...     5.000000     1.000000\n",
            "50%         7.000000          0.290000  ...     6.000000     1.000000\n",
            "75%         7.700000          0.400000  ...     6.000000     1.000000\n",
            "max        15.900000          1.580000  ...     9.000000     1.000000\n",
            "\n",
            "[8 rows x 13 columns]\n"
          ],
          "name": "stdout"
        }
      ]
    },
    {
      "cell_type": "code",
      "metadata": {
        "id": "Afs3bz3d-l9I"
      },
      "source": [
        "## type 속성을 보면 최소값(min)이 0, 최대값(max)이 1임을 알 수 있다.\r\n",
        "## 그런데 평균(mean)은 0.75가 나오는 것을 보면 0에 해당하는 값보다 1에 해당하는 값이 더 많을 것을 예상할 수 있다."
      ],
      "execution_count": 9,
      "outputs": []
    },
    {
      "cell_type": "code",
      "metadata": {
        "id": "YdHO3A0AIkc8",
        "colab": {
          "base_uri": "https://localhost:8080/",
          "height": 318
        },
        "outputId": "a83fc0ae-a9b4-4428-e39e-eebe83a2009e"
      },
      "source": [
        "## 정확한 수치를 알아보기 위해 value_counts()로 type 속성에 존재하는 각 값의 수를 출력해보자.\r\n",
        "\r\n",
        "# 레드 와인과 화이트 와인 type 히스토그램\r\n",
        "import matplotlib.pyplot as plt\r\n",
        "plt.hist(wine['type'])\r\n",
        "plt.xticks([0, 1])   # 눈금표시\r\n",
        "plt.show()\r\n",
        "\r\n",
        "print(wine['type'].value_counts())\r\n",
        "\r\n",
        "## 속성을 이용해 히스토그램을 그려보면 '화이트 와인이 레드와인보다 약 3배 정도 많다'는 것을 알 수 있다.\r\n",
        "## 하지만 딥러닝 학습을 위해서는 레드 와인과 화이트 와인이 비슷한 비율로 들어가도록 데이터를 랜덤하게 섞어야한다."
      ],
      "execution_count": 10,
      "outputs": [
        {
          "output_type": "display_data",
          "data": {
            "image/png": "[encoded data removed]",
            "text/plain": [
              "<Figure size 432x288 with 1 Axes>"
            ]
          },
          "metadata": {
            "tags": [],
            "needs_background": "light"
          }
        },
        {
          "output_type": "stream",
          "text": [
            "1    4898\n",
            "0    1599\n",
            "Name: type, dtype: int64\n"
          ],
          "name": "stdout"
        }
      ]
    },
    {
      "cell_type": "code",
      "metadata": {
        "colab": {
          "base_uri": "https://localhost:8080/"
        },
        "id": "yJMtEJeibPpz",
        "outputId": "f7ebe76d-410c-4516-9d41-73cd47709539"
      },
      "source": [
        "## 데이터를 섞어주기 전에 해야 할 일이 하나 더 있다. 바로 '데이터 정규화'이다.\r\n",
        "## 외부에서 불러오는 데이터의 경우에는 어떤 값으로 구성되어 있는지 알수 없기 때문에 이 과정이 꼭 필요하다. \r\n",
        "## 데이터프레임 속성을 알기 위해서는 info()함수를 사용한다. \r\n",
        "\r\n",
        "# 데이터 파악하기 <- info()함수\r\n",
        "print(wine.info())"
      ],
      "execution_count": 11,
      "outputs": [
        {
          "output_type": "stream",
          "text": [
            "<class 'pandas.core.frame.DataFrame'>\n",
            "Int64Index: 6497 entries, 0 to 4897\n",
            "Data columns (total 13 columns):\n",
            " #   Column                Non-Null Count  Dtype  \n",
            "---  ------                --------------  -----  \n",
            " 0   fixed acidity         6497 non-null   float64\n",
            " 1   volatile acidity      6497 non-null   float64\n",
            " 2   citric acid           6497 non-null   float64\n",
            " 3   residual sugar        6497 non-null   float64\n",
            " 4   chlorides             6497 non-null   float64\n",
            " 5   free sulfur dioxide   6497 non-null   float64\n",
            " 6   total sulfur dioxide  6497 non-null   float64\n",
            " 7   density               6497 non-null   float64\n",
            " 8   pH                    6497 non-null   float64\n",
            " 9   sulphates             6497 non-null   float64\n",
            " 10  alcohol               6497 non-null   float64\n",
            " 11  quality               6497 non-null   int64  \n",
            " 12  type                  6497 non-null   int64  \n",
            "dtypes: float64(11), int64(2)\n",
            "memory usage: 710.6 KB\n",
            "None\n"
          ],
          "name": "stdout"
        }
      ]
    },
    {
      "cell_type": "code",
      "metadata": {
        "id": "3OeorzSjqk9U"
      },
      "source": [
        "## 출력된 13개의 속성 모두 non-null로 표시되어 null값은 없다는 것을 알 수 있다.\r\n",
        "## 11개는 float64, 2개는 int64로 모두 숫자값이기 때문에 안전하게 정규화를 진행할 수 있다. "
      ],
      "execution_count": 12,
      "outputs": []
    },
    {
      "cell_type": "code",
      "metadata": {
        "colab": {
          "base_uri": "https://localhost:8080/"
        },
        "id": "aJhUltEobPwy",
        "outputId": "188d85c0-f992-4fb3-8107-6bac4e696c92"
      },
      "source": [
        "# 데이터 정규화\r\n",
        "wine_norm = (wine-wine.min())/(wine.max()-wine.min())   # 정규화 공식\r\n",
        "print(wine_norm.head())\r\n",
        "print(wine_norm.describe())  # 계산 결과가 올바른지 확인하기 위한 출력 명령문\r\n",
        "\r\n",
        "## 출력 결과 min이 모두 0, max가 모두 1인 것을 확인할 수 있다."
      ],
      "execution_count": 13,
      "outputs": [
        {
          "output_type": "stream",
          "text": [
            "   fixed acidity  volatile acidity  citric acid  ...   alcohol   quality  type\n",
            "0       0.297521          0.413333     0.000000  ...  0.202899  0.333333   0.0\n",
            "1       0.330579          0.533333     0.000000  ...  0.260870  0.333333   0.0\n",
            "2       0.330579          0.453333     0.024096  ...  0.260870  0.333333   0.0\n",
            "3       0.611570          0.133333     0.337349  ...  0.260870  0.500000   0.0\n",
            "4       0.297521          0.413333     0.000000  ...  0.202899  0.333333   0.0\n",
            "\n",
            "[5 rows x 13 columns]\n",
            "       fixed acidity  volatile acidity  ...      quality         type\n",
            "count    6497.000000       6497.000000  ...  6497.000000  6497.000000\n",
            "mean        0.282257          0.173111  ...     0.469730     0.753886\n",
            "std         0.107143          0.109758  ...     0.145543     0.430779\n",
            "min         0.000000          0.000000  ...     0.000000     0.000000\n",
            "25%         0.214876          0.100000  ...     0.333333     1.000000\n",
            "50%         0.264463          0.140000  ...     0.500000     1.000000\n",
            "75%         0.322314          0.213333  ...     0.500000     1.000000\n",
            "max         1.000000          1.000000  ...     1.000000     1.000000\n",
            "\n",
            "[8 rows x 13 columns]\n"
          ],
          "name": "stdout"
        }
      ]
    },
    {
      "cell_type": "code",
      "metadata": {
        "colab": {
          "base_uri": "https://localhost:8080/"
        },
        "id": "1gcLE9ACbP4E",
        "outputId": "60765161-4a11-49c7-a85f-f8c0a630574b"
      },
      "source": [
        "# 데이터 섞은 후 numpy array로 변환\r\n",
        "import numpy as np\r\n",
        "wine_shuffle = wine_norm.sample(frac=1) \r\n",
        "## sample()함수는 전체 데이터프레임에서 frac 인구로 지정된 비율만큼의 행을 랜덤하게 뽑아서 새로운 데이터프레임을 만든다.\r\n",
        "## frac = 1은 100%, 즉 모든 데이터를 뽑아서 섞는 것이다.\r\n",
        "\r\n",
        "print(wine_shuffle.head())\r\n",
        "## type을 보면 데이터가 랜덤하게 섞여 0과 1이 불규칙하게 보인다.\r\n",
        "\r\n",
        "wine_np = wine_shuffle.to_numpy()  ## to_numpy()함수는 데이터프레임을 넘파이 array로 변환한다.\r\n",
        "print(type(wine_np))  ## type()함수를 통해 현재 넘파이의 array로 변환된 것을 확인할 수 있다."
      ],
      "execution_count": 14,
      "outputs": [
        {
          "output_type": "stream",
          "text": [
            "      fixed acidity  volatile acidity  citric acid  ...   alcohol   quality  type\n",
            "4662       0.289256          0.060000     0.216867  ...  0.637681  0.500000   1.0\n",
            "1172       0.487603          0.226667     0.277108  ...  0.623188  0.500000   0.0\n",
            "3711       0.305785          0.106667     0.186747  ...  0.159420  0.500000   1.0\n",
            "4826       0.181818          0.173333     0.174699  ...  0.391304  0.500000   1.0\n",
            "1432       0.223140          0.186667     0.295181  ...  0.594203  0.666667   1.0\n",
            "\n",
            "[5 rows x 13 columns]\n",
            "<class 'numpy.ndarray'>\n"
          ],
          "name": "stdout"
        }
      ]
    },
    {
      "cell_type": "code",
      "metadata": {
        "id": "PAXHe2Ys5P1K"
      },
      "source": [
        "# 그럼 이제 데이터를 훈련 데이터와 테스트 데이터로 나눠보자.\r\n",
        "# 학습을 위해서는 각 데이터를 입력과 출력인 X와 Y로 먼저 분리해야한다."
      ],
      "execution_count": 15,
      "outputs": []
    },
    {
      "cell_type": "code",
      "metadata": {
        "colab": {
          "base_uri": "https://localhost:8080/"
        },
        "id": "t9iDpkssbP93",
        "outputId": "b9f2a2de-6fe9-4526-db8c-af394c456b83"
      },
      "source": [
        "# train 데이터와 test 데이터로 분리\r\n",
        "import tensorflow as tf\r\n",
        "train_idx = int(len(wine_np) * 0.8)\r\n",
        "print(train_idx)\r\n",
        "## 80%에 해당하는 데이터를 훈련데이터와 검증데이터로 만들기 위해 wine_np의 수의 80%에 해당하는 인덱스를 int값으로 저장한다. (6497 -> 5197)\r\n",
        "\r\n",
        "train_X, train_Y = wine_np[:train_idx, :-1], wine_np[:train_idx, -1]\r\n",
        "test_X, test_Y = wine_np[train_idx:, :-1], wine_np[train_idx:, -1]\r\n",
        "## 그 다음 이 인덱스를 이용해 wine_np를 분리한다.\r\n",
        "## 넘파이 array에서는 2차원 이상의 인덱스에 접근할 때 쉼표(,)를 사용하기 때문에 쉼표를 이용해 X와 Y도 구분해준다.\r\n",
        "\r\n",
        "print(train_X[0])\r\n",
        "print(train_Y[0])\r\n",
        "print(train_X[0])\r\n",
        "print(train_Y[0])\r\n",
        "\r\n",
        "## 12개의 기존 속성을 X가 되고 새롭게 추가한 type은 Y가 된다."
      ],
      "execution_count": 16,
      "outputs": [
        {
          "output_type": "stream",
          "text": [
            "5197\n",
            "[0.2892562  0.06       0.21686747 0.11656442 0.03156146 0.14930556\n",
            " 0.24193548 0.108155   0.3255814  0.10674157 0.63768116 0.5       ]\n",
            "1.0\n",
            "[0.2892562  0.06       0.21686747 0.11656442 0.03156146 0.14930556\n",
            " 0.24193548 0.108155   0.3255814  0.10674157 0.63768116 0.5       ]\n",
            "1.0\n"
          ],
          "name": "stdout"
        }
      ]
    },
    {
      "cell_type": "code",
      "metadata": {
        "colab": {
          "base_uri": "https://localhost:8080/"
        },
        "id": "uo2pBiqpbQF0",
        "outputId": "cc1a6d75-7f48-47ef-da4d-467866b01d1d"
      },
      "source": [
        "train_Y = tf.keras.utils.to_categorical(train_Y, num_classes=2)   \r\n",
        "## tf.keras.utils에서 불러오는 to_categorical은 분류 문제에서 자주 쓰이는 함수이다. 이는 정답 행렬은 원 - 핫 인코딩(One-Hot-Encoding)방식으로 바꾼다.\r\n",
        "## 원 - 핫 인코딩은 정답에 해당하는 인덱스의 값에는 1을 넣고, 나머지 인덱스에는 모두 0을 넣는 방식이다.\r\n",
        "\r\n",
        "test_Y = tf.keras.utils.to_categorical(test_Y, num_classes=2)   # num_classes는 정답 클래스의 개수 \r\n",
        "## 이 문제에서는 정답 클래스가 레드 와인, 화이트 와인 2개이므로 2를 넣었다.\r\n",
        "\r\n",
        "print(train_Y[0])  # 화이트 와인(1.0)\r\n",
        "print(test_Y[0])   # 레드 와인(0.0)\r\n",
        "\r\n",
        "## 1의 위치는 정답 클래스의 인덱스와 동일하다."
      ],
      "execution_count": 17,
      "outputs": [
        {
          "output_type": "stream",
          "text": [
            "[0. 1.]\n",
            "[0. 1.]\n"
          ],
          "name": "stdout"
        }
      ]
    },
    {
      "cell_type": "code",
      "metadata": {
        "id": "QLvdVdbhbQN9"
      },
      "source": [
        "# 와인 데이터셋 분류 모델 생성\r\n",
        "import tensorflow as tf\r\n",
        "model = tf.keras.Sequential([\r\n",
        "    tf.keras.layers.Dense(units=48, activation='relu', input_shape=(12,)),\r\n",
        "    tf.keras.layers.Dense(units=24, activation='relu'),\r\n",
        "    tf.keras.layers.Dense(units=12, activation='relu'),\r\n",
        "    tf.keras.layers.Dense(units=2, activation='softmax')   # 분류모델이기 때문에 마지막 레이어의 활성화함수로 소프트맥스(softmax)를 사용한다.\r\n",
        "])\r\n",
        "\r\n",
        "## 소프트맥스라는 단어는 max함수와 비슷한 의미로, max 함수의 약화된 버전이라고 생각할 수 있다. \r\n",
        "## [2,1,0]에 max함수를 취하면 [2,0,0]이 될 것이다. 소프트맥스는 이보다는 좀 더 약하지만 큰 값을 강조하고 작은 값은 약화시킨다.\r\n",
        "## 뿐만 아니라 e를 밑으로 하는 지수 함수를 취하기 때문에 0이나 음수에도 적용가능하다.\r\n",
        "## 분류 문제나 언어 RNN 에서의 다음 토큰 예측, 강화학습에서 에이전트의 행동 확률을 구하는 결과값 확률을 구할 때 쓰인다.\r\n",
        "\r\n",
        "## 여기서는 예측값이 레드와인인 확률과 화이트 와인일 확률을 구하는데 쓰인다. 즉, 결과값의 확률이 1일 것이다.\r\n",
        "## 뿐만 아니라 마지막 레이어의 뉴런의 개수가 2로 설정되어 있다는 것은 원 - 핫 인코딩으로 변환한 정답의 차원 수와 동일한 값임을 알 수 있다.\r\n",
        "## 즉, 정답을 맞춘 수를 전체 와인의 수로 나누면 분류 네트워크의 예측률을 계산할 수 있다."
      ],
      "execution_count": 18,
      "outputs": []
    },
    {
      "cell_type": "code",
      "metadata": {
        "colab": {
          "base_uri": "https://localhost:8080/"
        },
        "id": "DsN_Yx-1bQWN",
        "outputId": "73903b77-d2f9-40ce-ca2d-407ac87c8500"
      },
      "source": [
        "model.compile(optimizer=tf.keras.optimizers.Adam(lr=0.07),   # compile = 최적화\r\n",
        "loss='categorical_crossentropy', metrics=['accuracy'])  # 분류 문제는 정확도로 퍼포먼스를 측정하기 때문에 정확도(accuracy)를 설정하는 것이 필수이다.\r\n",
        "## 'categoricall_crossentropy' = 범주에 쓰이는 분류_ 신경망에서 softmax를 통과한 확률분포 벡터 Q와 실제 정답의 확률분포 벡터 P 사이의 교차엔트로피\r\n",
        "\r\n",
        "model.summary()\r\n",
        "## 이렇게 인수를 모두 설정하면 모델의 학습 history에 loss와 accuracy가 함께 저장된다."
      ],
      "execution_count": 19,
      "outputs": [
        {
          "output_type": "stream",
          "text": [
            "Model: \"sequential\"\n",
            "_________________________________________________________________\n",
            "Layer (type)                 Output Shape              Param #   \n",
            "=================================================================\n",
            "dense (Dense)                (None, 48)                624       \n",
            "_________________________________________________________________\n",
            "dense_1 (Dense)              (None, 24)                1176      \n",
            "_________________________________________________________________\n",
            "dense_2 (Dense)              (None, 12)                300       \n",
            "_________________________________________________________________\n",
            "dense_3 (Dense)              (None, 2)                 26        \n",
            "=================================================================\n",
            "Total params: 2,126\n",
            "Trainable params: 2,126\n",
            "Non-trainable params: 0\n",
            "_________________________________________________________________\n"
          ],
          "name": "stdout"
        }
      ]
    },
    {
      "cell_type": "code",
      "metadata": {
        "id": "n22ZW6NTIkmU",
        "colab": {
          "base_uri": "https://localhost:8080/"
        },
        "outputId": "68277f13-75a7-434c-aa51-c8c11cff72ce"
      },
      "source": [
        "# 와인 데이터셋 분류 모델 학습\r\n",
        "history = model.fit(train_X, train_Y, epochs=25, batch_size=32, validation_split=0.25)\r\n",
        "## validation_split : 검증데이터 비율\r\n",
        "\r\n",
        "## 학습 과정에서는 '학습 데이터의 정확도'와 '검증 데이터의 정확도'가 각각 'accuracy', 'val_accuracy' 라는 이름으로 표시된다."
      ],
      "execution_count": 20,
      "outputs": [
        {
          "output_type": "stream",
          "text": [
            "Epoch 1/25\n",
            "122/122 [==============================] - 1s 5ms/step - loss: 0.3230 - accuracy: 0.8264 - val_loss: 0.0429 - val_accuracy: 0.9892\n",
            "Epoch 2/25\n",
            "122/122 [==============================] - 0s 2ms/step - loss: 0.0717 - accuracy: 0.9844 - val_loss: 0.0449 - val_accuracy: 0.9915\n",
            "Epoch 3/25\n",
            "122/122 [==============================] - 0s 2ms/step - loss: 0.0462 - accuracy: 0.9890 - val_loss: 0.0546 - val_accuracy: 0.9785\n",
            "Epoch 4/25\n",
            "122/122 [==============================] - 0s 2ms/step - loss: 0.0545 - accuracy: 0.9829 - val_loss: 0.0414 - val_accuracy: 0.9846\n",
            "Epoch 5/25\n",
            "122/122 [==============================] - 0s 2ms/step - loss: 0.0500 - accuracy: 0.9834 - val_loss: 0.0684 - val_accuracy: 0.9854\n",
            "Epoch 6/25\n",
            "122/122 [==============================] - 0s 2ms/step - loss: 0.0543 - accuracy: 0.9843 - val_loss: 0.0392 - val_accuracy: 0.9900\n",
            "Epoch 7/25\n",
            "122/122 [==============================] - 0s 2ms/step - loss: 0.0400 - accuracy: 0.9907 - val_loss: 0.0449 - val_accuracy: 0.9962\n",
            "Epoch 8/25\n",
            "122/122 [==============================] - 0s 2ms/step - loss: 0.0504 - accuracy: 0.9903 - val_loss: 0.0262 - val_accuracy: 0.9954\n",
            "Epoch 9/25\n",
            "122/122 [==============================] - 0s 2ms/step - loss: 0.0499 - accuracy: 0.9882 - val_loss: 0.0302 - val_accuracy: 0.9931\n",
            "Epoch 10/25\n",
            "122/122 [==============================] - 0s 2ms/step - loss: 0.0324 - accuracy: 0.9931 - val_loss: 0.0292 - val_accuracy: 0.9946\n",
            "Epoch 11/25\n",
            "122/122 [==============================] - 0s 2ms/step - loss: 0.0472 - accuracy: 0.9880 - val_loss: 0.0522 - val_accuracy: 0.9923\n",
            "Epoch 12/25\n",
            "122/122 [==============================] - 0s 2ms/step - loss: 0.0583 - accuracy: 0.9869 - val_loss: 0.0369 - val_accuracy: 0.9877\n",
            "Epoch 13/25\n",
            "122/122 [==============================] - 0s 2ms/step - loss: 0.0323 - accuracy: 0.9899 - val_loss: 0.0335 - val_accuracy: 0.9946\n",
            "Epoch 14/25\n",
            "122/122 [==============================] - 0s 2ms/step - loss: 0.0332 - accuracy: 0.9885 - val_loss: 0.0359 - val_accuracy: 0.9946\n",
            "Epoch 15/25\n",
            "122/122 [==============================] - 0s 2ms/step - loss: 0.0310 - accuracy: 0.9920 - val_loss: 0.0352 - val_accuracy: 0.9946\n",
            "Epoch 16/25\n",
            "122/122 [==============================] - 0s 2ms/step - loss: 0.0319 - accuracy: 0.9926 - val_loss: 0.0325 - val_accuracy: 0.9931\n",
            "Epoch 17/25\n",
            "122/122 [==============================] - 0s 2ms/step - loss: 0.0305 - accuracy: 0.9919 - val_loss: 0.0300 - val_accuracy: 0.9931\n",
            "Epoch 18/25\n",
            "122/122 [==============================] - 0s 2ms/step - loss: 0.0317 - accuracy: 0.9914 - val_loss: 0.0262 - val_accuracy: 0.9938\n",
            "Epoch 19/25\n",
            "122/122 [==============================] - 0s 2ms/step - loss: 0.0494 - accuracy: 0.9891 - val_loss: 0.0460 - val_accuracy: 0.9838\n",
            "Epoch 20/25\n",
            "122/122 [==============================] - 0s 2ms/step - loss: 0.0346 - accuracy: 0.9900 - val_loss: 0.0255 - val_accuracy: 0.9946\n",
            "Epoch 21/25\n",
            "122/122 [==============================] - 0s 2ms/step - loss: 0.0304 - accuracy: 0.9909 - val_loss: 0.0283 - val_accuracy: 0.9954\n",
            "Epoch 22/25\n",
            "122/122 [==============================] - 0s 2ms/step - loss: 0.0344 - accuracy: 0.9904 - val_loss: 0.0325 - val_accuracy: 0.9915\n",
            "Epoch 23/25\n",
            "122/122 [==============================] - 0s 2ms/step - loss: 0.0394 - accuracy: 0.9899 - val_loss: 0.0269 - val_accuracy: 0.9946\n",
            "Epoch 24/25\n",
            "122/122 [==============================] - 0s 2ms/step - loss: 0.0433 - accuracy: 0.9914 - val_loss: 0.0405 - val_accuracy: 0.9908\n",
            "Epoch 25/25\n",
            "122/122 [==============================] - 0s 2ms/step - loss: 0.0304 - accuracy: 0.9908 - val_loss: 0.0326 - val_accuracy: 0.9892\n"
          ],
          "name": "stdout"
        }
      ]
    },
    {
      "cell_type": "code",
      "metadata": {
        "colab": {
          "base_uri": "https://localhost:8080/",
          "height": 283
        },
        "id": "NWs_nhvsnyjD",
        "outputId": "0c2fc2b8-ac4a-4bde-ca9a-b5aedb413bb1"
      },
      "source": [
        "# 분류 모델 학습 결과 시각화\r\n",
        "import matplotlib.pyplot as plt\r\n",
        "plt.figure(figsize=(12,4))   # 시각화 크기 지정\r\n",
        "\r\n",
        "plt.subplot(1,2,1)   # 시각화 구역을 설정\r\n",
        "plt.plot(history.history['loss'], 'b-', label='loss')\r\n",
        "plt.plot(history.history['val_loss'], 'r--', label='val_loss')\r\n",
        "plt.xlabel('Epoch')\r\n",
        "plt.legend() # 범례\r\n",
        "\r\n",
        "plt.subplot(1,2,2)\r\n",
        "plt.plot(history.history['accuracy'], 'g-', label='accuracy')\r\n",
        "plt.plot(history.history['val_accuracy'], 'k--', label='val_accuracy')\r\n",
        "plt.xlabel('Epoch')\r\n",
        "plt.ylim(0.7,1)   # y축 범위\r\n",
        "plt.legend()\r\n",
        "\r\n",
        "plt.show()"
      ],
      "execution_count": 21,
      "outputs": [
        {
          "output_type": "display_data",
          "data": {
            "image/png": "[encoded data removed]",
            "text/plain": [
              "<Figure size 864x288 with 2 Axes>"
            ]
          },
          "metadata": {
            "tags": [],
            "needs_background": "light"
          }
        }
      ]
    },
    {
      "cell_type": "code",
      "metadata": {
        "colab": {
          "base_uri": "https://localhost:8080/"
        },
        "id": "EymM2dTBnyqQ",
        "outputId": "f691f2b8-7dfc-45d7-9e1c-b0fa8e8dccde"
      },
      "source": [
        "# 분류모델 평가\r\n",
        "model.evaluate(test_X, test_Y)\r\n",
        "\r\n",
        "## 정확도가 0.99%로 거의 오차 없이 레드와인과 화이트 와인을 분류하는 것을 확인할 수 있다."
      ],
      "execution_count": 22,
      "outputs": [
        {
          "output_type": "stream",
          "text": [
            "41/41 [==============================] - 0s 1ms/step - loss: 0.0349 - accuracy: 0.9923\n"
          ],
          "name": "stdout"
        },
        {
          "output_type": "execute_result",
          "data": {
            "text/plain": [
              "[0.034860026091337204, 0.9923076629638672]"
            ]
          },
          "metadata": {
            "tags": []
          },
          "execution_count": 22
        }
      ]
    },
    {
      "cell_type": "markdown",
      "metadata": {
        "id": "2OEFcT56PT39"
      },
      "source": [
        "# 4.2 다항분류"
      ]
    },
    {
      "cell_type": "code",
      "metadata": {
        "id": "6XxrYRg4nyyX"
      },
      "source": [
        "## 다향분류란 범주의 수가 2개를 초과하는 경우이다.\r\n",
        "## 앞의 와인 데이터세트에는 와인의 품질을 0에서 10까지의 숫자로 구분하고 있으므로 데이터를 다항 분류의 범주로 사용할 수 있다.\r\n",
        "## 그래서 이번에는 와인의 색깔 대신 와인의 품질을 예측해볼 것이다.\r\n",
        "## 일단 품질 데이터가 어떤 비율로 구성되어 있는지 알아보자."
      ],
      "execution_count": 23,
      "outputs": []
    },
    {
      "cell_type": "code",
      "metadata": {
        "colab": {
          "base_uri": "https://localhost:8080/"
        },
        "id": "u5heJ2wXRHSA",
        "outputId": "66df4157-2667-434c-d822-6b6969ba3648"
      },
      "source": [
        "# 품질 데이터 확인\r\n",
        "print(wine['quality'].describe())\r\n",
        "print(wine['quality'].value_counts())\r\n",
        "\r\n",
        "## descirbe()함수로 통계정보를 확인해보면, 레드와인과 화이트와인을 합친 wine 데이터에서 min값이 3, max 값이 9인 것을 확인할 수 있다.\r\n",
        "## 또 value_count()함수로 각 분류의 개수를 확인해보면 각 항목의 수가 균일하지 않고 꽤 차이가 납니다.\r\n",
        "## 좀 더 정확한 정보를 알기 위해 히스토그램을 시각화해보자."
      ],
      "execution_count": 24,
      "outputs": [
        {
          "output_type": "stream",
          "text": [
            "count    6497.000000\n",
            "mean        5.818378\n",
            "std         0.873255\n",
            "min         3.000000\n",
            "25%         5.000000\n",
            "50%         6.000000\n",
            "75%         6.000000\n",
            "max         9.000000\n",
            "Name: quality, dtype: float64\n",
            "6    2836\n",
            "5    2138\n",
            "7    1079\n",
            "4     216\n",
            "8     193\n",
            "3      30\n",
            "9       5\n",
            "Name: quality, dtype: int64\n"
          ],
          "name": "stdout"
        }
      ]
    },
    {
      "cell_type": "code",
      "metadata": {
        "id": "a5T-x4J1ny5S",
        "colab": {
          "base_uri": "https://localhost:8080/",
          "height": 265
        },
        "outputId": "11a40b88-400d-4ba2-cef3-d1cb540c1485"
      },
      "source": [
        "# 품질 히스토그램 시각화\r\n",
        "import matplotlib.pyplot as plt\r\n",
        "plt.hist(wine['quality'], bins=7, rwidth=0.8)\r\n",
        "plt.show()"
      ],
      "execution_count": 25,
      "outputs": [
        {
          "output_type": "display_data",
          "data": {
            "image/png": "[encoded data removed]",
            "text/plain": [
              "<Figure size 432x288 with 1 Axes>"
            ]
          },
          "metadata": {
            "tags": [],
            "needs_background": "light"
          }
        }
      ]
    },
    {
      "cell_type": "code",
      "metadata": {
        "id": "c3TlxNzaPXED"
      },
      "source": [
        "## 데이터의 양이 작고 범주의 수가 너무 많은 데다 히스토그램에서 볼 수 있듯이 각 데이터의 숫자가 차이나기 때문에 모든 범주에 대한 분류는 어려울 것이다.\r\n",
        "## 그래서 범주를 크게 세 가지로 재분류하겠다. (품질 3 ~ 5는 나쁨, 7 ~ 9는 좋음, 양쪽에 속하지 못하는 6은 보통으로 분류한다.)"
      ],
      "execution_count": 26,
      "outputs": []
    },
    {
      "cell_type": "code",
      "metadata": {
        "colab": {
          "base_uri": "https://localhost:8080/"
        },
        "id": "-cNIY5YdPXKe",
        "outputId": "04d921dd-1f4d-4826-ba6f-42de23b8830c"
      },
      "source": [
        "# 품질을 3개의 범주(좋음, 보통, 나쁨)로 재분류\r\n",
        "wine.loc[wine['quality'] <= 5, 'new_quality'] = 0    ## loc = 특정 데이터의 '인덱스'를 골라내는 역할\r\n",
        "## 이 때 대괄호 안에 인수를 하나만 넣으면 행을 골라내고, 쉼표(,)를 포함한 두 개의 인수를 넣으면 행, 열을 골라낸다.\r\n",
        "\r\n",
        "wine.loc[wine['quality'] == 6, 'new_quality'] = 1\r\n",
        "wine.loc[wine['quality'] >= 7, 'new_quality'] = 2\r\n",
        "\r\n",
        "print(wine['new_quality'].describe())\r\n",
        "print(wine['new_quality'].value_counts())"
      ],
      "execution_count": 27,
      "outputs": [
        {
          "output_type": "stream",
          "text": [
            "count    6497.000000\n",
            "mean        0.829614\n",
            "std         0.731124\n",
            "min         0.000000\n",
            "25%         0.000000\n",
            "50%         1.000000\n",
            "75%         1.000000\n",
            "max         2.000000\n",
            "Name: new_quality, dtype: float64\n",
            "1.0    2836\n",
            "0.0    2384\n",
            "2.0    1277\n",
            "Name: new_quality, dtype: int64\n"
          ],
          "name": "stdout"
        }
      ]
    },
    {
      "cell_type": "code",
      "metadata": {
        "colab": {
          "base_uri": "https://localhost:8080/"
        },
        "id": "6xA9eRMVPXQh",
        "outputId": "83a1d2aa-d47a-4ebd-8fe3-e7b71532784a"
      },
      "source": [
        "data = [['Apple', 11], ['Banana', 23], ['Coconut', 35]]\r\n",
        "df = pd.DataFrame(data, columns = ['Fruit', 'Count'])\r\n",
        "print(df)\r\n",
        "print()\r\n",
        "print(df.loc[0])    # 첫 번째 행\r\n",
        "print()\r\n",
        "print(df.loc[0,'Fruit'])    # 첫 번째 행의 Fruit 열 = 'Apple'"
      ],
      "execution_count": 28,
      "outputs": [
        {
          "output_type": "stream",
          "text": [
            "     Fruit  Count\n",
            "0    Apple     11\n",
            "1   Banana     23\n",
            "2  Coconut     35\n",
            "\n",
            "Fruit    Apple\n",
            "Count       11\n",
            "Name: 0, dtype: object\n",
            "\n",
            "Apple\n"
          ],
          "name": "stdout"
        }
      ]
    },
    {
      "cell_type": "code",
      "metadata": {
        "colab": {
          "base_uri": "https://localhost:8080/"
        },
        "id": "wVZh9NE4PXWx",
        "outputId": "a566da45-97c1-4229-c9f9-ba47ec0855b3"
      },
      "source": [
        "# 품질을 3개의 범주 (좋음, 보통, 나쁨)로 재분류\r\n",
        "wine.loc[wine['quality'] <= 5, 'new_quality'] = 0\r\n",
        "wine.loc[wine['quality'] == 6, 'new_quality'] = 1\r\n",
        "wine.loc[wine['quality'] >= 7, 'new_quality'] = 2\r\n",
        "\r\n",
        "print(wine['new_quality'].describe())\r\n",
        "print(wine['new_quality'].value_counts()) \r\n",
        "## 이렇게 품질 데이터를 재분류한 뒤에 value_counts()로 각 분류의 항목 수를 살펴보면 어느 정도 비슷해진 것을 알 수 있다.\r\n",
        "## 각 항목을 구성하는 수가 너무 작거나 너무 많으면 분류가 잘 안되기 때문에 수를 비슷하게 맞춰주는 것이 좋다.\r\n",
        "## 그 다음 할 일은 데이터 정규화 및 훈련 데이터와 테스트 데이터의 분리이다."
      ],
      "execution_count": 29,
      "outputs": [
        {
          "output_type": "stream",
          "text": [
            "count    6497.000000\n",
            "mean        0.829614\n",
            "std         0.731124\n",
            "min         0.000000\n",
            "25%         0.000000\n",
            "50%         1.000000\n",
            "75%         1.000000\n",
            "max         2.000000\n",
            "Name: new_quality, dtype: float64\n",
            "1.0    2836\n",
            "0.0    2384\n",
            "2.0    1277\n",
            "Name: new_quality, dtype: int64\n"
          ],
          "name": "stdout"
        }
      ]
    },
    {
      "cell_type": "code",
      "metadata": {
        "id": "OTyDRTAPT6td"
      },
      "source": [
        "# 데이터 정규화(normalization) 및 train, test 데이터 분리\r\n",
        "del wine['quality'] ## wine 데이터 품질 속성 삭제"
      ],
      "execution_count": 30,
      "outputs": []
    },
    {
      "cell_type": "code",
      "metadata": {
        "id": "mDK92PvZT626"
      },
      "source": [
        "wine_norm = (wine - wine.min()) / (wine.max() - wine.min())  # 정규화 (*데이터를 0과 1사이로 스케일 조정) \r\n",
        "wine_shuffle = wine_norm.sample(frac=1)  # 랜덤으로 섞기\r\n",
        "wine_np = wine_shuffle.to_numpy()   # array 전환"
      ],
      "execution_count": 31,
      "outputs": []
    },
    {
      "cell_type": "code",
      "metadata": {
        "id": "l0u7xhgbT6--"
      },
      "source": [
        "# 학습 데이터와 테스트 데이터로 분할\r\n",
        "train_idx = int(len(wine_np) * 0.8)   # 와인 데이터 세트 전체 인덱스 확인\r\n",
        "train_X, train_Y = wine_np[:train_idx, :-1], wine_np[:train_idx, -1]  # 학습 데이터 X/Y 분할\r\n",
        "test_X, test_Y = wine_np[train_idx:, :-1], wine_np[train_idx:, -1]  # 테스트 데이터 X/Y 분할\r\n",
        "train_Y = tf.keras.utils.to_categorical(train_Y, num_classes=3) # 학습 데이터 원-핫 인코딩\r\n",
        "test_Y = tf.keras.utils.to_categorical(test_Y, num_classes=3)  # 테스트 데이터 원-핫 인코딩\r\n",
        "## 종속 변수에 대하여 to_categorical()을 활용해 학습을 원할하게 하기위한 원-핫 인코딩 처리를 수행하였다."
      ],
      "execution_count": 32,
      "outputs": []
    },
    {
      "cell_type": "code",
      "metadata": {
        "id": "l80czCXeT7Gf"
      },
      "source": [
        "# 개념 비교\r\n",
        "## Regularization - 모델의 복잡도를 줄이는 방식 ex) Early stopping(조기종료)- 콜백함수\r\n",
        "## Standardizaion(표준화) - Z 함수 (평균0, 표준편차1인 표준 정규 분포의 데이터로 만드는 것 / 평균을 기준으로 얼마나 떨어져 있는지 살펴볼 때 사용)"
      ],
      "execution_count": 33,
      "outputs": []
    },
    {
      "cell_type": "code",
      "metadata": {
        "colab": {
          "base_uri": "https://localhost:8080/"
        },
        "id": "YjbVA7ziT7Rf",
        "outputId": "29dc4e86-fc0f-4a5a-a2d2-73a3c2a803d1"
      },
      "source": [
        "# 와인 데이터셋 다항 분류 모델 생성 및 학습\r\n",
        "model = tf.keras.Sequential([\r\n",
        "    tf.keras.layers.Dense(units=48, activation='relu', input_shape=(12,)),\r\n",
        "    tf.keras.layers.Dense(units=24, activation='relu'),\r\n",
        "    tf.keras.layers.Dense(units=12, activation='relu'),\r\n",
        "    tf.keras.layers.Dense(units=3, activation='softmax')\r\n",
        "])\r\n",
        "\r\n",
        "model.compile(optimizer=tf.keras.optimizers.Adam(lr=0.003),\r\n",
        "loss='categorical_crossentropy', metrics=['accuracy'])\r\n",
        "\r\n",
        "history = model.fit(train_X, train_Y, epochs=25, batch_size=32, validation_split=0.25)  # validation_split : 검증데이터 비율\r\n",
        "\r\n",
        "## 마지막 레이어의 뉴런 수가 2가 아닌 3이 된 것 외에는 동일한 구조의 네트워크를 사용했다.\r\n",
        "## 학습을 진행해보면 분류가 레드, 화이트의 2개일 때 보다는 성적이 잘 안나오지만 그래도 검증데이터에 대해 약 81%의 분류 성적을 내고있다."
      ],
      "execution_count": 34,
      "outputs": [
        {
          "output_type": "stream",
          "text": [
            "Epoch 1/25\n",
            "122/122 [==============================] - 1s 3ms/step - loss: 0.7302 - accuracy: 0.6869 - val_loss: 0.4903 - val_accuracy: 0.7985\n",
            "Epoch 2/25\n",
            "122/122 [==============================] - 0s 2ms/step - loss: 0.4527 - accuracy: 0.8139 - val_loss: 0.4388 - val_accuracy: 0.7985\n",
            "Epoch 3/25\n",
            "122/122 [==============================] - 0s 2ms/step - loss: 0.4251 - accuracy: 0.8052 - val_loss: 0.4095 - val_accuracy: 0.7985\n",
            "Epoch 4/25\n",
            "122/122 [==============================] - 0s 2ms/step - loss: 0.4128 - accuracy: 0.8082 - val_loss: 0.4004 - val_accuracy: 0.8069\n",
            "Epoch 5/25\n",
            "122/122 [==============================] - 0s 2ms/step - loss: 0.4024 - accuracy: 0.8164 - val_loss: 0.3958 - val_accuracy: 0.8115\n",
            "Epoch 6/25\n",
            "122/122 [==============================] - 0s 2ms/step - loss: 0.4001 - accuracy: 0.8119 - val_loss: 0.3942 - val_accuracy: 0.8208\n",
            "Epoch 7/25\n",
            "122/122 [==============================] - 0s 2ms/step - loss: 0.3843 - accuracy: 0.8338 - val_loss: 0.3927 - val_accuracy: 0.8162\n",
            "Epoch 8/25\n",
            "122/122 [==============================] - 0s 2ms/step - loss: 0.3838 - accuracy: 0.8262 - val_loss: 0.4018 - val_accuracy: 0.8115\n",
            "Epoch 9/25\n",
            "122/122 [==============================] - 0s 2ms/step - loss: 0.3815 - accuracy: 0.8230 - val_loss: 0.4123 - val_accuracy: 0.8000\n",
            "Epoch 10/25\n",
            "122/122 [==============================] - 0s 2ms/step - loss: 0.3894 - accuracy: 0.8162 - val_loss: 0.3891 - val_accuracy: 0.8185\n",
            "Epoch 11/25\n",
            "122/122 [==============================] - 0s 2ms/step - loss: 0.3851 - accuracy: 0.8281 - val_loss: 0.3957 - val_accuracy: 0.8131\n",
            "Epoch 12/25\n",
            "122/122 [==============================] - 0s 2ms/step - loss: 0.3869 - accuracy: 0.8310 - val_loss: 0.3885 - val_accuracy: 0.8100\n",
            "Epoch 13/25\n",
            "122/122 [==============================] - 0s 2ms/step - loss: 0.3749 - accuracy: 0.8313 - val_loss: 0.3888 - val_accuracy: 0.8154\n",
            "Epoch 14/25\n",
            "122/122 [==============================] - 0s 2ms/step - loss: 0.3902 - accuracy: 0.8275 - val_loss: 0.3866 - val_accuracy: 0.8269\n",
            "Epoch 15/25\n",
            "122/122 [==============================] - 0s 2ms/step - loss: 0.3770 - accuracy: 0.8352 - val_loss: 0.3811 - val_accuracy: 0.8192\n",
            "Epoch 16/25\n",
            "122/122 [==============================] - 0s 2ms/step - loss: 0.3772 - accuracy: 0.8277 - val_loss: 0.3794 - val_accuracy: 0.8146\n",
            "Epoch 17/25\n",
            "122/122 [==============================] - 0s 2ms/step - loss: 0.3726 - accuracy: 0.8333 - val_loss: 0.3787 - val_accuracy: 0.8169\n",
            "Epoch 18/25\n",
            "122/122 [==============================] - 0s 2ms/step - loss: 0.3650 - accuracy: 0.8348 - val_loss: 0.3810 - val_accuracy: 0.8246\n",
            "Epoch 19/25\n",
            "122/122 [==============================] - 0s 2ms/step - loss: 0.3744 - accuracy: 0.8235 - val_loss: 0.3866 - val_accuracy: 0.8115\n",
            "Epoch 20/25\n",
            "122/122 [==============================] - 0s 2ms/step - loss: 0.3614 - accuracy: 0.8412 - val_loss: 0.3800 - val_accuracy: 0.8115\n",
            "Epoch 21/25\n",
            "122/122 [==============================] - 0s 2ms/step - loss: 0.3613 - accuracy: 0.8378 - val_loss: 0.3731 - val_accuracy: 0.8154\n",
            "Epoch 22/25\n",
            "122/122 [==============================] - 0s 2ms/step - loss: 0.3607 - accuracy: 0.8286 - val_loss: 0.3868 - val_accuracy: 0.8223\n",
            "Epoch 23/25\n",
            "122/122 [==============================] - 0s 2ms/step - loss: 0.3643 - accuracy: 0.8397 - val_loss: 0.3770 - val_accuracy: 0.8200\n",
            "Epoch 24/25\n",
            "122/122 [==============================] - 0s 2ms/step - loss: 0.3635 - accuracy: 0.8284 - val_loss: 0.3766 - val_accuracy: 0.8215\n",
            "Epoch 25/25\n",
            "122/122 [==============================] - 0s 2ms/step - loss: 0.3525 - accuracy: 0.8414 - val_loss: 0.3691 - val_accuracy: 0.8269\n"
          ],
          "name": "stdout"
        }
      ]
    },
    {
      "cell_type": "code",
      "metadata": {
        "colab": {
          "base_uri": "https://localhost:8080/",
          "height": 282
        },
        "id": "k9DvIrzrPXcm",
        "outputId": "6d9525b6-48aa-468e-9920-a7c4b33c4a49"
      },
      "source": [
        "# 다항 분류 모델 학습 결과 시각화\r\n",
        "import matplotlib.pyplot as plt\r\n",
        "plt.figure(figsize=(12, 4))\r\n",
        "\r\n",
        "plt.subplot(1, 2, 1)\r\n",
        "plt.plot(history.history['loss'], 'b-', label='loss')\r\n",
        "plt.plot(history.history['val_loss'], 'r--', label='val_loss')\r\n",
        "plt.xlabel('Epoch')\r\n",
        "plt.legend()\r\n",
        "\r\n",
        "plt.subplot(1, 2, 2)\r\n",
        "plt.plot(history.history['accuracy'], 'g-',label='accuracy')\r\n",
        "plt.plot(history.history['val_accuracy'], 'k--', label='val_accuracy')\r\n",
        "plt.xlabel('Epoch')\r\n",
        "plt.legend()\r\n",
        "\r\n",
        "plt.show()"
      ],
      "execution_count": 35,
      "outputs": [
        {
          "output_type": "display_data",
          "data": {
            "image/png": "[encoded data removed]",
            "text/plain": [
              "<Figure size 864x288 with 2 Axes>"
            ]
          },
          "metadata": {
            "tags": [],
            "needs_background": "light"
          }
        }
      ]
    },
    {
      "cell_type": "code",
      "metadata": {
        "colab": {
          "base_uri": "https://localhost:8080/"
        },
        "id": "fEjhQTl8PXi5",
        "outputId": "7cfa48d0-3704-4a03-8806-c706613aa57d"
      },
      "source": [
        "# 다항 분류 모델 평가\r\n",
        "model.evaluate(test_X, test_Y)\r\n",
        "## 학습 결과를 시각화해보면 이항 분류보다 정답을 찾기 어려운 문제이기 때문에 val_loss가 중간에 뛰기도 하고 전반적으로 loss보다 크다는 것을 알 수 있다.\r\n",
        "## 학습을 계속하면 loss는 꾸준히 작아지겠지만 네트워크가 훈련 데이터에 과적합되기 때문에 val_loss는 증가하기 시작할 것이다.\r\n",
        "\r\n",
        "## 테스트 데이터(val_accuracy)로 평가하면 정확도는 검증 데이터(accuracy)의 정확도인 81.92% 보다 조금 더 낮게 나오고 있음을 알 수 있다.\r\n",
        "## 데이터의 구성이 균일하지 않기 때문에 이 이상으로 좋은 성과를 내기 위해서는 네트워크의 크기를 키워보거나 학습률을 조정해보는 등의 노력을 해야한다. "
      ],
      "execution_count": 36,
      "outputs": [
        {
          "output_type": "stream",
          "text": [
            "41/41 [==============================] - 0s 843us/step - loss: 0.3911 - accuracy: 0.8223\n"
          ],
          "name": "stdout"
        },
        {
          "output_type": "execute_result",
          "data": {
            "text/plain": [
              "[0.3911156952381134, 0.8223077058792114]"
            ]
          },
          "metadata": {
            "tags": []
          },
          "execution_count": 36
        }
      ]
    }
  ]
}