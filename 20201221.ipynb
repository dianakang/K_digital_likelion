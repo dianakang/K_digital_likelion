{
  "nbformat": 4,
  "nbformat_minor": 0,
  "metadata": {
    "colab": {
      "name": "20201221.ipynb",
      "provenance": [],
      "mount_file_id": "1mtZFVICxdy45vnnsZCa5u_mA5e_gu3g6",
      "authorship_tag": "ABX9TyN12VuNRUJQ3EHEIhQEWgFp",
      "include_colab_link": true
    },
    "kernelspec": {
      "name": "python3",
      "display_name": "Python 3"
    }
  },
  "cells": [
    {
      "cell_type": "markdown",
      "metadata": {
        "id": "view-in-github",
        "colab_type": "text"
      },
      "source": [
        "<a href=\"https://colab.research.google.com/github/dianakang/K_digital_likelion/blob/master/20201221.ipynb\" target=\"_parent\"><img src=\"https://colab.research.google.com/assets/colab-badge.svg\" alt=\"Open In Colab\"/></a>"
      ]
    },
    {
      "cell_type": "markdown",
      "metadata": {
        "id": "wuevNfn-I5rb"
      },
      "source": [
        "# 5.1 빅데이터를 위한 판다스"
      ]
    },
    {
      "cell_type": "code",
      "metadata": {
        "id": "CCXdrwQ-JKk5"
      },
      "source": [
        "# 데이터 분석을 위해 가장 먼저 할 일은 \"데이터를 불러오는 것\"\r\n",
        "# 이때, 불러오는 데이터를 '데이터 집합' 혹은 'data set'이라고 한다."
      ],
      "execution_count": 119,
      "outputs": []
    },
    {
      "cell_type": "code",
      "metadata": {
        "id": "B8aksXBbw9Ux"
      },
      "source": [
        "import pandas as pd\r\n",
        "# 우리가 이번에 필요한 데이터 집합을 불러오려면 read.csv 메서드(함수)를 사용해야 한다. 이는 기본적으로 쉼표(,)로 열이 구분되어 있다.\r\n",
        "# 하지만, 우리가 불러올 데이터는 열이 텝(tab)으로 구분되어 있기 때문에 read_csv 메서드를 호출할 때 이를 미리 알려주어야 한다. 따라서 sep 속성값으로 '\\t'를 지정한다.\r\n",
        "df = pd.read_csv('/content/drive/MyDrive/3주차/dataset/gapminder.tsv',sep='\\t')"
      ],
      "execution_count": 120,
      "outputs": []
    },
    {
      "cell_type": "code",
      "metadata": {
        "id": "AhkG0hVGKMOF"
      },
      "source": [
        "# pandas에서는 데이터를 효율적으로 다루기 위해 '시리즈(Series)'와 '데이터프레임(DataFrame)'이라는 자료형을 사용한다.\r\n",
        "# 시리즈(Series)는 열 1개를 의미하고,\r\n",
        "# 데이터프레임(DataFrame)은 시리즈들이 각 요소가 되는 딕셔너리이다."
      ],
      "execution_count": 121,
      "outputs": []
    },
    {
      "cell_type": "markdown",
      "metadata": {
        "id": "fJohGwMxK309"
      },
      "source": [
        "## 5.1.1 불러온 데이터 집합 살펴보기"
      ]
    },
    {
      "cell_type": "code",
      "metadata": {
        "id": "q1nxGIYgLQjt"
      },
      "source": [
        "# read_csv 메서드는 데이터 집합을 읽어 들여와 '데이터프레임'이라는 자료형으로 반환한다.\r\n",
        "# 그렇다면 이제 데이터프레임의 데이터를 확인하는 용도로 자주 사용하는 'head 메서드'에 대해 알아보자.\r\n",
        "# head 메서드는 데이터프레임에서 가장 앞에 있는 5개의 행을 출력한다."
      ],
      "execution_count": 122,
      "outputs": []
    },
    {
      "cell_type": "code",
      "metadata": {
        "colab": {
          "base_uri": "https://localhost:8080/"
        },
        "id": "olOmEV2k8eNJ",
        "outputId": "8566dc8c-90f6-4778-9a9e-7c976c51f313"
      },
      "source": [
        "print(df.head())\r\n",
        "# head() 괄호 안에 아무 숫자도 없으면 기본적으로 5개의 행을 출력하며, 다른 숫자를 입력시 그만큼의 행(숫자)을 출력한다.\r\n",
        "# 참고로 여기서 df는 위에서 정의했던 pd.read_csv()이다.\r\n",
        "# 추가적으로 df.head() 이렇게 괄호가 있으면 '함수 혹은 메서드'라는 것이고, df.shape 이렇게 괄호가 없으면 '속성'이라는 것이다."
      ],
      "execution_count": 123,
      "outputs": [
        {
          "output_type": "stream",
          "text": [
            "       country continent  year  lifeExp       pop   gdpPercap\n",
            "0  Afghanistan      Asia  1952   28.801   8425333  779.445314\n",
            "1  Afghanistan      Asia  1957   30.332   9240934  820.853030\n",
            "2  Afghanistan      Asia  1962   31.997  10267083  853.100710\n",
            "3  Afghanistan      Asia  1967   34.020  11537966  836.197138\n",
            "4  Afghanistan      Asia  1972   36.088  13079460  739.981106\n"
          ],
          "name": "stdout"
        }
      ]
    },
    {
      "cell_type": "code",
      "metadata": {
        "colab": {
          "base_uri": "https://localhost:8080/"
        },
        "id": "o8AQwdz18fF8",
        "outputId": "93e78bf3-b941-46e1-c252-7cba156f6e6f"
      },
      "source": [
        "# 이번에는 df에 저장된 값이 정말 데이터프레임이라는 자료형인지 확인해볼 것이다.\r\n",
        "print(type(df))\r\n",
        "# 실행해보면, 판다스의 데이터프레임이라는 것을 알 수 있다."
      ],
      "execution_count": 124,
      "outputs": [
        {
          "output_type": "stream",
          "text": [
            "<class 'pandas.core.frame.DataFrame'>\n"
          ],
          "name": "stdout"
        }
      ]
    },
    {
      "cell_type": "markdown",
      "metadata": {
        "id": "NP3SWL4oNnRl"
      },
      "source": [
        "### (1) 데이터의 크기 살펴보기"
      ]
    },
    {
      "cell_type": "code",
      "metadata": {
        "colab": {
          "base_uri": "https://localhost:8080/"
        },
        "id": "1_wBxN2s8r2m",
        "outputId": "8000457c-f2c0-4bc0-9b55-d23189900a76"
      },
      "source": [
        "# 데이터프레임은 자신이 가지고 있는 데이터의 행과 열의 크기에 대한 정보를 shape이라는 속성에 저장하고 있다.\r\n",
        "print(df.shape)\r\n",
        "# 1번째 값은 행의 크기이고, 2번째 값은 열의 크기(즉, 변수의 개수)이다."
      ],
      "execution_count": 125,
      "outputs": [
        {
          "output_type": "stream",
          "text": [
            "(1704, 6)\n"
          ],
          "name": "stdout"
        }
      ]
    },
    {
      "cell_type": "markdown",
      "metadata": {
        "id": "tTwMWdbjNv6X"
      },
      "source": [
        "### (2) 데이터의 자료형 살펴보기"
      ]
    },
    {
      "cell_type": "code",
      "metadata": {
        "colab": {
          "base_uri": "https://localhost:8080/"
        },
        "id": "Gh68m3p18sIU",
        "outputId": "43a1dcca-7ed0-4350-dfa3-a83dd738d618"
      },
      "source": [
        "# 이번에는 데이터에 어떤 정보가 들어있는지 알아볼 것이다. 먼저 columns속성을 이용해 데이터프레임의 열 이름을 확인할 수 있다.\r\n",
        "print(df.columns)\r\n",
        "# 해당 데이터를 구성하는 열 이름은 각각 country, continent, year, lifeEXP, pop, gdpPercap이다.\r\n",
        "# object == string(문자열)"
      ],
      "execution_count": 126,
      "outputs": [
        {
          "output_type": "stream",
          "text": [
            "Index(['country', 'continent', 'year', 'lifeExp', 'pop', 'gdpPercap'], dtype='object')\n"
          ],
          "name": "stdout"
        }
      ]
    },
    {
      "cell_type": "code",
      "metadata": {
        "colab": {
          "base_uri": "https://localhost:8080/"
        },
        "id": "LsJMLLxc8sU2",
        "outputId": "d485fc3e-0d77-4018-b08c-4301c682f486"
      },
      "source": [
        "print(df.dtypes)\r\n",
        "print(df.info())"
      ],
      "execution_count": 127,
      "outputs": [
        {
          "output_type": "stream",
          "text": [
            "country       object\n",
            "continent     object\n",
            "year           int64\n",
            "lifeExp      float64\n",
            "pop            int64\n",
            "gdpPercap    float64\n",
            "dtype: object\n",
            "<class 'pandas.core.frame.DataFrame'>\n",
            "RangeIndex: 1704 entries, 0 to 1703\n",
            "Data columns (total 6 columns):\n",
            " #   Column     Non-Null Count  Dtype  \n",
            "---  ------     --------------  -----  \n",
            " 0   country    1704 non-null   object \n",
            " 1   continent  1704 non-null   object \n",
            " 2   year       1704 non-null   int64  \n",
            " 3   lifeExp    1704 non-null   float64\n",
            " 4   pop        1704 non-null   int64  \n",
            " 5   gdpPercap  1704 non-null   float64\n",
            "dtypes: float64(2), int64(2), object(2)\n",
            "memory usage: 80.0+ KB\n",
            "None\n"
          ],
          "name": "stdout"
        }
      ]
    },
    {
      "cell_type": "markdown",
      "metadata": {
        "id": "xJC1zn9SOhLR"
      },
      "source": [
        "# 5.2 데이터 추출하기"
      ]
    },
    {
      "cell_type": "markdown",
      "metadata": {
        "id": "JZINpFsVOBku"
      },
      "source": [
        "## 5.2.1 열 단위 데이터 추출하기"
      ]
    },
    {
      "cell_type": "code",
      "metadata": {
        "id": "J29PGQp4OSHk"
      },
      "source": [
        "# 데이터프레임에서 데이터를 열 단위로 추출하려면 대괄호와 열 이름을 사용해야 한다.\r\n",
        "# 열 이름은 꼭 작은따옴표('')를 사용해서 지정해야 하고, 추출한 열은 변수에 저장해서 사용할 수도 있다.\r\n",
        "# 이때 1개의 열만 추출하면 '시리즈'를 얻을 수 있고, 2개 이상의 열을 추출하면 '데이터프레임'을 얻을 수 있다."
      ],
      "execution_count": 128,
      "outputs": []
    },
    {
      "cell_type": "markdown",
      "metadata": {
        "id": "FT7kiMo8O3PF"
      },
      "source": [
        "### (1)  1개의 열 추출 - 시리즈(Series)\r\n",
        "\r\n"
      ]
    },
    {
      "cell_type": "code",
      "metadata": {
        "colab": {
          "base_uri": "https://localhost:8080/"
        },
        "id": "keJjJGZw8sf3",
        "outputId": "e2a19405-4741-4b2f-8268-fa0ef4ca79eb"
      },
      "source": [
        "country_df = df['country']\r\n",
        "print(type(country_df))\r\n",
        "# 데이터의 자료형이 시리즈(Series)라는 것을 확인할 수 있다."
      ],
      "execution_count": 129,
      "outputs": [
        {
          "output_type": "stream",
          "text": [
            "<class 'pandas.core.series.Series'>\n"
          ],
          "name": "stdout"
        }
      ]
    },
    {
      "cell_type": "code",
      "metadata": {
        "colab": {
          "base_uri": "https://localhost:8080/"
        },
        "id": "vtysZjC08sx-",
        "outputId": "01647f7d-8201-4ace-dae2-bc1fb8900842"
      },
      "source": [
        "# 시리즈도 head, tail 메서드를 가지고 있기 때문에 이를 이용해 n개(10개)의 데이터를 출력할 수 있다.\r\n",
        "print(country_df.head(10))\r\n",
        "print(country_df.tail(10))"
      ],
      "execution_count": 130,
      "outputs": [
        {
          "output_type": "stream",
          "text": [
            "0    Afghanistan\n",
            "1    Afghanistan\n",
            "2    Afghanistan\n",
            "3    Afghanistan\n",
            "4    Afghanistan\n",
            "5    Afghanistan\n",
            "6    Afghanistan\n",
            "7    Afghanistan\n",
            "8    Afghanistan\n",
            "9    Afghanistan\n",
            "Name: country, dtype: object\n",
            "1694    Zimbabwe\n",
            "1695    Zimbabwe\n",
            "1696    Zimbabwe\n",
            "1697    Zimbabwe\n",
            "1698    Zimbabwe\n",
            "1699    Zimbabwe\n",
            "1700    Zimbabwe\n",
            "1701    Zimbabwe\n",
            "1702    Zimbabwe\n",
            "1703    Zimbabwe\n",
            "Name: country, dtype: object\n"
          ],
          "name": "stdout"
        }
      ]
    },
    {
      "cell_type": "code",
      "metadata": {
        "colab": {
          "base_uri": "https://localhost:8080/"
        },
        "id": "U-6mot46N3KK",
        "outputId": "8db89c88-8eb6-4dd6-851f-15441c9d2968"
      },
      "source": [
        "print(country_df.head())   # 앞 5개 데이터 추출 / 괄호()에 아무 숫자도 적지 않으면 기본적으로 5개\r\n",
        "print(country_df.tail())   # 뒤 5개 데이터 추출\r\n",
        "# object == string(문자열)"
      ],
      "execution_count": 131,
      "outputs": [
        {
          "output_type": "stream",
          "text": [
            "0    Afghanistan\n",
            "1    Afghanistan\n",
            "2    Afghanistan\n",
            "3    Afghanistan\n",
            "4    Afghanistan\n",
            "Name: country, dtype: object\n",
            "1699    Zimbabwe\n",
            "1700    Zimbabwe\n",
            "1701    Zimbabwe\n",
            "1702    Zimbabwe\n",
            "1703    Zimbabwe\n",
            "Name: country, dtype: object\n"
          ],
          "name": "stdout"
        }
      ]
    },
    {
      "cell_type": "markdown",
      "metadata": {
        "id": "-YBVhTLjO7Uc"
      },
      "source": [
        "### (2) 2개 이상의 열 추출 - 데이터프레임(DataFrame)"
      ]
    },
    {
      "cell_type": "code",
      "metadata": {
        "id": "g2tn1cvs8s-p"
      },
      "source": [
        "subset = df[['country','continent','year']]"
      ],
      "execution_count": 132,
      "outputs": []
    },
    {
      "cell_type": "code",
      "metadata": {
        "colab": {
          "base_uri": "https://localhost:8080/"
        },
        "id": "xea75qwv8fRI",
        "outputId": "bbd6c11b-7806-4cca-ae8f-b841b02679c0"
      },
      "source": [
        "print(type(subset))\r\n",
        "print()\r\n",
        "print(subset.head())\r\n",
        "print(subset.tail())"
      ],
      "execution_count": 133,
      "outputs": [
        {
          "output_type": "stream",
          "text": [
            "<class 'pandas.core.frame.DataFrame'>\n",
            "\n",
            "       country continent  year\n",
            "0  Afghanistan      Asia  1952\n",
            "1  Afghanistan      Asia  1957\n",
            "2  Afghanistan      Asia  1962\n",
            "3  Afghanistan      Asia  1967\n",
            "4  Afghanistan      Asia  1972\n",
            "       country continent  year\n",
            "1699  Zimbabwe    Africa  1987\n",
            "1700  Zimbabwe    Africa  1992\n",
            "1701  Zimbabwe    Africa  1997\n",
            "1702  Zimbabwe    Africa  2002\n",
            "1703  Zimbabwe    Africa  2007\n"
          ],
          "name": "stdout"
        }
      ]
    },
    {
      "cell_type": "markdown",
      "metadata": {
        "id": "DosdMkqbPV6Z"
      },
      "source": [
        "## 5.2.2 행 단위 데이터 추출하기"
      ]
    },
    {
      "cell_type": "code",
      "metadata": {
        "id": "11m5X1o_PkEL"
      },
      "source": [
        "# 데이터를 행 단위로 추출하려면 loc, iloc 속성을 사용해야 한다.\r\n",
        "# loc = '인덱스'를 기준으로 행 데이터 추출\r\n",
        "# iloc = '행 번호'를 기준으로 행 데이터 추출"
      ],
      "execution_count": 134,
      "outputs": []
    },
    {
      "cell_type": "markdown",
      "metadata": {
        "id": "5Z5KSqglP2O1"
      },
      "source": [
        "### (1) 인덱스와 행 번호 개념 알아보기"
      ]
    },
    {
      "cell_type": "code",
      "metadata": {
        "id": "4Pjm6LWDRfs-"
      },
      "source": [
        "subset = df[['country','continent','year','lifeExp','pop','gdpPercap']]"
      ],
      "execution_count": 135,
      "outputs": []
    },
    {
      "cell_type": "code",
      "metadata": {
        "colab": {
          "base_uri": "https://localhost:8080/"
        },
        "id": "NQWgayJdRLzi",
        "outputId": "53d77562-8a56-4164-9103-588b37453b57"
      },
      "source": [
        "print(subset.head())"
      ],
      "execution_count": 136,
      "outputs": [
        {
          "output_type": "stream",
          "text": [
            "       country continent  year  lifeExp       pop   gdpPercap\n",
            "0  Afghanistan      Asia  1952   28.801   8425333  779.445314\n",
            "1  Afghanistan      Asia  1957   30.332   9240934  820.853030\n",
            "2  Afghanistan      Asia  1962   31.997  10267083  853.100710\n",
            "3  Afghanistan      Asia  1967   34.020  11537966  836.197138\n",
            "4  Afghanistan      Asia  1972   36.088  13079460  739.981106\n"
          ],
          "name": "stdout"
        }
      ]
    },
    {
      "cell_type": "code",
      "metadata": {
        "id": "L3Too7swRoXd"
      },
      "source": [
        "# 가장 왼쪽의 번호(0,1,2,3,4)가 '인덱스'이다.\r\n",
        "# 인덱스는 보통 0부터 시작하지만 행 데이터 추가, 삭제되면 언제든지 변할 수 있으며 숫자가 아니라 문자열을 사용할 수도 있다."
      ],
      "execution_count": 137,
      "outputs": []
    },
    {
      "cell_type": "code",
      "metadata": {
        "id": "_HEvuhdtR27d"
      },
      "source": [
        "# 반면에 행 번호는 데이터의 순서를 따라가기 때문에 정수만으로 데이터를 조회하거나 추출할 수 있으며, 이는 실제 데이터프레임에서는 확인할 수 없는 값이다.\r\n",
        "# loc 속성에 대괄호를 이용하여 인덱스를 전달하면 행 데이터를 추출할 수 있다."
      ],
      "execution_count": 138,
      "outputs": []
    },
    {
      "cell_type": "markdown",
      "metadata": {
        "id": "z8PRseDlYjEc"
      },
      "source": [
        "### (2) loc 속성으로 행 데이터 추출"
      ]
    },
    {
      "cell_type": "code",
      "metadata": {
        "id": "s0e_GhQScF4i"
      },
      "source": [
        "# loc 속성은 데이터프레임의 인덱스를 사용하여 데이터를 추출"
      ],
      "execution_count": 139,
      "outputs": []
    },
    {
      "cell_type": "code",
      "metadata": {
        "colab": {
          "base_uri": "https://localhost:8080/"
        },
        "id": "-gUPVOYaQoG2",
        "outputId": "fedda702-78fe-4776-f5e7-febb215aeed6"
      },
      "source": [
        "# 그러면 이제 인덱스가 0인 행 데이터와 99인 행 데이터를 추출해보자.\r\n",
        "print(df.loc[0])\r\n",
        "print(\"---------------------------\")\r\n",
        "print(df.loc[99])"
      ],
      "execution_count": 140,
      "outputs": [
        {
          "output_type": "stream",
          "text": [
            "country      Afghanistan\n",
            "continent           Asia\n",
            "year                1952\n",
            "lifeExp           28.801\n",
            "pop              8425333\n",
            "gdpPercap        779.445\n",
            "Name: 0, dtype: object\n",
            "---------------------------\n",
            "country      Bangladesh\n",
            "continent          Asia\n",
            "year               1967\n",
            "lifeExp          43.453\n",
            "pop            62821884\n",
            "gdpPercap       721.186\n",
            "Name: 99, dtype: object\n"
          ],
          "name": "stdout"
        }
      ]
    },
    {
      "cell_type": "code",
      "metadata": {
        "colab": {
          "base_uri": "https://localhost:8080/"
        },
        "id": "ey-FiJymTMdY",
        "outputId": "b93ce17f-3989-47af-b861-7e85b10be454"
      },
      "source": [
        "print(df.loc[0])"
      ],
      "execution_count": 141,
      "outputs": [
        {
          "output_type": "stream",
          "text": [
            "country      Afghanistan\n",
            "continent           Asia\n",
            "year                1952\n",
            "lifeExp           28.801\n",
            "pop              8425333\n",
            "gdpPercap        779.445\n",
            "Name: 0, dtype: object\n"
          ],
          "name": "stdout"
        }
      ]
    },
    {
      "cell_type": "code",
      "metadata": {
        "colab": {
          "base_uri": "https://localhost:8080/"
        },
        "id": "f0Isp0WnTIdj",
        "outputId": "1a69df6f-a806-4d4a-9a13-71238285c261"
      },
      "source": [
        "print(df.loc[1])"
      ],
      "execution_count": 142,
      "outputs": [
        {
          "output_type": "stream",
          "text": [
            "country      Afghanistan\n",
            "continent           Asia\n",
            "year                1957\n",
            "lifeExp           30.332\n",
            "pop              9240934\n",
            "gdpPercap        820.853\n",
            "Name: 1, dtype: object\n"
          ],
          "name": "stdout"
        }
      ]
    },
    {
      "cell_type": "code",
      "metadata": {
        "colab": {
          "base_uri": "https://localhost:8080/"
        },
        "id": "sYmrqP7k8ft9",
        "outputId": "be8fb25d-d35e-487a-d8d3-c97eed2364d7"
      },
      "source": [
        "print(df.loc[0])\r\n",
        "print(df.loc[1])\r\n",
        "print()\r\n",
        "print(df.loc[99])\r\n",
        "print(df.loc[1703])"
      ],
      "execution_count": 143,
      "outputs": [
        {
          "output_type": "stream",
          "text": [
            "country      Afghanistan\n",
            "continent           Asia\n",
            "year                1952\n",
            "lifeExp           28.801\n",
            "pop              8425333\n",
            "gdpPercap        779.445\n",
            "Name: 0, dtype: object\n",
            "country      Afghanistan\n",
            "continent           Asia\n",
            "year                1957\n",
            "lifeExp           30.332\n",
            "pop              9240934\n",
            "gdpPercap        820.853\n",
            "Name: 1, dtype: object\n",
            "\n",
            "country      Bangladesh\n",
            "continent          Asia\n",
            "year               1967\n",
            "lifeExp          43.453\n",
            "pop            62821884\n",
            "gdpPercap       721.186\n",
            "Name: 99, dtype: object\n",
            "country      Zimbabwe\n",
            "continent      Africa\n",
            "year             2007\n",
            "lifeExp        43.487\n",
            "pop          12311143\n",
            "gdpPercap     469.709\n",
            "Name: 1703, dtype: object\n"
          ],
          "name": "stdout"
        }
      ]
    },
    {
      "cell_type": "code",
      "metadata": {
        "id": "zkytn5VlTj04"
      },
      "source": [
        "# 그렇다면 데이터프레임의 '마지막 행 데이터'를 추출하려면 어떻게 해야할까? \r\n",
        "# 그렇다. 마지막 행 데이터의 '인덱스(loc속성)'를 알아내야 한다. "
      ],
      "execution_count": 144,
      "outputs": []
    },
    {
      "cell_type": "code",
      "metadata": {
        "id": "ZunWNWmST7-I"
      },
      "source": [
        "## 첫번째 방법"
      ],
      "execution_count": 145,
      "outputs": []
    },
    {
      "cell_type": "code",
      "metadata": {
        "colab": {
          "base_uri": "https://localhost:8080/"
        },
        "id": "4UY9w0umUaT6",
        "outputId": "9f2292d7-ab4c-4f37-f4a0-0be33b0b6266"
      },
      "source": [
        "number_of_rows = df.shape[0]\r\n",
        "print(number_of_rows)"
      ],
      "execution_count": 146,
      "outputs": [
        {
          "output_type": "stream",
          "text": [
            "1704\n"
          ],
          "name": "stdout"
        }
      ]
    },
    {
      "cell_type": "code",
      "metadata": {
        "id": "36_TR1KWV3xT"
      },
      "source": [
        "# shape[0]에 행 크기(1704)가 저장되어 있다는 점을 이용하여 마지막 행의 인덱스를 구한다."
      ],
      "execution_count": 147,
      "outputs": []
    },
    {
      "cell_type": "code",
      "metadata": {
        "colab": {
          "base_uri": "https://localhost:8080/"
        },
        "id": "YeLOgMvb8gFm",
        "outputId": "2db04531-17a7-49ab-d4ac-3ab55dab8e67"
      },
      "source": [
        "number_of_rows = df.shape[0]\r\n",
        "last_row_index = number_of_rows - 1\r\n",
        "print(df.loc[last_row_index])\r\n",
        "# shape[0]에서 1을 뺀 값(1704 - 1 = 1703)으로 마지막 행 데이터를 추출한다."
      ],
      "execution_count": 148,
      "outputs": [
        {
          "output_type": "stream",
          "text": [
            "country      Zimbabwe\n",
            "continent      Africa\n",
            "year             2007\n",
            "lifeExp        43.487\n",
            "pop          12311143\n",
            "gdpPercap     469.709\n",
            "Name: 1703, dtype: object\n"
          ],
          "name": "stdout"
        }
      ]
    },
    {
      "cell_type": "code",
      "metadata": {
        "id": "Mo1M_pWeWTJ-"
      },
      "source": [
        "## 두번째 방법"
      ],
      "execution_count": 149,
      "outputs": []
    },
    {
      "cell_type": "code",
      "metadata": {
        "id": "_an0g2jVWUiA"
      },
      "source": [
        "# 데이터프레임의 마지막 행 데이터를 추출하는 또 다른 방법으로는 tail메서드를 사용하는 방법이다."
      ],
      "execution_count": 150,
      "outputs": []
    },
    {
      "cell_type": "code",
      "metadata": {
        "colab": {
          "base_uri": "https://localhost:8080/"
        },
        "id": "jB9jaPYdIX_M",
        "outputId": "f1e5080f-1799-475a-d888-17dc5a232cbc"
      },
      "source": [
        "print(df.tail(n = 1))\r\n",
        "# 다음과 같이 tail 메서드의 인자 n에 1을 전달하면 마지막 행의 데이터를 추출할 수 있다."
      ],
      "execution_count": 151,
      "outputs": [
        {
          "output_type": "stream",
          "text": [
            "       country continent  year  lifeExp       pop   gdpPercap\n",
            "1703  Zimbabwe    Africa  2007   43.487  12311143  469.709298\n"
          ],
          "name": "stdout"
        }
      ]
    },
    {
      "cell_type": "code",
      "metadata": {
        "colab": {
          "base_uri": "https://localhost:8080/"
        },
        "id": "0gI60KohLv7z",
        "outputId": "6fb2fea3-0b96-4e4d-b088-c49aa1689633"
      },
      "source": [
        "# 만약 인덱스가 0, 99, 999인 데이터를 한 번에 추출하려면 리스트에 원하는 인덱스를 담아 loc 속성에 전달하면 된다.\r\n",
        "print(df.loc[[0, 99, 999]])"
      ],
      "execution_count": 152,
      "outputs": [
        {
          "output_type": "stream",
          "text": [
            "         country continent  year  lifeExp       pop    gdpPercap\n",
            "0    Afghanistan      Asia  1952   28.801   8425333   779.445314\n",
            "99    Bangladesh      Asia  1967   43.453  62821884   721.186086\n",
            "999     Mongolia      Asia  1967   51.253   1149500  1226.041130\n"
          ],
          "name": "stdout"
        }
      ]
    },
    {
      "cell_type": "code",
      "metadata": {
        "id": "TJ90aVyFWwEf"
      },
      "source": [
        "# @@@주의@@@ tail 메서드와 loc 속성이 반환하는 자료형은 서로 다르다. "
      ],
      "execution_count": 153,
      "outputs": []
    },
    {
      "cell_type": "code",
      "metadata": {
        "colab": {
          "base_uri": "https://localhost:8080/"
        },
        "id": "lwoA1a-vLxHe",
        "outputId": "a7420680-34b6-4064-f151-a6d8b797ebb9"
      },
      "source": [
        "subject_loc = df.loc[0]\r\n",
        "subject_tail = df.tail(1)\r\n",
        "\r\n",
        "## 시리즈(Series) - 시트의 열 1개\r\n",
        "print(subject_loc.head())\r\n",
        "print(\"-\"*30)\r\n",
        "\r\n",
        "## 데이터프레임(DataFrame) - 데이터의 행, 열 여러 개\r\n",
        "print(subject_tail.head())\r\n",
        "print(\"-\"*30)\r\n",
        "\r\n",
        "## 데이터의 자료형을 type 메서드로 확인\r\n",
        "print(type(subject_loc))       # Series\r\n",
        "print(type(subject_tail))      # DataFrame\r\n",
        "\r\n",
        "# loc 속성이 반환한 데이터 자료형은 시리즈이고, tail 메서드가 반환한 데이터 자료형은 데이터프레임이다."
      ],
      "execution_count": 154,
      "outputs": [
        {
          "output_type": "stream",
          "text": [
            "country      Afghanistan\n",
            "continent           Asia\n",
            "year                1952\n",
            "lifeExp           28.801\n",
            "pop              8425333\n",
            "Name: 0, dtype: object\n",
            "------------------------------\n",
            "       country continent  year  lifeExp       pop   gdpPercap\n",
            "1703  Zimbabwe    Africa  2007   43.487  12311143  469.709298\n",
            "------------------------------\n",
            "<class 'pandas.core.series.Series'>\n",
            "<class 'pandas.core.frame.DataFrame'>\n"
          ],
          "name": "stdout"
        }
      ]
    },
    {
      "cell_type": "markdown",
      "metadata": {
        "id": "8zmodUamY469"
      },
      "source": [
        "### (3) iloc 속성으로 행 데이터 추출"
      ]
    },
    {
      "cell_type": "code",
      "metadata": {
        "id": "pTK6wL3icPAb"
      },
      "source": [
        "# iloc 속성은 데이터 순서를 의미하는 행 번호를 사용하여 데이터를 추출"
      ],
      "execution_count": 155,
      "outputs": []
    },
    {
      "cell_type": "code",
      "metadata": {
        "colab": {
          "base_uri": "https://localhost:8080/"
        },
        "id": "W5nF9hA4Lxcj",
        "outputId": "4b63d5b8-6034-4bf5-b7fc-afa93973b825"
      },
      "source": [
        "print(df.iloc[1])\r\n",
        "print(\"-\"*30)\r\n",
        "print(df.iloc[99])"
      ],
      "execution_count": 156,
      "outputs": [
        {
          "output_type": "stream",
          "text": [
            "country      Afghanistan\n",
            "continent           Asia\n",
            "year                1957\n",
            "lifeExp           30.332\n",
            "pop              9240934\n",
            "gdpPercap        820.853\n",
            "Name: 1, dtype: object\n",
            "------------------------------\n",
            "country      Bangladesh\n",
            "continent          Asia\n",
            "year               1967\n",
            "lifeExp          43.453\n",
            "pop            62821884\n",
            "gdpPercap       721.186\n",
            "Name: 99, dtype: object\n"
          ],
          "name": "stdout"
        }
      ]
    },
    {
      "cell_type": "code",
      "metadata": {
        "id": "03Ac4PEnchNj"
      },
      "source": [
        "# iloc 속성은 음수를 사용해도 데이터를 추출할 수 있다!\r\n",
        "# cf) loc 속성의 경우, tail함수를 써서 마지막 행 데이터를 추출했음"
      ],
      "execution_count": 157,
      "outputs": []
    },
    {
      "cell_type": "code",
      "metadata": {
        "colab": {
          "base_uri": "https://localhost:8080/"
        },
        "id": "HOhozY3bLxnJ",
        "outputId": "52a5489e-564f-4457-b3f1-2c387534137b"
      },
      "source": [
        "# 마지막 행 데이터 추출\r\n",
        "print(df.iloc[-1])"
      ],
      "execution_count": 158,
      "outputs": [
        {
          "output_type": "stream",
          "text": [
            "country      Zimbabwe\n",
            "continent      Africa\n",
            "year             2007\n",
            "lifeExp        43.487\n",
            "pop          12311143\n",
            "gdpPercap     469.709\n",
            "Name: 1703, dtype: object\n"
          ],
          "name": "stdout"
        }
      ]
    },
    {
      "cell_type": "code",
      "metadata": {
        "colab": {
          "base_uri": "https://localhost:8080/"
        },
        "id": "8uaMY-1YczKH",
        "outputId": "66370b61-1e43-42be-bf6a-3474579e82b8"
      },
      "source": [
        "# iloc 속성도 여러 데이터를 한 번에 추출할 수 있다.\r\n",
        "# loc 속성을 사용했던 것처럼 원하는 데이터의 행 번호를 리스트에 담아 전달하면 된다.\r\n",
        "print(df.iloc[[0,99,999]])"
      ],
      "execution_count": 159,
      "outputs": [
        {
          "output_type": "stream",
          "text": [
            "         country continent  year  lifeExp       pop    gdpPercap\n",
            "0    Afghanistan      Asia  1952   28.801   8425333   779.445314\n",
            "99    Bangladesh      Asia  1967   43.453  62821884   721.186086\n",
            "999     Mongolia      Asia  1967   51.253   1149500  1226.041130\n"
          ],
          "name": "stdout"
        }
      ]
    },
    {
      "cell_type": "markdown",
      "metadata": {
        "id": "nWF7xCrAdcNy"
      },
      "source": [
        "## 5.2.3 행과 열 지정하기"
      ]
    },
    {
      "cell_type": "code",
      "metadata": {
        "id": "4lqIaMnEm8x5"
      },
      "source": [
        "# loc, iloc 속성을 좀 더 자유자재로 사용하기 위해서는 추출할 데이터의 행과 열을 지정하는 방법을 알아야 한다.\r\n",
        "# 두 속성 모두 추출할 데이터의 행을 먼저 지정하고 그런 다음 열을 지정하는 방법으로 데이터를 추출한다.\r\n",
        "# 즉, df.loc[[행],[열]] 이나 df.iloc[[행],[열]]과 같은 방법으로 코드를 작성한다.\r\n",
        "# 이때 행과 열을 지정하는 방법은 '슬라이싱 구문을 사용하는 방법'과 'range 메서드를 사용하는 방법'이 있다."
      ],
      "execution_count": 160,
      "outputs": []
    },
    {
      "cell_type": "markdown",
      "metadata": {
        "id": "aVVOTW-4hji7"
      },
      "source": [
        "### (1) 슬라이싱 구문으로 데이터 추출하기"
      ]
    },
    {
      "cell_type": "code",
      "metadata": {
        "colab": {
          "base_uri": "https://localhost:8080/"
        },
        "id": "WcNnM7cHLxw3",
        "outputId": "5b2bfdb3-3ffd-41bb-bd6d-334c6b014ab2"
      },
      "source": [
        "# 모든 행(:)의 데이터에 대해 year,pop 열을 추출하는 방법이다.\r\n",
        "subset = df.loc[:, ['year','pop']]   # : == 행 / 'year','pop' == 열 \r\n",
        "print(subset.head())"
      ],
      "execution_count": 161,
      "outputs": [
        {
          "output_type": "stream",
          "text": [
            "   year       pop\n",
            "0  1952   8425333\n",
            "1  1957   9240934\n",
            "2  1962  10267083\n",
            "3  1967  11537966\n",
            "4  1972  13079460\n"
          ],
          "name": "stdout"
        }
      ]
    },
    {
      "cell_type": "code",
      "metadata": {
        "colab": {
          "base_uri": "https://localhost:8080/"
        },
        "id": "AVhpKqf2Lx2T",
        "outputId": "765cd286-ec28-49c3-af16-e036c3af3863"
      },
      "source": [
        "subset = df.iloc[:, [2,4,-1]]  # 열의 경우[2,4,-1] == 두번째, 네번째, 가장 마지막 데이터를 추출하라는 뜻이다. \r\n",
        "print(subset.head())"
      ],
      "execution_count": 162,
      "outputs": [
        {
          "output_type": "stream",
          "text": [
            "   year       pop   gdpPercap\n",
            "0  1952   8425333  779.445314\n",
            "1  1957   9240934  820.853030\n",
            "2  1962  10267083  853.100710\n",
            "3  1967  11537966  836.197138\n",
            "4  1972  13079460  739.981106\n"
          ],
          "name": "stdout"
        }
      ]
    },
    {
      "cell_type": "markdown",
      "metadata": {
        "id": "sswP19H-Lx-V"
      },
      "source": [
        "### (2) range 메서드로 데이터 추출하기"
      ]
    },
    {
      "cell_type": "code",
      "metadata": {
        "id": "BLYCFBjBovdy"
      },
      "source": [
        "# 이번에는 iloc 속성과 파이썬 내장 메서드인 range를 응용하는 방법이다.\r\n",
        "# range 메서드는 지정한 구간의 정수 리스트를 반환해준다.\r\n",
        "# iloc 속성의 열 지정값에 정수 리스트를 전달해야 한다는 점과 range 메서드의 반환값이 정수 리스트인 점을 이용하여 원하는 데이터를 추출한다.\r\n",
        "# range 메서드는 루프의 반복 동작을 제어할 수 있는 제너레이터를 반환 "
      ],
      "execution_count": 163,
      "outputs": []
    },
    {
      "cell_type": "code",
      "metadata": {
        "colab": {
          "base_uri": "https://localhost:8080/"
        },
        "id": "IY8zHUHdLyIt",
        "outputId": "be21a3de-8caa-4eb1-d922-89c028d18881"
      },
      "source": [
        "small_range = list(range(5))\r\n",
        "print(small_range)\r\n",
        "print(type(small_range))    # 리스트 형태"
      ],
      "execution_count": 164,
      "outputs": [
        {
          "output_type": "stream",
          "text": [
            "[0, 1, 2, 3, 4]\n",
            "<class 'list'>\n"
          ],
          "name": "stdout"
        }
      ]
    },
    {
      "cell_type": "code",
      "metadata": {
        "colab": {
          "base_uri": "https://localhost:8080/"
        },
        "id": "D53T-yncLyPk",
        "outputId": "bfc21aec-fa2a-410a-9ff2-f356c48cedf4"
      },
      "source": [
        "subset = df.iloc[:, small_range]   # 여기서 small_range는 0,1,2,3,4 -> 즉 0번째 열, 1번째 열, 2번째 열, 3번째 열, 4번째 열 \r\n",
        "print(subset.head())"
      ],
      "execution_count": 165,
      "outputs": [
        {
          "output_type": "stream",
          "text": [
            "       country continent  year  lifeExp       pop\n",
            "0  Afghanistan      Asia  1952   28.801   8425333\n",
            "1  Afghanistan      Asia  1957   30.332   9240934\n",
            "2  Afghanistan      Asia  1962   31.997  10267083\n",
            "3  Afghanistan      Asia  1967   34.020  11537966\n",
            "4  Afghanistan      Asia  1972   36.088  13079460\n"
          ],
          "name": "stdout"
        }
      ]
    },
    {
      "cell_type": "code",
      "metadata": {
        "colab": {
          "base_uri": "https://localhost:8080/"
        },
        "id": "5oKeuL3oLyV0",
        "outputId": "433da754-1d30-413d-f73a-075c5edd11ea"
      },
      "source": [
        "small_range = list(range(3,6))\r\n",
        "print(small_range)"
      ],
      "execution_count": 166,
      "outputs": [
        {
          "output_type": "stream",
          "text": [
            "[3, 4, 5]\n"
          ],
          "name": "stdout"
        }
      ]
    },
    {
      "cell_type": "code",
      "metadata": {
        "colab": {
          "base_uri": "https://localhost:8080/"
        },
        "id": "jlyNCCH1iAHr",
        "outputId": "bebe9a4e-9594-4cf9-8e77-53868601e093"
      },
      "source": [
        "subset = df.iloc[:, small_range]    # 여기서 small_range는 3번째 열, 4번째 열, 5번째 열 \r\n",
        "print(subset.head())"
      ],
      "execution_count": 167,
      "outputs": [
        {
          "output_type": "stream",
          "text": [
            "   lifeExp       pop   gdpPercap\n",
            "0   28.801   8425333  779.445314\n",
            "1   30.332   9240934  820.853030\n",
            "2   31.997  10267083  853.100710\n",
            "3   34.020  11537966  836.197138\n",
            "4   36.088  13079460  739.981106\n"
          ],
          "name": "stdout"
        }
      ]
    },
    {
      "cell_type": "code",
      "metadata": {
        "id": "wQ6e82rowK_Q"
      },
      "source": [
        "## 슬라이싱 구문과 range 메서드 비교하기"
      ],
      "execution_count": 168,
      "outputs": []
    },
    {
      "cell_type": "code",
      "metadata": {
        "colab": {
          "base_uri": "https://localhost:8080/"
        },
        "id": "7xezUYXyiGLL",
        "outputId": "58e9ccf9-2dea-4044-e86d-22501677cbaf"
      },
      "source": [
        "# 슬라이싱 구문\r\n",
        "small_range = list(range(0,6,2))   # 범위가 0~5까지 2만큼 건너뛰는 제네레이터 생성\r\n",
        "subset = df.iloc[:,small_range]\r\n",
        "print(subset.head())"
      ],
      "execution_count": 169,
      "outputs": [
        {
          "output_type": "stream",
          "text": [
            "       country  year       pop\n",
            "0  Afghanistan  1952   8425333\n",
            "1  Afghanistan  1957   9240934\n",
            "2  Afghanistan  1962  10267083\n",
            "3  Afghanistan  1967  11537966\n",
            "4  Afghanistan  1972  13079460\n"
          ],
          "name": "stdout"
        }
      ]
    },
    {
      "cell_type": "code",
      "metadata": {
        "colab": {
          "base_uri": "https://localhost:8080/"
        },
        "id": "_NCAslQ7iQPw",
        "outputId": "b239c368-47e4-4624-e89b-4333d1fec47f"
      },
      "source": [
        "# range 메서드\r\n",
        "subset = df.iloc[:, 0:6:2]\r\n",
        "print(subset.head())"
      ],
      "execution_count": 170,
      "outputs": [
        {
          "output_type": "stream",
          "text": [
            "       country  year       pop\n",
            "0  Afghanistan  1952   8425333\n",
            "1  Afghanistan  1957   9240934\n",
            "2  Afghanistan  1962  10267083\n",
            "3  Afghanistan  1967  11537966\n",
            "4  Afghanistan  1972  13079460\n"
          ],
          "name": "stdout"
        }
      ]
    },
    {
      "cell_type": "code",
      "metadata": {
        "id": "BVoegzOixAnj"
      },
      "source": [
        "# 동일한 결과값을 얻고 있음을 알 수 있다."
      ],
      "execution_count": 171,
      "outputs": []
    },
    {
      "cell_type": "code",
      "metadata": {
        "id": "6sxZ7FSnxG__"
      },
      "source": [
        "# -----------------------------------------------"
      ],
      "execution_count": 172,
      "outputs": []
    },
    {
      "cell_type": "code",
      "metadata": {
        "id": "8O4khChGxJ93"
      },
      "source": [
        "## loc, iloc 속성 자유롭게 사용하기"
      ],
      "execution_count": 173,
      "outputs": []
    },
    {
      "cell_type": "code",
      "metadata": {
        "colab": {
          "base_uri": "https://localhost:8080/"
        },
        "id": "OiNJUYgsn5Wi",
        "outputId": "5611bb3b-83ea-4867-d6de-9a3779284dc1"
      },
      "source": [
        "# iloc 속성으로 0,99,999 번째 행의 0,3,5번째 열 데이터를 추출\r\n",
        "print(df.iloc[[0,99,999], [0,3,5]])\r\n",
        "# 근데 이렇게 열 지정값을 정수 리스트로 전달하면, 나중에 코드를 볼 때 어떤 데이터인지 파악하기 힘듦"
      ],
      "execution_count": 174,
      "outputs": [
        {
          "output_type": "stream",
          "text": [
            "         country  lifeExp    gdpPercap\n",
            "0    Afghanistan   28.801   779.445314\n",
            "99    Bangladesh   43.453   721.186086\n",
            "999     Mongolia   51.253  1226.041130\n"
          ],
          "name": "stdout"
        }
      ]
    },
    {
      "cell_type": "code",
      "metadata": {
        "colab": {
          "base_uri": "https://localhost:8080/"
        },
        "id": "DPAxBvq_oA7z",
        "outputId": "193ed1e6-7253-4879-d17f-1d6b062f5728"
      },
      "source": [
        "# 그래서 이렇게 열 이름을 전달해주는게 좋음\r\n",
        "print(df.loc[[0,99,999], ['country','lifeExp','gdpPercap']])"
      ],
      "execution_count": 175,
      "outputs": [
        {
          "output_type": "stream",
          "text": [
            "         country  lifeExp    gdpPercap\n",
            "0    Afghanistan   28.801   779.445314\n",
            "99    Bangladesh   43.453   721.186086\n",
            "999     Mongolia   51.253  1226.041130\n"
          ],
          "name": "stdout"
        }
      ]
    },
    {
      "cell_type": "code",
      "metadata": {
        "id": "SEZEid2myyy4"
      },
      "source": [
        "# 그러니 큰 규모의 데이터 분석 프로젝트에서는 loc속성이 좀 더 유용하게 사용됨\r\n",
        "# loc속성은 인덱스, 즉 무조건 정수(숫자)의 값일 필요가 없으므로... (문자열도 가능하다는 말) "
      ],
      "execution_count": 176,
      "outputs": []
    },
    {
      "cell_type": "code",
      "metadata": {
        "colab": {
          "base_uri": "https://localhost:8080/"
        },
        "id": "zEo6IrnKoNEx",
        "outputId": "588cf97a-aa6c-4741-ca90-4de4bdffde1d"
      },
      "source": [
        "# 인덱스가 10인 행 부터 13인 행의 country, lifeExp, gdpPercap 열 데이터를 추출\r\n",
        "print(df.loc[10:13, ['country','lifeExp','gdpPercap']])"
      ],
      "execution_count": 177,
      "outputs": [
        {
          "output_type": "stream",
          "text": [
            "        country  lifeExp    gdpPercap\n",
            "10  Afghanistan   42.129   726.734055\n",
            "11  Afghanistan   43.828   974.580338\n",
            "12      Albania   55.230  1601.056136\n",
            "13      Albania   59.280  1942.284244\n"
          ],
          "name": "stdout"
        }
      ]
    },
    {
      "cell_type": "markdown",
      "metadata": {
        "id": "nhAu2SR2z-Y8"
      },
      "source": [
        "# 5.3 인공지능의 기초를 뒷받침하는 통계"
      ]
    },
    {
      "cell_type": "markdown",
      "metadata": {
        "id": "vD2PEm9h1j9d"
      },
      "source": [
        "## 5.3.1 그룹화한 데이터의 평균 구하기"
      ]
    },
    {
      "cell_type": "code",
      "metadata": {
        "colab": {
          "base_uri": "https://localhost:8080/"
        },
        "id": "XXbzlnk5oVOl",
        "outputId": "a56191aa-566c-4177-e239-030bf4dda1ce"
      },
      "source": [
        "# lifeExp 열을 연도별로 그룹화하여 평균 계산하기\r\n",
        "print(df.groupby('year')['lifeExp'].mean())"
      ],
      "execution_count": 178,
      "outputs": [
        {
          "output_type": "stream",
          "text": [
            "year\n",
            "1952    49.057620\n",
            "1957    51.507401\n",
            "1962    53.609249\n",
            "1967    55.678290\n",
            "1972    57.647386\n",
            "1977    59.570157\n",
            "1982    61.533197\n",
            "1987    63.212613\n",
            "1992    64.160338\n",
            "1997    65.014676\n",
            "2002    65.694923\n",
            "2007    67.007423\n",
            "Name: lifeExp, dtype: float64\n"
          ],
          "name": "stdout"
        }
      ]
    },
    {
      "cell_type": "code",
      "metadata": {
        "colab": {
          "base_uri": "https://localhost:8080/"
        },
        "id": "hvkUjYaXod2y",
        "outputId": "ebb99724-3ed3-4223-e0d5-c9928649350e"
      },
      "source": [
        "groupby_year_df = df.groupby('year')\r\n",
        "print(type(groupby_year_df))"
      ],
      "execution_count": 179,
      "outputs": [
        {
          "output_type": "stream",
          "text": [
            "pandas.core.groupby.generic.DataFrameGroupBy\n"
          ],
          "name": "stdout"
        }
      ]
    },
    {
      "cell_type": "code",
      "metadata": {
        "colab": {
          "base_uri": "https://localhost:8080/"
        },
        "id": "vWxVZPwoolx0",
        "outputId": "b723b3b1-8998-4031-bc9f-a4e32fedd401"
      },
      "source": [
        "# 데이터프레임이 저장된 메모리의 위치 파악\r\n",
        "print(groupby_year_df)"
      ],
      "execution_count": 180,
      "outputs": [
        {
          "output_type": "stream",
          "text": [
            "<pandas.core.groupby.generic.DataFrameGroupBy object at 0x7f46233bce48>\n"
          ],
          "name": "stdout"
        }
      ]
    },
    {
      "cell_type": "code",
      "metadata": {
        "colab": {
          "base_uri": "https://localhost:8080/"
        },
        "id": "hTdET77KoobY",
        "outputId": "f7c61336-3991-4ec4-874f-e6702421bfe3"
      },
      "source": [
        "# 연도별로 그룹화한 lifeExp열 얻기\r\n",
        "groupby_year_df_lifeExp = groupby_year_df['lifeExp']\r\n",
        "print(type(groupby_year_df_lifeExp))"
      ],
      "execution_count": 181,
      "outputs": [
        {
          "output_type": "stream",
          "text": [
            "pandas.core.groupby.generic.SeriesGroupBy\n"
          ],
          "name": "stdout"
        }
      ]
    },
    {
      "cell_type": "code",
      "metadata": {
        "colab": {
          "base_uri": "https://localhost:8080/"
        },
        "id": "uaJVJvcGozbR",
        "outputId": "16e90cd6-f6cf-44b6-d840-885ec0fa7a7d"
      },
      "source": [
        "# 각 연도별 lifeExp 열의 평균값 얻기\r\n",
        "mean_lifeExp_by_year = groupby_year_df_lifeExp.mean()\r\n",
        "print(mean_lifeExp_by_year)"
      ],
      "execution_count": 182,
      "outputs": [
        {
          "output_type": "stream",
          "text": [
            "year\n",
            "1952    49.057620\n",
            "1957    51.507401\n",
            "1962    53.609249\n",
            "1967    55.678290\n",
            "1972    57.647386\n",
            "1977    59.570157\n",
            "1982    61.533197\n",
            "1987    63.212613\n",
            "1992    64.160338\n",
            "1997    65.014676\n",
            "2002    65.694923\n",
            "2007    67.007423\n",
            "Name: lifeExp, dtype: float64\n"
          ],
          "name": "stdout"
        }
      ]
    },
    {
      "cell_type": "code",
      "metadata": {
        "colab": {
          "base_uri": "https://localhost:8080/"
        },
        "id": "fXKlly09o-tf",
        "outputId": "f5a2fec6-a089-4226-ae3d-1f6bbb674dbc"
      },
      "source": [
        "# year, continent 열로 그룹화한 그룹 데이터프레임에서 likeExp, gdpPercap 열만 추출하여 평균값 구하기\r\n",
        "multi_group_var = df.groupby(['year','continent'])[['lifeExp', 'gdpPercap']].mean()\r\n",
        "print(multi_group_var)"
      ],
      "execution_count": 183,
      "outputs": [
        {
          "output_type": "stream",
          "text": [
            "                  lifeExp     gdpPercap\n",
            "year continent                         \n",
            "1952 Africa     39.135500   1252.572466\n",
            "     Americas   53.279840   4079.062552\n",
            "     Asia       46.314394   5195.484004\n",
            "     Europe     64.408500   5661.057435\n",
            "     Oceania    69.255000  10298.085650\n",
            "1957 Africa     41.266346   1385.236062\n",
            "     Americas   55.960280   4616.043733\n",
            "     Asia       49.318544   5787.732940\n",
            "     Europe     66.703067   6963.012816\n",
            "     Oceania    70.295000  11598.522455\n",
            "1962 Africa     43.319442   1598.078825\n",
            "     Americas   58.398760   4901.541870\n",
            "     Asia       51.563223   5729.369625\n",
            "     Europe     68.539233   8365.486814\n",
            "     Oceania    71.085000  12696.452430\n",
            "1967 Africa     45.334538   2050.363801\n",
            "     Americas   60.410920   5668.253496\n",
            "     Asia       54.663640   5971.173374\n",
            "     Europe     69.737600  10143.823757\n",
            "     Oceania    71.310000  14495.021790\n",
            "1972 Africa     47.450942   2339.615674\n",
            "     Americas   62.394920   6491.334139\n",
            "     Asia       57.319269   8187.468699\n",
            "     Europe     70.775033  12479.575246\n",
            "     Oceania    71.910000  16417.333380\n",
            "1977 Africa     49.580423   2585.938508\n",
            "     Americas   64.391560   7352.007126\n",
            "     Asia       59.610556   7791.314020\n",
            "     Europe     71.937767  14283.979110\n",
            "     Oceania    72.855000  17283.957605\n",
            "1982 Africa     51.592865   2481.592960\n",
            "     Americas   66.228840   7506.737088\n",
            "     Asia       62.617939   7434.135157\n",
            "     Europe     72.806400  15617.896551\n",
            "     Oceania    74.290000  18554.709840\n",
            "1987 Africa     53.344788   2282.668991\n",
            "     Americas   68.090720   7793.400261\n",
            "     Asia       64.851182   7608.226508\n",
            "     Europe     73.642167  17214.310727\n",
            "     Oceania    75.320000  20448.040160\n",
            "1992 Africa     53.629577   2281.810333\n",
            "     Americas   69.568360   8044.934406\n",
            "     Asia       66.537212   8639.690248\n",
            "     Europe     74.440100  17061.568084\n",
            "     Oceania    76.945000  20894.045885\n",
            "1997 Africa     53.598269   2378.759555\n",
            "     Americas   71.150480   8889.300863\n",
            "     Asia       68.020515   9834.093295\n",
            "     Europe     75.505167  19076.781802\n",
            "     Oceania    78.190000  24024.175170\n",
            "2002 Africa     53.325231   2599.385159\n",
            "     Americas   72.422040   9287.677107\n",
            "     Asia       69.233879  10174.090397\n",
            "     Europe     76.700600  21711.732422\n",
            "     Oceania    79.740000  26938.778040\n",
            "2007 Africa     54.806038   3089.032605\n",
            "     Americas   73.608120  11003.031625\n",
            "     Asia       70.728485  12473.026870\n",
            "     Europe     77.648600  25054.481636\n",
            "     Oceania    80.719500  29810.188275\n"
          ],
          "name": "stdout"
        }
      ]
    },
    {
      "cell_type": "markdown",
      "metadata": {
        "id": "SOG2S8533dZb"
      },
      "source": [
        "## 5.3.2 그룹화한 데이터 개수 세기"
      ]
    },
    {
      "cell_type": "code",
      "metadata": {
        "id": "3RDPI8Ge3oRC"
      },
      "source": [
        "# 데이터의 빈도수를 구할 때는 nunique 메서드를 사용한다."
      ],
      "execution_count": 184,
      "outputs": []
    },
    {
      "cell_type": "code",
      "metadata": {
        "colab": {
          "base_uri": "https://localhost:8080/"
        },
        "id": "90hxoRWruinw",
        "outputId": "4f9f38a4-ccbb-4c36-e840-07896cf7c05b"
      },
      "source": [
        "# continent를 기준으로 데이터프레임을 만들고 country 열만 추출하여 데이터의 빈도수를 계산\r\n",
        "print(df.groupby('continent')['country'].nunique())"
      ],
      "execution_count": 185,
      "outputs": [
        {
          "output_type": "stream",
          "text": [
            "continent\n",
            "Africa      52\n",
            "Americas    25\n",
            "Asia        33\n",
            "Europe      30\n",
            "Oceania      2\n",
            "Name: country, dtype: int64\n"
          ],
          "name": "stdout"
        }
      ]
    },
    {
      "cell_type": "markdown",
      "metadata": {
        "id": "MHmsUmSt4KG-"
      },
      "source": [
        "# 5.4 시각화, 빅데이터를 이해하는 방법"
      ]
    },
    {
      "cell_type": "code",
      "metadata": {
        "colab": {
          "base_uri": "https://localhost:8080/"
        },
        "id": "ebjOp5eZwz2F",
        "outputId": "717fab87-5324-43c2-b3dd-9ba1b035a414"
      },
      "source": [
        "import matplotlib.pyplot as plt\r\n",
        "\r\n",
        "global_yearly_life_expectancy = df.groupby('year')['lifeExp'].mean()   # 연도를 그룹화하고 lifeExp의 열을 추출하여 평균을 구해라.\r\n",
        "print(global_yearly_life_expectancy)"
      ],
      "execution_count": 186,
      "outputs": [
        {
          "output_type": "stream",
          "text": [
            "year\n",
            "1952    49.057620\n",
            "1957    51.507401\n",
            "1962    53.609249\n",
            "1967    55.678290\n",
            "1972    57.647386\n",
            "1977    59.570157\n",
            "1982    61.533197\n",
            "1987    63.212613\n",
            "1992    64.160338\n",
            "1997    65.014676\n",
            "2002    65.694923\n",
            "2007    67.007423\n",
            "Name: lifeExp, dtype: float64\n"
          ],
          "name": "stdout"
        }
      ]
    },
    {
      "cell_type": "code",
      "metadata": {
        "colab": {
          "base_uri": "https://localhost:8080/",
          "height": 279
        },
        "id": "P3-ZE51DzCLv",
        "outputId": "7dcbe5da-cf1c-4a95-9ad3-7bec044b8fdc"
      },
      "source": [
        "# 행(가로축)이 year이고, 열(세로축)이 lifeExp인 그래프를 그려라.\r\n",
        "global_yearly_life_expectancy.plot()\r\n",
        "plt.show()"
      ],
      "execution_count": 187,
      "outputs": [
        {
          "output_type": "display_data",
          "data": {
            "image/png": "[encoded data removed]",
            "text/plain": [
              "<Figure size 432x288 with 1 Axes>"
            ]
          },
          "metadata": {
            "tags": [],
            "needs_background": "light"
          }
        }
      ]
    }
  ]
}