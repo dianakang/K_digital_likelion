{
  "nbformat": 4,
  "nbformat_minor": 0,
  "metadata": {
    "colab": {
      "name": "20201222_(1).ipynb",
      "provenance": [],
      "mount_file_id": "1ZuNx4Lnz3ng0g2Jp1K-BryjL9XLwh8r8",
      "authorship_tag": "ABX9TyNjPvzmkAqDFbIVcqsNqUGI",
      "include_colab_link": true
    },
    "kernelspec": {
      "name": "python3",
      "display_name": "Python 3"
    }
  },
  "cells": [
    {
      "cell_type": "markdown",
      "metadata": {
        "id": "view-in-github",
        "colab_type": "text"
      },
      "source": [
        "<a href=\"https://colab.research.google.com/github/dianakang/K_digital_likelion/blob/master/20201222_(1).ipynb\" target=\"_parent\"><img src=\"https://colab.research.google.com/assets/colab-badge.svg\" alt=\"Open In Colab\"/></a>"
      ]
    },
    {
      "cell_type": "markdown",
      "metadata": {
        "id": "rtNu4ZOz5eXC"
      },
      "source": [
        "# 6.1 판다스 데이터프레임과 시리즈"
      ]
    },
    {
      "cell_type": "markdown",
      "metadata": {
        "id": "smHjQUhs5YHe"
      },
      "source": [
        "## 6.1.1 시리즈 만들기"
      ]
    },
    {
      "cell_type": "code",
      "metadata": {
        "colab": {
          "base_uri": "https://localhost:8080/"
        },
        "id": "FeXVh6lj5cZF",
        "outputId": "f868a6b2-d346-4230-c3bc-a2de9cbfbfb5"
      },
      "source": [
        "# 판다스의 Series 메서드에 리스트를 전달하여 시리즈를 생성한다.\r\n",
        "import pandas as pd\r\n",
        "s = pd.Series(['banana', 42])\r\n",
        "print(s)"
      ],
      "execution_count": 66,
      "outputs": [
        {
          "output_type": "stream",
          "text": [
            "0    banana\n",
            "1        42\n",
            "dtype: object\n"
          ],
          "name": "stdout"
        }
      ]
    },
    {
      "cell_type": "code",
      "metadata": {
        "colab": {
          "base_uri": "https://localhost:8080/"
        },
        "id": "YCLUDYdX5cjj",
        "outputId": "e1fe29aa-8f07-44a4-a4c5-0b73f2e9ecee"
      },
      "source": [
        "# 시리즈를 생성할 때 문자열을 인덱스로 지정할 수도 있다.\r\n",
        "# Series 메서드의 index 인자를 통해 인덱스로 사용하고자 하는 문자열을 리스트에 담아 전달한다.\r\n",
        "s = pd.Series(['Wes Mckinney', 'creator of Pandas'])\r\n",
        "print(s)"
      ],
      "execution_count": 67,
      "outputs": [
        {
          "output_type": "stream",
          "text": [
            "0         Wes Mckinney\n",
            "1    creator of Pandas\n",
            "dtype: object\n"
          ],
          "name": "stdout"
        }
      ]
    },
    {
      "cell_type": "code",
      "metadata": {
        "colab": {
          "base_uri": "https://localhost:8080/"
        },
        "id": "YGEc9hR85crt",
        "outputId": "971b4d16-94f6-41a7-98ca-53cf17a745a7"
      },
      "source": [
        "s = pd.Series(['Wes Mckinney', 'creator of Pandas'], index = ['Person','who'])\r\n",
        "print(s)"
      ],
      "execution_count": 68,
      "outputs": [
        {
          "output_type": "stream",
          "text": [
            "Person         Wes Mckinney\n",
            "who       creator of Pandas\n",
            "dtype: object\n"
          ],
          "name": "stdout"
        }
      ]
    },
    {
      "cell_type": "code",
      "metadata": {
        "colab": {
          "base_uri": "https://localhost:8080/"
        },
        "id": "vM4A9cvV5cyI",
        "outputId": "b61b4b5f-7026-4880-c710-4d3f30078937"
      },
      "source": [
        "a = pd.Series(['Diana Kang', 'CEO'])\r\n",
        "print(a)"
      ],
      "execution_count": 69,
      "outputs": [
        {
          "output_type": "stream",
          "text": [
            "0    Diana Kang\n",
            "1           CEO\n",
            "dtype: object\n"
          ],
          "name": "stdout"
        }
      ]
    },
    {
      "cell_type": "code",
      "metadata": {
        "colab": {
          "base_uri": "https://localhost:8080/"
        },
        "id": "jtawkpgY5c4i",
        "outputId": "e6f766cc-7d5f-4d6c-e4ff-a3ff402e52ac"
      },
      "source": [
        "a = pd.Series(['Diana Kang', 'CEO'], index = ['Person', 'who'])\r\n",
        "print(a)"
      ],
      "execution_count": 70,
      "outputs": [
        {
          "output_type": "stream",
          "text": [
            "Person    Diana Kang\n",
            "who              CEO\n",
            "dtype: object\n"
          ],
          "name": "stdout"
        }
      ]
    },
    {
      "cell_type": "markdown",
      "metadata": {
        "id": "kinmq6MG66YS"
      },
      "source": [
        "## 6.1.2 데이터프레임 만들기"
      ]
    },
    {
      "cell_type": "code",
      "metadata": {
        "colab": {
          "base_uri": "https://localhost:8080/"
        },
        "id": "EJzZG7Pp5c-7",
        "outputId": "b9c93e49-b138-48bb-f940-a596830d144d"
      },
      "source": [
        "# 데이터프레임을 만들기 위해서는 딕셔너리 DataFrame 클래스에 전달해야한다.\r\n",
        "# 딕셔너리는 {key:value} 값을 갖는다.\r\n",
        "scientists = pd.DataFrame({\r\n",
        "    'Name' : ['Geoffrey Everest Hinton', 'Marvin Lee Minsky'],\r\n",
        "    'Occupation' : ['pioneer in AI', 'pioneer in AI'],\r\n",
        "    'Born' : ['1947-12-06','1927-08-09'],\r\n",
        "    'Died' : ['_', '2016-01-24'],\r\n",
        "    'Age' : [73, 88] \r\n",
        "\r\n",
        "})\r\n",
        "print(scientists)\r\n",
        "\r\n",
        "# 시리즈와 마찬가지로 데이터프레임도 인덱스를 따로 지정하지 않으면 인덱스를 0부터 자동으로 생성한다.\r\n",
        "# 인덱스를 따로 지정하려면 index 인자에 리스트를 전달하면 된다."
      ],
      "execution_count": 71,
      "outputs": [
        {
          "output_type": "stream",
          "text": [
            "                      Name     Occupation        Born        Died  Age\n",
            "0  Geoffrey Everest Hinton  pioneer in AI  1947-12-06           _   73\n",
            "1        Marvin Lee Minsky  pioneer in AI  1927-08-09  2016-01-24   88\n"
          ],
          "name": "stdout"
        }
      ]
    },
    {
      "cell_type": "code",
      "metadata": {
        "colab": {
          "base_uri": "https://localhost:8080/"
        },
        "id": "jum3I7mM5dGA",
        "outputId": "078d7a1f-5100-4b2b-fa5d-890deb7009d3"
      },
      "source": [
        "# columns 인자를 사용하여 데이터프레임의 열 순서 지정하기\r\n",
        "scientists = pd.DataFrame(\r\n",
        "    data = {'Occupation' : ['pioneer in AI', 'pioneer in AI'],\r\n",
        "            'Born' : ['1947-12-06','1927-08-09'],\r\n",
        "            'Died' : ['__', '2016-01-24'],\r\n",
        "            'Age' : [73, 88]},\r\n",
        "    index = ['Geoffrey Everest Hinton', 'Marvin Lee Minsky'],   # 행\r\n",
        "    columns = ['Occupation', 'Born', 'Age', 'Died'])            # 열\r\n",
        "\r\n",
        "print(scientists)\r\n",
        "# 데이터프레임을 만들 때 Occupation, Born, Died, Age의 순서로 딕셔너리를 전달했어도, \r\n",
        "# colums 인자에 Occupation, Born, Age, Died의 순서로 열 이름을 전달하면 생성된 데이터프레임의 열 순서는 columns에 전달한 값을 따라간다."
      ],
      "execution_count": 72,
      "outputs": [
        {
          "output_type": "stream",
          "text": [
            "                            Occupation        Born  Age        Died\n",
            "Geoffrey Everest Hinton  pioneer in AI  1947-12-06   73          __\n",
            "Marvin Lee Minsky        pioneer in AI  1927-08-09   88  2016-01-24\n"
          ],
          "name": "stdout"
        }
      ]
    },
    {
      "cell_type": "markdown",
      "metadata": {
        "id": "dtzMGcpN9E76"
      },
      "source": [
        "# 6.2 시리즈 다루기 - 기초편"
      ]
    },
    {
      "cell_type": "code",
      "metadata": {
        "id": "CXLCzZMw5dMQ"
      },
      "source": [
        "# 판다스의 데이터를 구성하는 가장 기본적인 단위는 시리즈이다.\r\n",
        "# 이번에는 데이터프레임에서 시리즈를 선택하는 방법에 대해 살펴볼 것이다."
      ],
      "execution_count": 73,
      "outputs": []
    },
    {
      "cell_type": "markdown",
      "metadata": {
        "id": "-rHfriWC9RJA"
      },
      "source": [
        "## 6.2.1 데이터프레임에서 시리즈 선택하기"
      ]
    },
    {
      "cell_type": "code",
      "metadata": {
        "id": "KQxTtNJX5dSS"
      },
      "source": [
        "# 먼저 변수 scientists에 데이터프레임을 준비한다."
      ],
      "execution_count": 74,
      "outputs": []
    },
    {
      "cell_type": "code",
      "metadata": {
        "id": "tiVQHAhb9Up-"
      },
      "source": [
        "scientists = pd.DataFrame(\r\n",
        "    data = {'Occupation' : ['pioneer in Ai','pioneer in A.I'],\r\n",
        "            'Born' : ['1947-12-06','1927-08-09'],\r\n",
        "            'Died' : ['__', '2016-01-24'],\r\n",
        "            'Age' : [73, 88]},\r\n",
        "    index = ['Geoffrey Everest Hinton', 'Marvin Lee Minsky'],\r\n",
        "    columns = ['Occupation', 'Born', 'Died','Age'])"
      ],
      "execution_count": 75,
      "outputs": []
    },
    {
      "cell_type": "code",
      "metadata": {
        "colab": {
          "base_uri": "https://localhost:8080/"
        },
        "id": "2MhSdsGp9UwK",
        "outputId": "a9644290-da67-4a3f-cd60-e2f8a887d13a"
      },
      "source": [
        "# 데이터프레임에서 시리즈를 선택하려면 loc속성에 인덱스를 전달하면 된다.\r\n",
        "# type을 통해 시리즈가 맞는지 다시 한 번 확인한다.\r\n",
        "first_row = scientists.loc['Geoffrey Everest Hinton']\r\n",
        "print(type(first_row))"
      ],
      "execution_count": 76,
      "outputs": [
        {
          "output_type": "stream",
          "text": [
            "<class 'pandas.core.series.Series'>\n"
          ],
          "name": "stdout"
        }
      ]
    },
    {
      "cell_type": "code",
      "metadata": {
        "colab": {
          "base_uri": "https://localhost:8080/"
        },
        "id": "HyM5hC_59U3p",
        "outputId": "7a0cc3b3-e50f-41f7-ea2b-c5cf7b07cf57"
      },
      "source": [
        "# 데이터프레임을 만들 때 Age열에 정수형 리스트를 전달해도 시리즈(first_row)를 출력해보면 object(문자열)로 인식한다.\r\n",
        "print(first_row)\r\n",
        "# Died의 값이 _인 것은 값이 없다는 것이다. 프로그래밍에서는 값이 없을 때, _(언더바)를 넣어준다."
      ],
      "execution_count": 77,
      "outputs": [
        {
          "output_type": "stream",
          "text": [
            "Occupation    pioneer in Ai\n",
            "Born             1947-12-06\n",
            "Died                     __\n",
            "Age                      73\n",
            "Name: Geoffrey Everest Hinton, dtype: object\n"
          ],
          "name": "stdout"
        }
      ]
    },
    {
      "cell_type": "markdown",
      "metadata": {
        "id": "s0W1ZzPIC9ru"
      },
      "source": [
        "## 6.2.2 시리즈 속성과 메서드 사용하기 - index, values, keys"
      ]
    },
    {
      "cell_type": "markdown",
      "metadata": {
        "id": "u-2HebhEDFqs"
      },
      "source": [
        "### (1) index 속성 사용하기"
      ]
    },
    {
      "cell_type": "code",
      "metadata": {
        "id": "37UPFZ005dZl",
        "colab": {
          "base_uri": "https://localhost:8080/"
        },
        "outputId": "d8762562-a09b-4adc-aac9-a1000ef8b936"
      },
      "source": [
        "print(first_row.index)"
      ],
      "execution_count": 78,
      "outputs": [
        {
          "output_type": "stream",
          "text": [
            "Index(['Occupation', 'Born', 'Died', 'Age'], dtype='object')\n"
          ],
          "name": "stdout"
        }
      ]
    },
    {
      "cell_type": "markdown",
      "metadata": {
        "id": "1MQlRbPpDVn-"
      },
      "source": [
        "### (2) values 속성 사용하기"
      ]
    },
    {
      "cell_type": "code",
      "metadata": {
        "id": "N7vr8hT6_gXH",
        "colab": {
          "base_uri": "https://localhost:8080/"
        },
        "outputId": "0896a53a-c9c3-444c-cfd7-09caa9a4879e"
      },
      "source": [
        "print(first_row.values)"
      ],
      "execution_count": 79,
      "outputs": [
        {
          "output_type": "stream",
          "text": [
            "['pioneer in Ai' '1947-12-06' '__' 73]\n"
          ],
          "name": "stdout"
        }
      ]
    },
    {
      "cell_type": "markdown",
      "metadata": {
        "id": "JpyV4QSLDdk9"
      },
      "source": [
        "### (3) keys 메서드 사용하기"
      ]
    },
    {
      "cell_type": "code",
      "metadata": {
        "id": "rulvd5Nc_gfV",
        "colab": {
          "base_uri": "https://localhost:8080/"
        },
        "outputId": "e4251e57-624f-48bb-c560-d01131fd75df"
      },
      "source": [
        "print(first_row.keys())"
      ],
      "execution_count": 80,
      "outputs": [
        {
          "output_type": "stream",
          "text": [
            "Index(['Occupation', 'Born', 'Died', 'Age'], dtype='object')\n"
          ],
          "name": "stdout"
        }
      ]
    },
    {
      "cell_type": "markdown",
      "metadata": {
        "id": "CahG0KR5Doig"
      },
      "source": [
        "### (4) index 속성 응용하기"
      ]
    },
    {
      "cell_type": "code",
      "metadata": {
        "id": "lvDcu3mb_glv",
        "colab": {
          "base_uri": "https://localhost:8080/"
        },
        "outputId": "5f5be454-a5f5-4cde-f7aa-85279ad2f1f3"
      },
      "source": [
        "print(first_row.index[0])"
      ],
      "execution_count": 81,
      "outputs": [
        {
          "output_type": "stream",
          "text": [
            "Occupation\n"
          ],
          "name": "stdout"
        }
      ]
    },
    {
      "cell_type": "markdown",
      "metadata": {
        "id": "1bmfZTEjDuuW"
      },
      "source": [
        "### (5) keys 메서드 응용하기"
      ]
    },
    {
      "cell_type": "code",
      "metadata": {
        "id": "njd8_bD5_gtI",
        "colab": {
          "base_uri": "https://localhost:8080/"
        },
        "outputId": "74078b97-d41b-4796-bd68-dd92d4c10274"
      },
      "source": [
        "print(first_row.keys()[0])"
      ],
      "execution_count": 82,
      "outputs": [
        {
          "output_type": "stream",
          "text": [
            "Occupation\n"
          ],
          "name": "stdout"
        }
      ]
    },
    {
      "cell_type": "markdown",
      "metadata": {
        "id": "VzHub_l2D28Y"
      },
      "source": [
        "## 6.2.3 시리즈의 기초 통계 메서드 사용하기"
      ]
    },
    {
      "cell_type": "code",
      "metadata": {
        "id": "GFvA_1ET_gy9",
        "colab": {
          "base_uri": "https://localhost:8080/"
        },
        "outputId": "6b5ebb8b-54df-4235-e9d3-7657b48cc1d0"
      },
      "source": [
        "# 시리즈에 미리 정의되어 있는 mean, min, max, std 메서드의 사용방법을 알아보자.\r\n",
        "ages = scientists['Age']\r\n",
        "print(ages)"
      ],
      "execution_count": 83,
      "outputs": [
        {
          "output_type": "stream",
          "text": [
            "Geoffrey Everest Hinton    73\n",
            "Marvin Lee Minsky          88\n",
            "Name: Age, dtype: int64\n"
          ],
          "name": "stdout"
        }
      ]
    },
    {
      "cell_type": "code",
      "metadata": {
        "id": "gQnmKwm9_g5I",
        "colab": {
          "base_uri": "https://localhost:8080/"
        },
        "outputId": "3b237254-113f-4c61-dd0b-0f7342044ba1"
      },
      "source": [
        "# 만약 시리즈를 구성하는 데이터가 정수라면 mean, min, max, std 같은 통계 메서드를 사용할 수 있다.\r\n",
        "print(ages.mean())\r\n",
        "print(ages.min())\r\n",
        "print(ages.max())\r\n",
        "print(ages.std())"
      ],
      "execution_count": 84,
      "outputs": [
        {
          "output_type": "stream",
          "text": [
            "80.5\n",
            "73\n",
            "88\n",
            "10.606601717798213\n"
          ],
          "name": "stdout"
        }
      ]
    },
    {
      "cell_type": "markdown",
      "metadata": {
        "id": "i4IqDeOKE8Rk"
      },
      "source": [
        "# 6.3 시리즈 다루기 - 응용편"
      ]
    },
    {
      "cell_type": "markdown",
      "metadata": {
        "id": "hM2ubYkbD3Xu"
      },
      "source": [
        "## 6.3.1 시리즈와 불린 추출"
      ]
    },
    {
      "cell_type": "code",
      "metadata": {
        "id": "r6kauPCuTkU_"
      },
      "source": [
        "# 앞서 데이터를 추출할 때 특정 인덱스를 지정하였다.\r\n",
        "# 하지만 보통 추출할 때 데이터의 정확한 인덱스를 모르는 경우가 더 일반적이다.\r\n",
        "# 이러한 경우에 사용하는 방법이 '불린 추출'이다. '불린 추출'은 '특정 조건을 만족하는 값만 추출'할 수 있다."
      ],
      "execution_count": 85,
      "outputs": []
    },
    {
      "cell_type": "code",
      "metadata": {
        "id": "9K9irJrr_hII"
      },
      "source": [
        "# 1. 가장 먼저 'scientists.csv'라는 이름의 데이터를 불러온다.\r\n",
        "scientists = pd.read_csv('/content/drive/MyDrive/3주차/dataset/scientists (1).csv')"
      ],
      "execution_count": 86,
      "outputs": []
    },
    {
      "cell_type": "code",
      "metadata": {
        "colab": {
          "base_uri": "https://localhost:8080/"
        },
        "id": "q3feAKTHJuS3",
        "outputId": "1b6f42cf-c79c-4e1e-ecc0-e9373950f63e"
      },
      "source": [
        "# 2. 이제 통계 수치의 결과값을 이용해 불린 추출을 진행해보자.\r\n",
        "# Age 열을 추출하여 max, min 메서드를 사용한 것이다.\r\n",
        "ages = scientists['Age']\r\n",
        "print(ages.max())\r\n",
        "print(ages.min())"
      ],
      "execution_count": 87,
      "outputs": [
        {
          "output_type": "stream",
          "text": [
            "90\n",
            "37\n"
          ],
          "name": "stdout"
        }
      ]
    },
    {
      "cell_type": "code",
      "metadata": {
        "colab": {
          "base_uri": "https://localhost:8080/"
        },
        "id": "OPniexxLJudJ",
        "outputId": "63961c88-9247-4b10-e1e4-790dbd36f192"
      },
      "source": [
        "# 3. 이제 불린 추출을 사용할 차례이다. \r\n",
        "# '불린 추출'이란 내가 원하는 기준에 맞춰 출력을 해주는 것이다.\r\n",
        "# 평균 나이 보다 나이가 많은 사람의 데이터를 추출해보자.\r\n",
        "print(ages[ages> ages.mean()])"
      ],
      "execution_count": 88,
      "outputs": [
        {
          "output_type": "stream",
          "text": [
            "1    61\n",
            "2    90\n",
            "3    66\n",
            "7    77\n",
            "Name: Age, dtype: int64\n"
          ],
          "name": "stdout"
        }
      ]
    },
    {
      "cell_type": "code",
      "metadata": {
        "colab": {
          "base_uri": "https://localhost:8080/"
        },
        "id": "aGwfNUFnJ3ge",
        "outputId": "608be5ed-40de-4c2f-a8bd-78c0c13610f8"
      },
      "source": [
        "# 4. 먼저 ages>ages.mean()의 결과를 출력해보자. 그러면 1,2,3,7 인덱스의 데이터가 참(True)이라는 것을 알 수 있다.\r\n",
        "print(ages>ages.mean())\r\n",
        "# 참고로 True/False의 값을 Bool(불)이라고 부른다."
      ],
      "execution_count": 89,
      "outputs": [
        {
          "output_type": "stream",
          "text": [
            "0    False\n",
            "1     True\n",
            "2     True\n",
            "3     True\n",
            "4    False\n",
            "5    False\n",
            "6    False\n",
            "7     True\n",
            "Name: Age, dtype: bool\n"
          ],
          "name": "stdout"
        }
      ]
    },
    {
      "cell_type": "code",
      "metadata": {
        "colab": {
          "base_uri": "https://localhost:8080/"
        },
        "id": "y-VTjZJdJ3nV",
        "outputId": "a8a07105-3cbc-4486-cba5-4f56e400f2eb"
      },
      "source": [
        "# 5. 리스트 형태로 참이나 거짓을 담아 시리즈에 전달하면 참인 인덱스의 데이터만 추출할 수 있다.\r\n",
        "# 바로 이것을 '불린 추출'이라 한다.\r\n",
        "manual_bool_values = [True, True, False, False, True, True, False, True]\r\n",
        "print(ages[manual_bool_values])"
      ],
      "execution_count": 90,
      "outputs": [
        {
          "output_type": "stream",
          "text": [
            "0    37\n",
            "1    61\n",
            "4    56\n",
            "5    45\n",
            "7    77\n",
            "Name: Age, dtype: int64\n"
          ],
          "name": "stdout"
        }
      ]
    },
    {
      "cell_type": "markdown",
      "metadata": {
        "id": "Ug7C3F-QH4yb"
      },
      "source": [
        "## 6.3.2 시리즈와 브로드캐스팅"
      ]
    },
    {
      "cell_type": "code",
      "metadata": {
        "id": "eMqM55BoIBht"
      },
      "source": [
        "# ages > ages.mean() 결과값이 여러 개라는 것을 알 수 있는데, \r\n",
        "# 이렇게 시리즈나 데이터프레임에 있는 '모든 데이터를 한 번에 연산하는 것'을 '브로드캐스팅(Broadcasting)'이라고 한다.\r\n",
        "\r\n",
        "# 또한 시리즈처럼 여러 개의 값을 가진 데이터를 벡터라고 하며, 단순 크기를 나타내는 데이터를 스칼라라고 한다. "
      ],
      "execution_count": 91,
      "outputs": []
    },
    {
      "cell_type": "code",
      "metadata": {
        "id": "Oe3fNQ5BKeth"
      },
      "source": [
        "# 같은 길이의 벡터로 연산 -> 같은 길이의 벡터가 출력"
      ],
      "execution_count": 92,
      "outputs": []
    },
    {
      "cell_type": "code",
      "metadata": {
        "colab": {
          "base_uri": "https://localhost:8080/"
        },
        "id": "zgkigp6eJ3tk",
        "outputId": "237a1fb5-f405-46b1-f8a0-d99998e31954"
      },
      "source": [
        "# 다음은 같은 길이의 벡터로 더하기 연산과 곱하기 연산을 수행한 것이다.\r\n",
        "print(ages + ages)\r\n",
        "print(\"----\"*20)\r\n",
        "print(ages * ages)\r\n",
        "# 결과값으로 같은 길이의 벡터가 출력된다."
      ],
      "execution_count": 93,
      "outputs": [
        {
          "output_type": "stream",
          "text": [
            "0     74\n",
            "1    122\n",
            "2    180\n",
            "3    132\n",
            "4    112\n",
            "5     90\n",
            "6     82\n",
            "7    154\n",
            "Name: Age, dtype: int64\n",
            "--------------------------------------------------------------------------------\n",
            "0    1369\n",
            "1    3721\n",
            "2    8100\n",
            "3    4356\n",
            "4    3136\n",
            "5    2025\n",
            "6    1681\n",
            "7    5929\n",
            "Name: Age, dtype: int64\n"
          ],
          "name": "stdout"
        }
      ]
    },
    {
      "cell_type": "code",
      "metadata": {
        "colab": {
          "base_uri": "https://localhost:8080/"
        },
        "id": "V5kyVIU9J30O",
        "outputId": "0784406c-4ade-4a10-d082-0ff554f80429"
      },
      "source": [
        "# 그렇다면 벡터에 스칼라(1차원)연산을 하면 어떻게 될까?\r\n",
        "print(ages + 100)    # ages = 벡터 / 100 = 스칼라\r\n",
        "print(ages * 2)\r\n",
        "# 벡터의 모든 값에 스칼라를 적용하여 브로드캐스팅(모든데이터를 한 번에 연산)한 결과를 확인할 수 있다."
      ],
      "execution_count": 94,
      "outputs": [
        {
          "output_type": "stream",
          "text": [
            "0    137\n",
            "1    161\n",
            "2    190\n",
            "3    166\n",
            "4    156\n",
            "5    145\n",
            "6    141\n",
            "7    177\n",
            "Name: Age, dtype: int64\n",
            "0     74\n",
            "1    122\n",
            "2    180\n",
            "3    132\n",
            "4    112\n",
            "5     90\n",
            "6     82\n",
            "7    154\n",
            "Name: Age, dtype: int64\n"
          ],
          "name": "stdout"
        }
      ]
    },
    {
      "cell_type": "code",
      "metadata": {
        "id": "I_Ndh7nPJ37f"
      },
      "source": [
        "# 그렇다면 길이가 서로 다른 벡터를 연산하면 어떤 결과를 출력할까?"
      ],
      "execution_count": 95,
      "outputs": []
    },
    {
      "cell_type": "code",
      "metadata": {
        "id": "sJ6eR-wDKKRa"
      },
      "source": [
        "# 다음은 데이터의 개수가 3개인 시리즈와 8개인 시리즈를 더한 것이다."
      ],
      "execution_count": 96,
      "outputs": []
    },
    {
      "cell_type": "code",
      "metadata": {
        "colab": {
          "base_uri": "https://localhost:8080/"
        },
        "id": "nx2XsD3dJ4Dc",
        "outputId": "4258d9f4-2eac-4564-9afe-88fe4113f128"
      },
      "source": [
        "print(pd.Series([1,100,99]))  # ----> 3개의 시리즈"
      ],
      "execution_count": 97,
      "outputs": [
        {
          "output_type": "stream",
          "text": [
            "0      1\n",
            "1    100\n",
            "2     99\n",
            "dtype: int64\n"
          ],
          "name": "stdout"
        }
      ]
    },
    {
      "cell_type": "code",
      "metadata": {
        "colab": {
          "base_uri": "https://localhost:8080/"
        },
        "id": "pKsh3gi0J4Q4",
        "outputId": "ed1be2b2-b022-42e9-a95c-a5baaf878a62"
      },
      "source": [
        "print(ages + pd.Series([1,100,99]))   # ages = 8개의 시리즈"
      ],
      "execution_count": 98,
      "outputs": [
        {
          "output_type": "stream",
          "text": [
            "0     38.0\n",
            "1    161.0\n",
            "2    189.0\n",
            "3      NaN\n",
            "4      NaN\n",
            "5      NaN\n",
            "6      NaN\n",
            "7      NaN\n",
            "dtype: float64\n"
          ],
          "name": "stdout"
        }
      ]
    },
    {
      "cell_type": "code",
      "metadata": {
        "id": "xunYZZ_tKYJu"
      },
      "source": [
        "# 결과값을 살펴보면 인덱스가 일치한 0,1,2만 계산했다는 것을 알 수 있다.\r\n",
        "# 나머지 인덱스(3 ~ 7)는 계산을 할 수 없기 때문에 누락값(NaN)으로 처리한다.\r\n",
        "# 즉, 길이가 서로 다른 벡터 연산에서는 인덱스가 일치하지 않으면 누락값(NaN) 처리한다."
      ],
      "execution_count": 99,
      "outputs": []
    },
    {
      "cell_type": "code",
      "metadata": {
        "id": "KhwBQtfaJ4X0"
      },
      "source": [
        "# sort_index 메서드 사용"
      ],
      "execution_count": 100,
      "outputs": []
    },
    {
      "cell_type": "code",
      "metadata": {
        "colab": {
          "base_uri": "https://localhost:8080/"
        },
        "id": "o8-CBA_0Juju",
        "outputId": "1e300d6f-a20c-4f7c-d76e-b147cc4206f2"
      },
      "source": [
        "# ascending 인자로 False를 전달하여 인덱스 역순으로 데이터를 정렬\r\n",
        "rev_ages = ages.sort_index(ascending = False)\r\n",
        "print(rev_ages)"
      ],
      "execution_count": 101,
      "outputs": [
        {
          "output_type": "stream",
          "text": [
            "7    77\n",
            "6    41\n",
            "5    45\n",
            "4    56\n",
            "3    66\n",
            "2    90\n",
            "1    61\n",
            "0    37\n",
            "Name: Age, dtype: int64\n"
          ],
          "name": "stdout"
        }
      ]
    },
    {
      "cell_type": "code",
      "metadata": {
        "id": "HcFNNWlaSo5C"
      },
      "source": [
        "# 그렇다면 인덱스 순서대로 정렬된 ages와 역순으로 정렬된 rev_age를 연산하면 어떻게 될까?"
      ],
      "execution_count": 102,
      "outputs": []
    },
    {
      "cell_type": "code",
      "metadata": {
        "colab": {
          "base_uri": "https://localhost:8080/"
        },
        "id": "_AX6Jd59SpB7",
        "outputId": "91b95df5-f015-4395-9296-387e2fe2eb48"
      },
      "source": [
        "print(ages*2)\r\n",
        "print(\"-\"*30)\r\n",
        "print(ages + rev_ages)\r\n",
        "# 결과값이 동일하다. ages의 인덱스(0~7)와 rev_ages의 인덱스(0~7)가 일치하는 값끼리 연산했기 때문이다.\r\n",
        "# 이처럼 벡터와 벡터의 연산은 일치하는 인덱스의 값끼리 수행하게 된다."
      ],
      "execution_count": 103,
      "outputs": [
        {
          "output_type": "stream",
          "text": [
            "0     74\n",
            "1    122\n",
            "2    180\n",
            "3    132\n",
            "4    112\n",
            "5     90\n",
            "6     82\n",
            "7    154\n",
            "Name: Age, dtype: int64\n",
            "------------------------------\n",
            "0     74\n",
            "1    122\n",
            "2    180\n",
            "3    132\n",
            "4    112\n",
            "5     90\n",
            "6     82\n",
            "7    154\n",
            "Name: Age, dtype: int64\n"
          ],
          "name": "stdout"
        }
      ]
    },
    {
      "cell_type": "markdown",
      "metadata": {
        "id": "h5s1K_60TdqL"
      },
      "source": [
        "# 6.4 데이터프레임 다루기"
      ]
    },
    {
      "cell_type": "code",
      "metadata": {
        "id": "J7H00V7CSpKf"
      },
      "source": [
        "# 데이터프레임도 시리즈와 마찬가지로 '불린 추출'과 '브로드캐스팅'을 할 수 있다.\r\n",
        "# '불린 추출' = '특정 조건을 만족하는 값만 추출'\r\n",
        "# '브로드캐스팅' = '모든 데이터를 한 번에 연산하는 것'"
      ],
      "execution_count": 104,
      "outputs": []
    },
    {
      "cell_type": "markdown",
      "metadata": {
        "id": "TNWkKBqgTrEv"
      },
      "source": [
        "## 6.4.1 데이터프레임과 불린 추출"
      ]
    },
    {
      "cell_type": "code",
      "metadata": {
        "colab": {
          "base_uri": "https://localhost:8080/"
        },
        "id": "AfAwQbQGSpZD",
        "outputId": "faddeb21-f317-4e67-ec34-f5f9cc9cd18f"
      },
      "source": [
        "# 데이터프레임도 불린 추출을 할 수 있다.\r\n",
        "# 다음은 데이터프레임의 Age열에서 Age열의 평균보다 높은 행만 출력한다.\r\n",
        "print(scientists[scientists['Age']> scientists['Age'].mean()])"
      ],
      "execution_count": 105,
      "outputs": [
        {
          "output_type": "stream",
          "text": [
            "                   Name        Born        Died  Age     Occupation\n",
            "1        William Gosset  1876-06-13  1937-10-16   61   Statistician\n",
            "2  Florence Nightingale  1820-05-12  1910-08-13   90          Nurse\n",
            "3           Marie Curie  1867-11-07  1934-07-04   66        Chemist\n",
            "7          Johann Gauss  1777-04-30  1855-02-23   77  Mathematician\n"
          ],
          "name": "stdout"
        }
      ]
    },
    {
      "cell_type": "markdown",
      "metadata": {
        "id": "hN4lucAcUNCw"
      },
      "source": [
        "## 6.4.2 데이터프레임과 브로드캐스팅"
      ]
    },
    {
      "cell_type": "code",
      "metadata": {
        "colab": {
          "base_uri": "https://localhost:8080/"
        },
        "id": "7KZAu69HJuub",
        "outputId": "2649733f-426a-43c1-ae9c-22da94b485a1"
      },
      "source": [
        "# 데이터프레임에 스칼라 연산을 적용하여 연산할 수 있다.\r\n",
        "print(scientists * 2)\r\n",
        "# scientists 데이터프레임에 2를 곱하면 정수 데이터는 2를 곱한 숫자가 되고, 문자열 데이터는 문자열이 2배로 늘어난다."
      ],
      "execution_count": 106,
      "outputs": [
        {
          "output_type": "stream",
          "text": [
            "                                       Name  ...                            Occupation\n",
            "0        Rosaline FranklinRosaline Franklin  ...                        ChemistChemist\n",
            "1              William GossetWilliam Gosset  ...              StatisticianStatistician\n",
            "2  Florence NightingaleFlorence Nightingale  ...                            NurseNurse\n",
            "3                    Marie CurieMarie Curie  ...                        ChemistChemist\n",
            "4                Rachel CarsonRachel Carson  ...                    BiologistBiologist\n",
            "5                        John SnowJohn Snow  ...                    PhysicianPhysician\n",
            "6                    Alan TuringAlan Turing  ...  Computer ScientistComputer Scientist\n",
            "7                  Johann GaussJohann Gauss  ...            MathematicianMathematician\n",
            "\n",
            "[8 rows x 5 columns]\n"
          ],
          "name": "stdout"
        }
      ]
    },
    {
      "cell_type": "code",
      "metadata": {
        "id": "Qlb7zfljWnSk"
      },
      "source": [
        "# 지금까지 시리즈와 데이터프레임에서 데이터를 추출하는 방법을 알아보았다. \r\n",
        "# 이제는 시리즈와 데이터프레임에 있는 데이터를 처리하는 방법에 대해 알아보자!"
      ],
      "execution_count": 107,
      "outputs": []
    },
    {
      "cell_type": "markdown",
      "metadata": {
        "id": "4UhSb7hdWfU8"
      },
      "source": [
        "# 6.5 시리즈와 데이터프레임의 데이터 처리하기"
      ]
    },
    {
      "cell_type": "code",
      "metadata": {
        "colab": {
          "base_uri": "https://localhost:8080/"
        },
        "id": "BnY7D8yCZpsQ",
        "outputId": "b63cfd31-82cc-4206-b955-0de17040a4dd"
      },
      "source": [
        "# 1. 열의 자료형 바꾸기와 새로운 열 추가하기\r\n",
        "# scientists 데이터프레임의 Born과 Died 열의 자료형을 확인해보자.\r\n",
        "print(scientists['Born'].dtype)\r\n",
        "print(scientists['Died'].dtype)\r\n",
        "# 각각의 자료형은 문자열(오브젝트)이다."
      ],
      "execution_count": 108,
      "outputs": [
        {
          "output_type": "stream",
          "text": [
            "object\n",
            "object\n"
          ],
          "name": "stdout"
        }
      ]
    },
    {
      "cell_type": "code",
      "metadata": {
        "colab": {
          "base_uri": "https://localhost:8080/"
        },
        "id": "mFwN4cY5uZLV",
        "outputId": "da48e76c-2ded-4628-cabe-66e9aa2b50c1"
      },
      "source": [
        "# 2. 날짜를 문자열로 저장한 데이터는 시간 관련 작업을 할 수 있도록 daytime 자료형으로 바꾸는 것이 좋다.\r\n",
        "# 다음은 Born과 Died열의 자료형을 datetime자료형으로 바꾼 다음 format 속성을 '%Y-%m-%d'로 지정하여 날짜 형식을 지정한 것이다.\r\n",
        "born_datetime = pd.to_datetime(scientists['Born'],format = '%Y-%m-%d')\r\n",
        "print(born_datetime)\r\n",
        "died_datetime = pd.to_datetime(scientists['Died'],format = '%Y-%m-%d')\r\n",
        "print(died_datetime)"
      ],
      "execution_count": 109,
      "outputs": [
        {
          "output_type": "stream",
          "text": [
            "0   1920-07-25\n",
            "1   1876-06-13\n",
            "2   1820-05-12\n",
            "3   1867-11-07\n",
            "4   1907-05-27\n",
            "5   1813-03-15\n",
            "6   1912-06-23\n",
            "7   1777-04-30\n",
            "Name: Born, dtype: datetime64[ns]\n",
            "0   1958-04-16\n",
            "1   1937-10-16\n",
            "2   1910-08-13\n",
            "3   1934-07-04\n",
            "4   1964-04-14\n",
            "5   1858-06-16\n",
            "6   1954-06-07\n",
            "7   1855-02-23\n",
            "Name: Died, dtype: datetime64[ns]\n"
          ],
          "name": "stdout"
        }
      ]
    },
    {
      "cell_type": "code",
      "metadata": {
        "colab": {
          "base_uri": "https://localhost:8080/"
        },
        "id": "ZPyock8awVO1",
        "outputId": "cb561451-b6b2-476b-ddaa-f779458f4af0"
      },
      "source": [
        "# 3. 이제 데이터프레임에 새로운 열('born_dt','died_dt')을 추가해볼 것이다.\r\n",
        "scientists['born_dt'], scientists['died_dt'] = (born_datetime, died_datetime)\r\n",
        "print(scientists.head())\r\n",
        "print(scientists.shape)\r\n",
        "# shape속성으로 데이터프레임의 형태를 살펴보면 (8,5)에서 (8,7)로 2개의 열이 추가되었다는 것을 알 수 있다.\r\n",
        "# 여기서 추측해볼 수 있는 것은 데이터프레임에서는 데이터의 추가, 삭제가 가능하다는 것이다."
      ],
      "execution_count": 110,
      "outputs": [
        {
          "output_type": "stream",
          "text": [
            "                   Name        Born  ...    born_dt    died_dt\n",
            "0     Rosaline Franklin  1920-07-25  ... 1920-07-25 1958-04-16\n",
            "1        William Gosset  1876-06-13  ... 1876-06-13 1937-10-16\n",
            "2  Florence Nightingale  1820-05-12  ... 1820-05-12 1910-08-13\n",
            "3           Marie Curie  1867-11-07  ... 1867-11-07 1934-07-04\n",
            "4         Rachel Carson  1907-05-27  ... 1907-05-27 1964-04-14\n",
            "\n",
            "[5 rows x 7 columns]\n",
            "(8, 7)\n"
          ],
          "name": "stdout"
        }
      ]
    },
    {
      "cell_type": "code",
      "metadata": {
        "colab": {
          "base_uri": "https://localhost:8080/"
        },
        "id": "VzvM_0QwvDyN",
        "outputId": "9621655c-2bc0-41eb-c674-ee67e9d3a102"
      },
      "source": [
        "# 4. 이제 시간 계산을 해볼 차례이다. diet_dt열에서 born_dt를 빼면 과학자가 얼마 동안 세상을 살다가 떠났는지 계산할 수 있다.\r\n",
        "scientists['age_days_dt'] = (scientists['died_dt'] - scientists['born_dt'])\r\n",
        "print(scientists)"
      ],
      "execution_count": 111,
      "outputs": [
        {
          "output_type": "stream",
          "text": [
            "                   Name        Born  ...    died_dt  age_days_dt\n",
            "0     Rosaline Franklin  1920-07-25  ... 1958-04-16   13779 days\n",
            "1        William Gosset  1876-06-13  ... 1937-10-16   22404 days\n",
            "2  Florence Nightingale  1820-05-12  ... 1910-08-13   32964 days\n",
            "3           Marie Curie  1867-11-07  ... 1934-07-04   24345 days\n",
            "4         Rachel Carson  1907-05-27  ... 1964-04-14   20777 days\n",
            "5             John Snow  1813-03-15  ... 1858-06-16   16529 days\n",
            "6           Alan Turing  1912-06-23  ... 1954-06-07   15324 days\n",
            "7          Johann Gauss  1777-04-30  ... 1855-02-23   28422 days\n",
            "\n",
            "[8 rows x 8 columns]\n"
          ],
          "name": "stdout"
        }
      ]
    },
    {
      "cell_type": "code",
      "metadata": {
        "colab": {
          "base_uri": "https://localhost:8080/"
        },
        "id": "wYqqriMPwtBq",
        "outputId": "f36b4e58-3f15-4a38-cc8e-78e185727a7e"
      },
      "source": [
        "# 5. 가끔은 데이터를 적다히 섞어야 하는 경우도 있다. 판다스는 시리즈나 데이터프레임의 데이터를 무작위로 섞어볼 수도 있다.\r\n",
        "# 먼저 Age 값을 출력하여 살펴볼 것이다.\r\n",
        "print(scientists['Age'])"
      ],
      "execution_count": 112,
      "outputs": [
        {
          "output_type": "stream",
          "text": [
            "0    37\n",
            "1    61\n",
            "2    90\n",
            "3    66\n",
            "4    56\n",
            "5    45\n",
            "6    41\n",
            "7    77\n",
            "Name: Age, dtype: int64\n"
          ],
          "name": "stdout"
        }
      ]
    },
    {
      "cell_type": "code",
      "metadata": {
        "colab": {
          "base_uri": "https://localhost:8080/"
        },
        "id": "pBaFFQSYwxYm",
        "outputId": "0e040d72-62ad-4b33-aad1-4f6643254f14"
      },
      "source": [
        "# 6. Age 열의 데이터를 섞으려면 random 라이브러리를 불러와야 한다.\r\n",
        "# 데이터를 섞어주는 shuffle 메서드에 Age 열을 전달하여 진행해본다.\r\n",
        "# seed 메서드는 컴퓨터가 생성하는 난수의 기준값을 정하기 위해 사용되어진다.\r\n",
        "\r\n",
        "import random\r\n",
        "\r\n",
        "random.seed(42)\r\n",
        "random.shuffle(scientists['Age'])\r\n",
        "print(scientists['Age'])\r\n",
        "\r\n",
        "# Age 열을 출력해보면 인덱스 0 ~ 7에 해당하는 값이 잘 섞어 있음을 알 수 있다."
      ],
      "execution_count": 113,
      "outputs": [
        {
          "output_type": "stream",
          "text": [
            "0    66\n",
            "1    56\n",
            "2    41\n",
            "3    77\n",
            "4    90\n",
            "5    45\n",
            "6    37\n",
            "7    61\n",
            "Name: Age, dtype: int64\n"
          ],
          "name": "stdout"
        },
        {
          "output_type": "stream",
          "text": [
            "/usr/lib/python3.6/random.py:277: SettingWithCopyWarning: \n",
            "A value is trying to be set on a copy of a slice from a DataFrame\n",
            "\n",
            "See the caveats in the documentation: https://pandas.pydata.org/pandas-docs/stable/user_guide/indexing.html#returning-a-view-versus-a-copy\n",
            "  x[i], x[j] = x[j], x[i]\n"
          ],
          "name": "stderr"
        }
      ]
    },
    {
      "cell_type": "code",
      "metadata": {
        "colab": {
          "base_uri": "https://localhost:8080/"
        },
        "id": "QsgVis_pw8_Q",
        "outputId": "1fedde85-17d4-442d-b472-6ee73196c602"
      },
      "source": [
        "# 7. 때로는 열을 통째로 삭제해야 하는 경우도 있다.\r\n",
        "# 먼저 scientists 데이터프레임의 열을 확인해보겠다.\r\n",
        "print(scientists.columns)"
      ],
      "execution_count": 114,
      "outputs": [
        {
          "output_type": "stream",
          "text": [
            "Index(['Name', 'Born', 'Died', 'Age', 'Occupation', 'born_dt', 'died_dt',\n",
            "       'age_days_dt'],\n",
            "      dtype='object')\n"
          ],
          "name": "stdout"
        }
      ]
    },
    {
      "cell_type": "code",
      "metadata": {
        "colab": {
          "base_uri": "https://localhost:8080/"
        },
        "id": "y0GPZBqgxBkP",
        "outputId": "a585a68b-6b79-46bf-b4bc-c8185a304b8e"
      },
      "source": [
        "# 8. 데이터프레임에서 열을 삭제하려면 데이터프레임의 drop 메서드를 사용해야한다.\r\n",
        "# shuffle 메서드로 섞은 Age 열을 삭제해보자.\r\n",
        "scientists_dropped = scientists.drop(['Age'], axis = 1)\r\n",
        "print(scientists_dropped.columns)\r\n",
        "\r\n",
        "# drop메서드의 첫 번째 인자에서 열 이름을 리스트에 담아 전달하고, 두 번째 인자에는 axis = 1을 전달하면 Age열을 삭제할 수 있다."
      ],
      "execution_count": 115,
      "outputs": [
        {
          "output_type": "stream",
          "text": [
            "Index(['Name', 'Born', 'Died', 'Occupation', 'born_dt', 'died_dt',\n",
            "       'age_days_dt'],\n",
            "      dtype='object')\n"
          ],
          "name": "stdout"
        }
      ]
    },
    {
      "cell_type": "code",
      "metadata": {
        "id": "vpiiHFR3UQhv"
      },
      "source": [
        "# 지금까지 데이터를 추출하고 처리하는 방법에 대해 알아보았다. 일종의 '데이터 가공처리'를 거친 것이다. \r\n",
        "# 이렇게 잘 가공한 데이터는 안전하게 보관해야한다. 그래야 다음에 또 사용할 수 있다.\r\n",
        "# 판다스는 데이터를 저장하는 다양한 방법을 제공한다. 여기서는 가공한 데이터를 csv, tsv 파일로 저장하고 다시 불러오는 방법에 대해 알아볼 것이다."
      ],
      "execution_count": 116,
      "outputs": []
    },
    {
      "cell_type": "markdown",
      "metadata": {
        "id": "2lzO3qXxs5QV"
      },
      "source": [
        "# 6.6 데이터 저장하고 불러오기"
      ]
    },
    {
      "cell_type": "code",
      "metadata": {
        "id": "Dz5Fcq2IJu9g"
      },
      "source": [
        "# CSV파일과 TSV 파일로 저장하기\r\n",
        "\r\n",
        "## CSV파일은 데이터를 '쉼표'로 구분하여 저장한 파일이고, TSV파일은 데이터를 '탭'으로 구분하여 저장한 파일이다."
      ],
      "execution_count": 117,
      "outputs": []
    },
    {
      "cell_type": "code",
      "metadata": {
        "id": "wc99Flt2s86h"
      },
      "source": [
        "# to_csv메서드로 시리즈와 데이터프레임을 CSV파일로 저장할 수 있다.\r\n",
        "# 이때 sep 인자를 추가하여 \\t를 지정하고 파일의 확장자를 '.tsv'로 지정하면 TSV 파일로 저장할 수 있다.\r\n",
        "names = scientists['Name']\r\n",
        "names.to_csv('/content/drive/MyDrive/3주차/dataset/scientists.csv')\r\n",
        "scientists.to_csv('/content/drive/MyDrive/3주차/dataset/gapminder.tsv',sep='\\t')"
      ],
      "execution_count": 118,
      "outputs": []
    },
    {
      "cell_type": "code",
      "metadata": {
        "id": "B-GOQu6fs9EV"
      },
      "source": [
        "# 시리즈와 데이터프레임을 엑셀 파일로 저장하기\r\n",
        "\r\n",
        "## 시리즈는 엑셀 구조와 맞지 않기 때문에 엑셀 파일로 저장할 수 없다. 엑셀 파일로 저장할 수 있는 데이터프레임으로 변환해야 한다.\r\n",
        "## 시리즈는 to_frame이라는 메서드를 사용해 데이터프레임으로 변환한 다음 엑셀 파일로 저장한다.\r\n",
        "## 다음은 시리즈를 데이터프레임으로 변환한 다음 엑셀 파일(확장자 xls,xlsx)로 저장한 것이다.\r\n",
        "\r\n",
        "import xlwt\r\n",
        "import openpyxl\r\n",
        "\r\n",
        "name_df = names.to_frame()\r\n",
        "\r\n",
        "name_df.to_excel('/content/drive/MyDrive/3주차/dataset/test_df.xls')\r\n",
        "name_df.to_excel('/content/drive/MyDrive/3주차/dataset/test_df.xlsx')"
      ],
      "execution_count": 119,
      "outputs": []
    }
  ]
}