{
  "nbformat": 4,
  "nbformat_minor": 0,
  "metadata": {
    "colab": {
      "name": "20201222.ipynb",
      "provenance": [],
      "authorship_tag": "ABX9TyNtFQ+Y8d0Zp2LnyszDz1eL",
      "include_colab_link": true
    },
    "kernelspec": {
      "name": "python3",
      "display_name": "Python 3"
    }
  },
  "cells": [
    {
      "cell_type": "markdown",
      "metadata": {
        "id": "view-in-github",
        "colab_type": "text"
      },
      "source": [
        "<a href=\"https://colab.research.google.com/github/dianakang/K_digital_likelion/blob/master/20201222.ipynb\" target=\"_parent\"><img src=\"https://colab.research.google.com/assets/colab-badge.svg\" alt=\"Open In Colab\"/></a>"
      ]
    },
    {
      "cell_type": "markdown",
      "metadata": {
        "id": "rtNu4ZOz5eXC"
      },
      "source": [
        "# 6.1 판다스 데이터프레임과 시리즈"
      ]
    },
    {
      "cell_type": "markdown",
      "metadata": {
        "id": "smHjQUhs5YHe"
      },
      "source": [
        "## 6.1.1 시리즈 만들기"
      ]
    },
    {
      "cell_type": "code",
      "metadata": {
        "colab": {
          "base_uri": "https://localhost:8080/"
        },
        "id": "FeXVh6lj5cZF",
        "outputId": "fd5aa0bc-2eba-43bc-aa01-8da803729795"
      },
      "source": [
        "# 판다스의 Series 메서드에 리스트를 전달하여 시리즈를 생성한다.\r\n",
        "import pandas as pd\r\n",
        "s = pd.Series(['banana', 42])\r\n",
        "print(s)"
      ],
      "execution_count": 1,
      "outputs": [
        {
          "output_type": "stream",
          "text": [
            "0    banana\n",
            "1        42\n",
            "dtype: object\n"
          ],
          "name": "stdout"
        }
      ]
    },
    {
      "cell_type": "code",
      "metadata": {
        "colab": {
          "base_uri": "https://localhost:8080/"
        },
        "id": "YCLUDYdX5cjj",
        "outputId": "3bb0bb1d-9724-4b97-8d09-4d9f09648e4e"
      },
      "source": [
        "# 시리즈를 생성할 때 문자열을 인덱스로 지정할 수도 있다.\r\n",
        "# Series 메서드의 index 인자를 통해 인덱스로 사용하고자 하는 문자열을 리스트에 담아 전달한다.\r\n",
        "s = pd.Series(['Wes Mckinney', 'creator of Pandas'])\r\n",
        "print(s)"
      ],
      "execution_count": 3,
      "outputs": [
        {
          "output_type": "stream",
          "text": [
            "0         Wes Mckinney\n",
            "1    creator of Pandas\n",
            "dtype: object\n"
          ],
          "name": "stdout"
        }
      ]
    },
    {
      "cell_type": "code",
      "metadata": {
        "colab": {
          "base_uri": "https://localhost:8080/"
        },
        "id": "YGEc9hR85crt",
        "outputId": "ae9de117-1ece-4585-ebf0-36af05a1c300"
      },
      "source": [
        "s = pd.Series(['Wes Mckinney', 'creator of Pandas'], index = ['Person','who'])\r\n",
        "print(s)"
      ],
      "execution_count": 4,
      "outputs": [
        {
          "output_type": "stream",
          "text": [
            "Person         Wes Mckinney\n",
            "who       creator of Pandas\n",
            "dtype: object\n"
          ],
          "name": "stdout"
        }
      ]
    },
    {
      "cell_type": "code",
      "metadata": {
        "colab": {
          "base_uri": "https://localhost:8080/"
        },
        "id": "vM4A9cvV5cyI",
        "outputId": "7bc2a3e6-0996-45b6-883d-e0e0cd0629e8"
      },
      "source": [
        "a = pd.Series(['Diana Kang', 'CEO'])\r\n",
        "print(a)"
      ],
      "execution_count": 5,
      "outputs": [
        {
          "output_type": "stream",
          "text": [
            "0    Diana Kang\n",
            "1           CEO\n",
            "dtype: object\n"
          ],
          "name": "stdout"
        }
      ]
    },
    {
      "cell_type": "code",
      "metadata": {
        "colab": {
          "base_uri": "https://localhost:8080/"
        },
        "id": "jtawkpgY5c4i",
        "outputId": "16ecce60-b858-45d1-b03f-58696c0dd58f"
      },
      "source": [
        "a = pd.Series(['Diana Kang', 'CEO'], index = ['Person', 'who'])\r\n",
        "print(a)"
      ],
      "execution_count": 6,
      "outputs": [
        {
          "output_type": "stream",
          "text": [
            "Person    Diana Kang\n",
            "who              CEO\n",
            "dtype: object\n"
          ],
          "name": "stdout"
        }
      ]
    },
    {
      "cell_type": "markdown",
      "metadata": {
        "id": "kinmq6MG66YS"
      },
      "source": [
        "## 6.1.2 데이터프레임 만들기"
      ]
    },
    {
      "cell_type": "code",
      "metadata": {
        "colab": {
          "base_uri": "https://localhost:8080/"
        },
        "id": "EJzZG7Pp5c-7",
        "outputId": "3abd647d-e68b-4cf9-f72c-e7c496e35d85"
      },
      "source": [
        "# 데이터프레임을 만들기 위해서는 딕셔너리 DataFrame 클래스에 전달해야한다.\r\n",
        "# 딕셔너리는 {key:value} 값을 갖는다.\r\n",
        "scientists = pd.DataFrame({\r\n",
        "    'Name' : ['Geoffrey Everest Hinton', 'Marvin Lee Minsky'],\r\n",
        "    'Occupation' : ['pioneer in AI', 'pioneer in AI'],\r\n",
        "    'Born' : ['1947-12-06','1927-08-09'],\r\n",
        "    'Died' : ['_', '2016-01-24'],\r\n",
        "    'Age' : [73, 88] \r\n",
        "\r\n",
        "})\r\n",
        "print(scientists)\r\n",
        "\r\n",
        "# 시리즈와 마찬가지로 데이터프레임도 인덱스를 따로 지정하지 않으면 인덱스를 0부터 자동으로 생성한다.\r\n",
        "# 인덱스를 따로 지정하려면 index 인자에 리스트를 전달하면 된다."
      ],
      "execution_count": 7,
      "outputs": [
        {
          "output_type": "stream",
          "text": [
            "                      Name     Occupation        Born        Died  Age\n",
            "0  Geoffrey Everest Hinton  pioneer in AI  1947-12-06           _   73\n",
            "1        Marvin Lee Minsky  pioneer in AI  1927-08-09  2016-01-24   88\n"
          ],
          "name": "stdout"
        }
      ]
    },
    {
      "cell_type": "code",
      "metadata": {
        "colab": {
          "base_uri": "https://localhost:8080/"
        },
        "id": "jum3I7mM5dGA",
        "outputId": "46a602e0-fad4-45d2-c965-06fd5112b132"
      },
      "source": [
        "# columns 인자를 사용하여 데이터프레임의 열 순서 지정하기\r\n",
        "scientists = pd.DataFrame(\r\n",
        "    data = {'Occupation' : ['pioneer in AI', 'pioneer in AI'],\r\n",
        "            'Born' : ['1947-12-06','1927-08-09'],\r\n",
        "            'Died' : ['__', '2016-01-24'],\r\n",
        "            'Age' : [73, 88]},\r\n",
        "    index = ['Geoffrey Everest Hinton', 'Marvin Lee Minsky'],   # 행\r\n",
        "    columns = ['Occupation', 'Born', 'Age', 'Died'])            # 열\r\n",
        "\r\n",
        "print(scientists)\r\n",
        "# 데이터프레임을 만들 때 Occupation, Born, Died, Age의 순서로 딕셔너리를 전달했어도, \r\n",
        "# colums 인자에 Occupation, Born, Age, Died의 순서로 열 이름을 전달하면 생성된 데이터프레임의 열 순서는 columns에 전달한 값을 따라간다."
      ],
      "execution_count": 11,
      "outputs": [
        {
          "output_type": "stream",
          "text": [
            "                            Occupation        Born  Age        Died\n",
            "Geoffrey Everest Hinton  pioneer in AI  1947-12-06   73          __\n",
            "Marvin Lee Minsky        pioneer in AI  1927-08-09   88  2016-01-24\n"
          ],
          "name": "stdout"
        }
      ]
    },
    {
      "cell_type": "markdown",
      "metadata": {
        "id": "dtzMGcpN9E76"
      },
      "source": [
        "# 6.2 시리즈 다루기 - 기초편"
      ]
    },
    {
      "cell_type": "code",
      "metadata": {
        "id": "CXLCzZMw5dMQ"
      },
      "source": [
        "# 판다스의 데이터를 구성하는 가장 기본적인 단위는 시리즈이다.\r\n",
        "# 이번에는 데이터프레임에서 시리즈를 선택하는 방법에 대해 살펴볼 것이다."
      ],
      "execution_count": null,
      "outputs": []
    },
    {
      "cell_type": "markdown",
      "metadata": {
        "id": "-rHfriWC9RJA"
      },
      "source": [
        "## 6.2.1 데이터프레임에서 시리즈 선택하기"
      ]
    },
    {
      "cell_type": "code",
      "metadata": {
        "id": "KQxTtNJX5dSS"
      },
      "source": [
        "# 먼저 변수 scientists에 데이터프레임을 준비한다."
      ],
      "execution_count": null,
      "outputs": []
    },
    {
      "cell_type": "code",
      "metadata": {
        "id": "tiVQHAhb9Up-"
      },
      "source": [
        "scientists = pd.DataFrame(\r\n",
        "    data = {'Occupation' : ['pioneer in Ai','pioneer in A.I'],\r\n",
        "            'Born' : ['1947-12-06','1927-08-09'],\r\n",
        "            'Died' : ['__', '2016-01-24'],\r\n",
        "            'Age' : [73, 88]},\r\n",
        "    index = ['Geoffrey Everest Hinton', 'Marvin Lee Minsky'],\r\n",
        "    columns = ['Occupation', 'Born', 'Died','Age'])"
      ],
      "execution_count": 12,
      "outputs": []
    },
    {
      "cell_type": "code",
      "metadata": {
        "colab": {
          "base_uri": "https://localhost:8080/"
        },
        "id": "2MhSdsGp9UwK",
        "outputId": "076156d7-6611-4f5c-b2b2-f3c97b75e281"
      },
      "source": [
        "# 데이터프레임에서 시리즈를 선택하려면 loc속성에 인덱스를 전달하면 된다.\r\n",
        "# type을 통해 시리즈가 맞는지 다시 한 번 확인한다.\r\n",
        "first_row = scientists.loc['Geoffrey Everest Hinton']\r\n",
        "print(type(first_row))"
      ],
      "execution_count": 13,
      "outputs": [
        {
          "output_type": "stream",
          "text": [
            "<class 'pandas.core.series.Series'>\n"
          ],
          "name": "stdout"
        }
      ]
    },
    {
      "cell_type": "code",
      "metadata": {
        "colab": {
          "base_uri": "https://localhost:8080/"
        },
        "id": "HyM5hC_59U3p",
        "outputId": "d15f041f-68ad-4760-9e36-eb276c84d3b7"
      },
      "source": [
        "# 데이터프레임을 만들 때 Age열에 정수형 리스트를 전달해도 시리즈(first_row)를 출력해보면 object(문자열)로 인식한다.\r\n",
        "print(first_row)\r\n",
        "# Died의 값이 _인 것은 값이 없다는 것이다. 프로그래밍에서는 값이 없을 때, _(언더바)를 넣어준다."
      ],
      "execution_count": 14,
      "outputs": [
        {
          "output_type": "stream",
          "text": [
            "Occupation    pioneer in Ai\n",
            "Born             1947-12-06\n",
            "Died                     __\n",
            "Age                      73\n",
            "Name: Geoffrey Everest Hinton, dtype: object\n"
          ],
          "name": "stdout"
        }
      ]
    },
    {
      "cell_type": "code",
      "metadata": {
        "id": "37UPFZ005dZl"
      },
      "source": [
        ""
      ],
      "execution_count": null,
      "outputs": []
    },
    {
      "cell_type": "code",
      "metadata": {
        "id": "N7vr8hT6_gXH"
      },
      "source": [
        ""
      ],
      "execution_count": null,
      "outputs": []
    },
    {
      "cell_type": "code",
      "metadata": {
        "id": "rulvd5Nc_gfV"
      },
      "source": [
        ""
      ],
      "execution_count": null,
      "outputs": []
    },
    {
      "cell_type": "code",
      "metadata": {
        "id": "lvDcu3mb_glv"
      },
      "source": [
        ""
      ],
      "execution_count": null,
      "outputs": []
    },
    {
      "cell_type": "code",
      "metadata": {
        "id": "njd8_bD5_gtI"
      },
      "source": [
        ""
      ],
      "execution_count": null,
      "outputs": []
    },
    {
      "cell_type": "code",
      "metadata": {
        "id": "GFvA_1ET_gy9"
      },
      "source": [
        ""
      ],
      "execution_count": null,
      "outputs": []
    },
    {
      "cell_type": "code",
      "metadata": {
        "id": "gQnmKwm9_g5I"
      },
      "source": [
        ""
      ],
      "execution_count": null,
      "outputs": []
    },
    {
      "cell_type": "code",
      "metadata": {
        "id": "9K9irJrr_hII"
      },
      "source": [
        ""
      ],
      "execution_count": null,
      "outputs": []
    },
    {
      "cell_type": "code",
      "metadata": {
        "id": "RzF-tzlD_hP0"
      },
      "source": [
        ""
      ],
      "execution_count": null,
      "outputs": []
    }
  ]
}